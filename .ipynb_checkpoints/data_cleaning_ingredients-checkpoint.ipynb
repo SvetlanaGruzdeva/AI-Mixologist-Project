{
 "cells": [
  {
   "cell_type": "code",
   "execution_count": 1,
   "metadata": {},
   "outputs": [],
   "source": [
    "import re\n",
    "import pandas as pd\n",
    "import numpy as np\n",
    "from fractions import Fraction"
   ]
  },
  {
   "cell_type": "code",
   "execution_count": 2,
   "metadata": {},
   "outputs": [],
   "source": [
    "df_cocktails = pd.read_csv('./raw_data/stage0.csv')\n",
    "df_cocktails.drop('Unnamed: 0', axis=1, inplace=True)\n",
    "\n",
    "df_cons = pd.read_csv('./clean_data/data_fixed_measures.csv')\n",
    "df_cons.drop('Unnamed: 0', axis=1, inplace=True)"
   ]
  },
  {
   "cell_type": "code",
   "execution_count": 3,
   "metadata": {},
   "outputs": [
    {
     "data": {
      "text/html": [
       "<div>\n",
       "<style scoped>\n",
       "    .dataframe tbody tr th:only-of-type {\n",
       "        vertical-align: middle;\n",
       "    }\n",
       "\n",
       "    .dataframe tbody tr th {\n",
       "        vertical-align: top;\n",
       "    }\n",
       "\n",
       "    .dataframe thead th {\n",
       "        text-align: right;\n",
       "    }\n",
       "</style>\n",
       "<table border=\"1\" class=\"dataframe\">\n",
       "  <thead>\n",
       "    <tr style=\"text-align: right;\">\n",
       "      <th></th>\n",
       "      <th>strDrink</th>\n",
       "      <th>strCategory</th>\n",
       "      <th>strGlass</th>\n",
       "      <th>strIngredients</th>\n",
       "      <th>strInstructions</th>\n",
       "      <th>strMeasures</th>\n",
       "      <th>Value</th>\n",
       "      <th>MeasureName</th>\n",
       "      <th>Value_numeric</th>\n",
       "      <th>Value_ml</th>\n",
       "      <th>Value_gr</th>\n",
       "      <th>Garnish_amount</th>\n",
       "      <th>Garnish_type</th>\n",
       "      <th>MeasureName_copy</th>\n",
       "    </tr>\n",
       "  </thead>\n",
       "  <tbody>\n",
       "    <tr>\n",
       "      <th>0</th>\n",
       "      <td>'57 Chevy with a White License Plate</td>\n",
       "      <td>Cocktail</td>\n",
       "      <td>Highball glass</td>\n",
       "      <td>Creme De Cacao White</td>\n",
       "      <td>1. Fill a rocks glass with ice 2.add white cre...</td>\n",
       "      <td>1 oz white</td>\n",
       "      <td>1</td>\n",
       "      <td>oz</td>\n",
       "      <td>1.0</td>\n",
       "      <td>30.0</td>\n",
       "      <td>NaN</td>\n",
       "      <td>NaN</td>\n",
       "      <td>NaN</td>\n",
       "      <td>white</td>\n",
       "    </tr>\n",
       "    <tr>\n",
       "      <th>1</th>\n",
       "      <td>1-900-FUK-MEUP</td>\n",
       "      <td>Shot</td>\n",
       "      <td>Old-fashioned glass</td>\n",
       "      <td>Absolut Kurant</td>\n",
       "      <td>Shake ingredients in a mixing tin filled with ...</td>\n",
       "      <td>1/2 oz</td>\n",
       "      <td>1/2</td>\n",
       "      <td>oz</td>\n",
       "      <td>0.5</td>\n",
       "      <td>15.0</td>\n",
       "      <td>NaN</td>\n",
       "      <td>NaN</td>\n",
       "      <td>NaN</td>\n",
       "      <td>oz</td>\n",
       "    </tr>\n",
       "    <tr>\n",
       "      <th>2</th>\n",
       "      <td>110 in the shade</td>\n",
       "      <td>Beer</td>\n",
       "      <td>Beer Glass</td>\n",
       "      <td>Lager</td>\n",
       "      <td>Drop shooter in glass. Fill with beer</td>\n",
       "      <td>16 oz</td>\n",
       "      <td>16</td>\n",
       "      <td>oz</td>\n",
       "      <td>16.0</td>\n",
       "      <td>480.0</td>\n",
       "      <td>NaN</td>\n",
       "      <td>NaN</td>\n",
       "      <td>NaN</td>\n",
       "      <td>oz</td>\n",
       "    </tr>\n",
       "    <tr>\n",
       "      <th>3</th>\n",
       "      <td>151 Florida Bushwacker</td>\n",
       "      <td>Milk / Float / Shake</td>\n",
       "      <td>Beer mug</td>\n",
       "      <td>Malibu Rum</td>\n",
       "      <td>Combine all ingredients. Blend until smooth. G...</td>\n",
       "      <td>1/2 oz</td>\n",
       "      <td>1/2</td>\n",
       "      <td>oz</td>\n",
       "      <td>0.5</td>\n",
       "      <td>15.0</td>\n",
       "      <td>NaN</td>\n",
       "      <td>NaN</td>\n",
       "      <td>NaN</td>\n",
       "      <td>oz</td>\n",
       "    </tr>\n",
       "    <tr>\n",
       "      <th>4</th>\n",
       "      <td>155 Belmont</td>\n",
       "      <td>Cocktail</td>\n",
       "      <td>White wine glass</td>\n",
       "      <td>Dark Rum</td>\n",
       "      <td>Blend with ice. Serve in a wine glass. Garnish...</td>\n",
       "      <td>1 shot</td>\n",
       "      <td>1</td>\n",
       "      <td>shot</td>\n",
       "      <td>1.0</td>\n",
       "      <td>25.0</td>\n",
       "      <td>NaN</td>\n",
       "      <td>NaN</td>\n",
       "      <td>NaN</td>\n",
       "      <td>shot</td>\n",
       "    </tr>\n",
       "  </tbody>\n",
       "</table>\n",
       "</div>"
      ],
      "text/plain": [
       "                               strDrink           strCategory  \\\n",
       "0  '57 Chevy with a White License Plate              Cocktail   \n",
       "1                        1-900-FUK-MEUP                  Shot   \n",
       "2                      110 in the shade                  Beer   \n",
       "3                151 Florida Bushwacker  Milk / Float / Shake   \n",
       "4                           155 Belmont              Cocktail   \n",
       "\n",
       "              strGlass        strIngredients  \\\n",
       "0       Highball glass  Creme De Cacao White   \n",
       "1  Old-fashioned glass        Absolut Kurant   \n",
       "2           Beer Glass                 Lager   \n",
       "3             Beer mug            Malibu Rum   \n",
       "4     White wine glass              Dark Rum   \n",
       "\n",
       "                                     strInstructions strMeasures Value  \\\n",
       "0  1. Fill a rocks glass with ice 2.add white cre...  1 oz white     1   \n",
       "1  Shake ingredients in a mixing tin filled with ...      1/2 oz   1/2   \n",
       "2              Drop shooter in glass. Fill with beer       16 oz    16   \n",
       "3  Combine all ingredients. Blend until smooth. G...      1/2 oz   1/2   \n",
       "4  Blend with ice. Serve in a wine glass. Garnish...      1 shot     1   \n",
       "\n",
       "  MeasureName  Value_numeric  Value_ml  Value_gr Garnish_amount Garnish_type  \\\n",
       "0          oz            1.0      30.0       NaN            NaN          NaN   \n",
       "1          oz            0.5      15.0       NaN            NaN          NaN   \n",
       "2          oz           16.0     480.0       NaN            NaN          NaN   \n",
       "3          oz            0.5      15.0       NaN            NaN          NaN   \n",
       "4        shot            1.0      25.0       NaN            NaN          NaN   \n",
       "\n",
       "  MeasureName_copy  \n",
       "0            white  \n",
       "1               oz  \n",
       "2               oz  \n",
       "3               oz  \n",
       "4             shot  "
      ]
     },
     "execution_count": 3,
     "metadata": {},
     "output_type": "execute_result"
    }
   ],
   "source": [
    "df_cons.head()"
   ]
  },
  {
   "cell_type": "code",
   "execution_count": 4,
   "metadata": {},
   "outputs": [],
   "source": [
    "# Set up new columns to be filled in later\n",
    "\n",
    "df_cons[['Alc_type', 'Basic_taste']] = np.nan\n",
    "df_cons[['Alc_type', 'Basic_taste']] = df_cons[['Alc_type', 'Basic_taste']].astype('object')\n",
    "df_cons = df_cons[['strDrink', 'strCategory', 'strGlass', 'strIngredients', 'Alc_type', 'Basic_taste', 'strInstructions',\n",
    "                   'strMeasures', 'Value', 'MeasureName', 'Value_numeric', 'Value_ml', 'Value_gr', 'Garnish_amount',\n",
    "                   'Garnish_type', 'MeasureName_copy']]"
   ]
  },
  {
   "cell_type": "code",
   "execution_count": 5,
   "metadata": {},
   "outputs": [],
   "source": [
    "alc_type = {'Vodka':'Vodka', 'Rum':'Rum', 'Tequila':'Tequila', 'Schnapps':'Schnapps', 'Gin':'Gin', 'Triple Sec':'Triple Sec',\n",
    "            'Scotch':'Whisky', 'Wine':'Wine', 'Absolut':'Vodka', 'Champagne':'Champagne', 'Cider':'Cider', 'Port':'Port',\n",
    "            'Prosecco':'Prosecco', 'Brandy':'Brandy', 'Bacardi':'Rum', 'Whiskey':'Whisky', 'Absinthe':'Absinthe',\n",
    "            'Creme De':'Creamy Liqueur', 'Bitter':'Bitter', 'Bitters':'Bitter', 'Vermouth':'Vermouth',\n",
    "            'Cointreau':'Triple Sec', \"Irish Cream\":'Creamy Liqueur', 'Sambuca':'Sambuca', 'Lager':'Beer',\n",
    "            'Jack Daniels':'Whisky', 'Goldschlager':'Schnapps', 'Kahlua':'Creamy Liqueur', 'Applejack':'Brandy',\n",
    "            'Menthe':'Sweet Liqueur', 'Southern Comfort':'Sweet Liqueur', 'Chocolate Liqueur':'Creamy Liqueur',\n",
    "            'Campari':'Campari', 'Maui Blue':'Schnapps', 'Jägermeister':'Bitter', 'Crown Royal':'Whisky', 'Everclear':'Vodka',\n",
    "            'Ale':'Beer', 'Stout':'Beer', 'Midori Melon Liqueur':'Sweet Liqueur', 'Bourbon':'Whisky', 'Corona':'Beer',\n",
    "            'Banana Liqueur':'Sweet Liqueur', 'Cherry Heering':'Sweet Liqueur', 'Whisky':'Whisky', 'Dubonnet Rouge':'Wine',\n",
    "            'Pisco':'Pisco', 'Cognac':'Brandy', 'Firewater':'Vodka', 'Galliano':'Sweet Liqueur', 'Cachaca':'Cachaca',\n",
    "            'Curacao':'Triple Sec', 'Amaretto':'Sweet Liqueur', 'Creme De Cassis':'Sweet Liqueur',\n",
    "            'Frangelico':'Sweet Liqueur', 'Kiwi Liqueur':'Sweet Liqueur', 'Ricard':'Sweet Liqueur', 'Jim Beam':'Whisky',\n",
    "            'Advocaat':'Creamy Liqueur', 'Ouzo':'Ouzo', 'Godiva Liqueur':'Creamy Liqueur', 'Grand Marnier':'Triple Sec',\n",
    "            'Yukon Jack':'Sweet Liqueur', 'Wild Turkey':'Whisky', 'Zima':'Beer', 'Raspberry Liqueur':'Sweet Liqueur',\n",
    "            'Johnnie Walker':'Whisky', 'Kirschwasser':'Brandy', 'Pisang Ambon':'Sweet Liqueur', 'Sherry Dry':'Brandy',\n",
    "            'Creme De Banane':'Sweet Liqueur', 'Coconut Liqueur':'Sweet Liqueur', 'Tia Maria':'Creamy Liqueur',\n",
    "            'Maraschino Liqueur':'Sweet Liqueur', 'Benedictine':'Sweet Liqueur', 'Chartreuse':'Sweet Liqueur',\n",
    "            'Alcohol':'Vodka', 'Apfelkorn':'Sweet Liqueur', 'Drambuie':'Whisky', 'Cherry Liqueur':'Sweet Liqueur',\n",
    "            'Aquavit':'Vodka', 'Strawberry Liqueur':'Sweet Liqueur', 'Aperol':'Aperol', 'Lillet Blanc':'Sweet Liqueur',\n",
    "            'Melon Liqueur':'Sweet Liqueur', 'Hot Damn':'Schnapps', 'Rub':'Rum'\n",
    "           }"
   ]
  },
  {
   "cell_type": "code",
   "execution_count": 6,
   "metadata": {},
   "outputs": [],
   "source": [
    "non_alc_taste = {'Cranberry':'sour', 'Cream':'cream', 'Tea':'bitter', 'Coffee':'bitter', 'Lemon':'sour', 'Lime':'sour',\n",
    "                 'Apple':'sweet', 'Sour Mix':'sour', '7-Up':'sweet', 'Sugar':'sweet', 'Grenadine':'sweet', 'Egg':'egg',\n",
    "                 'Kool-Aid':'sweet', 'Water':'water', 'Mint':'mint', 'Orange Juice':'sweet', 'Sprite':'sweet',\n",
    "                 'Grapefruit Juice':'bitter', 'Pineapple Juice':'sweet', 'Cola':'sweet', 'Peach Nectar':'sweet',\n",
    "                 'Sweet And Sour':'sweet', 'Soda':'sweet', 'Mountain Dew':'sweet', 'Milk':'cream', 'Syrup':'sweet',\n",
    "                 'Root Beer':'sweet', 'Orange':'sweet', 'Tomato Juice':'salty', 'Tabasco':'spicy', 'Sarsaparilla':'sweet',\n",
    "                 'Pineapple':'sweet', 'Jello':'sweet', 'Anis':'spicy', 'Schweppes':'bitter', 'Tropicana':'sweet', 'Surge':'sweet',\n",
    "                 'Cinnamon':'spicy', 'Banana':'sweet', 'Olive Brine':'salty','Olive':'salty', 'Salt':'salty',\n",
    "                 'Vanilla Extract':'sweet', 'Fruit Punch':'sweet', 'Cocoa Powder':'sweet', 'Cloves':'spicy',\n",
    "                 'Blackcurrant Squash':'sweet', 'Blackcurrant Cordial':'sweet', 'Grape Juice Unsweetened':'sour',\n",
    "                 'Cherry':'sweet', 'Strawberries':'sweet', 'Hot Chocolate':'cream', 'Nutmeg':'spicy',\n",
    "                 'Worcestershire Sauce':'salty', 'St. Germain':'sweet', 'Dr. Pepper':'sweet', 'Sirup':'sweet',\n",
    "                 'Oreo Cookie':'cream', 'Berries':'sweet', 'Snickers':'sweet', 'Allspice':'spicy', 'Lavender':'spicy',\n",
    "                 'Caramel Sauce':'sweet', 'Chocolate Sauce':'sweet', 'Kummel':'spicy', 'Daiquiri Mix':'sweet',\n",
    "                 'Half-And-Half':'cream', 'Fruit Juice':'sweet', 'Cherry':'sweet', 'Cherries':'sweet', 'Candy':'sweet',\n",
    "                 'Pepper':'spicy'\n",
    "                }"
   ]
  },
  {
   "cell_type": "code",
   "execution_count": 7,
   "metadata": {},
   "outputs": [],
   "source": [
    "# Here can be a function processing both dictionaries in one go, but due to time preasure let's leave it."
   ]
  },
  {
   "cell_type": "code",
   "execution_count": 8,
   "metadata": {},
   "outputs": [],
   "source": [
    "for key, value in alc_type.items():\n",
    "    df_cons['Alc_type'] = np.where(df_cons['strIngredients'].str.contains(key), alc_type[key], df_cons['Alc_type'])"
   ]
  },
  {
   "cell_type": "code",
   "execution_count": 9,
   "metadata": {
    "scrolled": true
   },
   "outputs": [],
   "source": [
    "for key, value in non_alc_taste.items():\n",
    "    df_cons['Basic_taste'] = np.where((df_cons['strIngredients'].str.contains(key)) & (df_cons['Alc_type'].isnull()),\n",
    "                                      non_alc_taste[key], df_cons['Basic_taste'])"
   ]
  },
  {
   "cell_type": "code",
   "execution_count": 10,
   "metadata": {},
   "outputs": [],
   "source": [
    "# To be handled separatelly.\n",
    "\n",
    "# Beer\n",
    "df_cons['Alc_type'] = np.where(df_cons['strIngredients'] == 'Beer', 'Beer', df_cons['Alc_type'])\n",
    "\n",
    "# Ginger Beer\n",
    "df_cons['Alc_type'] = np.where(df_cons['strIngredients'] == 'Ginger Beer', np.nan, df_cons['Alc_type'])\n",
    "df_cons['Basic_taste'] = np.where(df_cons['strIngredients'] == 'Ginger Beer','sweet', df_cons['Basic_taste'])"
   ]
  },
  {
   "cell_type": "code",
   "execution_count": 11,
   "metadata": {},
   "outputs": [],
   "source": [
    "# Checks for missing errors"
   ]
  },
  {
   "cell_type": "code",
   "execution_count": 12,
   "metadata": {},
   "outputs": [
    {
     "data": {
      "text/html": [
       "<div>\n",
       "<style scoped>\n",
       "    .dataframe tbody tr th:only-of-type {\n",
       "        vertical-align: middle;\n",
       "    }\n",
       "\n",
       "    .dataframe tbody tr th {\n",
       "        vertical-align: top;\n",
       "    }\n",
       "\n",
       "    .dataframe thead th {\n",
       "        text-align: right;\n",
       "    }\n",
       "</style>\n",
       "<table border=\"1\" class=\"dataframe\">\n",
       "  <thead>\n",
       "    <tr style=\"text-align: right;\">\n",
       "      <th></th>\n",
       "      <th>strDrink</th>\n",
       "      <th>strCategory</th>\n",
       "      <th>strGlass</th>\n",
       "      <th>strIngredients</th>\n",
       "      <th>Alc_type</th>\n",
       "      <th>Basic_taste</th>\n",
       "      <th>strInstructions</th>\n",
       "      <th>strMeasures</th>\n",
       "      <th>Value</th>\n",
       "      <th>MeasureName</th>\n",
       "      <th>Value_numeric</th>\n",
       "      <th>Value_ml</th>\n",
       "      <th>Value_gr</th>\n",
       "      <th>Garnish_amount</th>\n",
       "      <th>Garnish_type</th>\n",
       "      <th>MeasureName_copy</th>\n",
       "    </tr>\n",
       "  </thead>\n",
       "  <tbody>\n",
       "  </tbody>\n",
       "</table>\n",
       "</div>"
      ],
      "text/plain": [
       "Empty DataFrame\n",
       "Columns: [strDrink, strCategory, strGlass, strIngredients, Alc_type, Basic_taste, strInstructions, strMeasures, Value, MeasureName, Value_numeric, Value_ml, Value_gr, Garnish_amount, Garnish_type, MeasureName_copy]\n",
       "Index: []"
      ]
     },
     "execution_count": 12,
     "metadata": {},
     "output_type": "execute_result"
    }
   ],
   "source": [
    "df_cons.loc[(~df_cons['Alc_type'].isnull()) & (~df_cons['Basic_taste'].isnull())]"
   ]
  },
  {
   "cell_type": "code",
   "execution_count": 13,
   "metadata": {},
   "outputs": [
    {
     "data": {
      "text/html": [
       "<div>\n",
       "<style scoped>\n",
       "    .dataframe tbody tr th:only-of-type {\n",
       "        vertical-align: middle;\n",
       "    }\n",
       "\n",
       "    .dataframe tbody tr th {\n",
       "        vertical-align: top;\n",
       "    }\n",
       "\n",
       "    .dataframe thead th {\n",
       "        text-align: right;\n",
       "    }\n",
       "</style>\n",
       "<table border=\"1\" class=\"dataframe\">\n",
       "  <thead>\n",
       "    <tr style=\"text-align: right;\">\n",
       "      <th></th>\n",
       "      <th>strDrink</th>\n",
       "      <th>strCategory</th>\n",
       "      <th>strGlass</th>\n",
       "      <th>strIngredients</th>\n",
       "      <th>Alc_type</th>\n",
       "      <th>Basic_taste</th>\n",
       "      <th>strInstructions</th>\n",
       "      <th>strMeasures</th>\n",
       "      <th>Value</th>\n",
       "      <th>MeasureName</th>\n",
       "      <th>Value_numeric</th>\n",
       "      <th>Value_ml</th>\n",
       "      <th>Value_gr</th>\n",
       "      <th>Garnish_amount</th>\n",
       "      <th>Garnish_type</th>\n",
       "      <th>MeasureName_copy</th>\n",
       "    </tr>\n",
       "  </thead>\n",
       "  <tbody>\n",
       "  </tbody>\n",
       "</table>\n",
       "</div>"
      ],
      "text/plain": [
       "Empty DataFrame\n",
       "Columns: [strDrink, strCategory, strGlass, strIngredients, Alc_type, Basic_taste, strInstructions, strMeasures, Value, MeasureName, Value_numeric, Value_ml, Value_gr, Garnish_amount, Garnish_type, MeasureName_copy]\n",
       "Index: []"
      ]
     },
     "execution_count": 13,
     "metadata": {},
     "output_type": "execute_result"
    }
   ],
   "source": [
    "df_cons.loc[(df_cons['Alc_type'].isnull()) & (df_cons['Basic_taste'].isnull())]"
   ]
  },
  {
   "cell_type": "code",
   "execution_count": 14,
   "metadata": {},
   "outputs": [],
   "source": [
    "df_cons.to_csv('./clean_data/clean_data.csv')"
   ]
  }
 ],
 "metadata": {
  "kernelspec": {
   "display_name": "Python 3",
   "language": "python",
   "name": "python3"
  },
  "language_info": {
   "codemirror_mode": {
    "name": "ipython",
    "version": 3
   },
   "file_extension": ".py",
   "mimetype": "text/x-python",
   "name": "python",
   "nbconvert_exporter": "python",
   "pygments_lexer": "ipython3",
   "version": "3.8.3"
  }
 },
 "nbformat": 4,
 "nbformat_minor": 4
}
