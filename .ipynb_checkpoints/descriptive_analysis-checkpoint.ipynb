{
 "cells": [
  {
   "cell_type": "code",
   "execution_count": 1,
   "metadata": {},
   "outputs": [],
   "source": [
    "# Script to hide code\n",
    "\n",
    "# from IPython.display import HTML\n",
    "\n",
    "# HTML('''<script>\n",
    "# code_show=true; \n",
    "# function code_toggle() {\n",
    "#  if (code_show){\n",
    "#  $('div.input').hide();\n",
    "#  } else {\n",
    "#  $('div.input').show();\n",
    "#  }\n",
    "#  code_show = !code_show\n",
    "# } \n",
    "# $( document ).ready(code_toggle);\n",
    "# </script>\n",
    "# <form action=\"javascript:code_toggle()\"><input type=\"submit\" value=\"Click here to toggle on/off the raw code.\"></form>''')"
   ]
  },
  {
   "cell_type": "code",
   "execution_count": 2,
   "metadata": {},
   "outputs": [],
   "source": [
    "# import warnings\n",
    "import pandas as pd\n",
    "import numpy as np\n",
    "import nltk\n",
    "import collections\n",
    "import random\n",
    "import matplotlib.pyplot as plt\n",
    "import seaborn as sns\n",
    "\n",
    "# import matplotlib.pyplot as plt\n",
    "# import seaborn as sns\n",
    "# import os\n",
    "# import re\n",
    "# import math\n",
    "# from sqlalchemy import create_engine\n",
    "# import pymysql\n",
    "# import requests\n",
    "# from bs4 import BeautifulSoup\n",
    "# from sklearn.linear_model import LinearRegression\n",
    "# from statsmodels.tsa.ar_model import AR\n",
    "# from statsmodels.tools.eval_measures import rmse\n",
    "# from scipy import stats"
   ]
  },
  {
   "cell_type": "code",
   "execution_count": 3,
   "metadata": {},
   "outputs": [],
   "source": [
    "pd.set_option('display.max_columns', 100)\n",
    "# warnings.filterwarnings('ignore')"
   ]
  },
  {
   "cell_type": "code",
   "execution_count": 4,
   "metadata": {},
   "outputs": [],
   "source": [
    "df = pd.read_csv('./clean_data/clean_data.csv')\n",
    "df.drop('Unnamed: 0', axis=1, inplace=True)"
   ]
  },
  {
   "cell_type": "code",
   "execution_count": 5,
   "metadata": {},
   "outputs": [],
   "source": [
    "%run ./main.py"
   ]
  },
  {
   "cell_type": "markdown",
   "metadata": {},
   "source": [
    "**Pairs, formed using basic taste.**"
   ]
  },
  {
   "cell_type": "code",
   "execution_count": 6,
   "metadata": {},
   "outputs": [],
   "source": [
    "df_with_tastes = df_processed[['strDrink', 'Ingredients', 'Alc_type', 'Basic_taste']]"
   ]
  },
  {
   "cell_type": "code",
   "execution_count": 7,
   "metadata": {},
   "outputs": [],
   "source": [
    "# Replace non-alcoholic ingredients as they are with basic tastes\n",
    "\n",
    "df_with_tastes['Ingredients'] = np.where(~df_with_tastes['Basic_taste'].isnull(), df_with_tastes['Basic_taste'],\n",
    "                                                                                                 df_with_tastes['Ingredients'])\n",
    "df_with_tastes.drop(['Alc_type', 'Basic_taste'], axis=1, inplace=True)"
   ]
  },
  {
   "cell_type": "code",
   "execution_count": 8,
   "metadata": {},
   "outputs": [],
   "source": [
    "# Reallocate ingredients as columns so each column takes only one row\n",
    "\n",
    "df_with_tastes = df_with_tastes[df_with_tastes['Ingredients'] != 'Ingredients']\n",
    "s =  df_with_tastes.groupby('strDrink').cumcount().add(1)\n",
    "df_with_tastes = (df_with_tastes.set_index(['strDrink',s])\n",
    "        .unstack()\n",
    "        .sort_index(axis=1, level=1)\n",
    "       )\n",
    "df_with_tastes.columns = ['{}_{}'.format(a, b) for a,b in df_with_tastes.columns]\n",
    "\n",
    "df_with_tastes = df_with_tastes.reset_index()"
   ]
  },
  {
   "cell_type": "code",
   "execution_count": 9,
   "metadata": {},
   "outputs": [],
   "source": [
    "# Combine all ingredients per cocktial in one column\n",
    "\n",
    "df_with_tastes['Ingredients'] = df_with_tastes.drop(['strDrink'], axis=1).fillna('').apply(lambda x: ' '.join(x), axis=1)\n",
    "df_with_tastes = df_with_tastes[['strDrink', 'Ingredients']]"
   ]
  },
  {
   "cell_type": "code",
   "execution_count": 10,
   "metadata": {},
   "outputs": [],
   "source": [
    "# Generate pairs from ingredients of each cocktail and combine them in one list\n",
    "\n",
    "bigram = [list(nltk.bigrams(nltk.word_tokenize(i))) for i in df_with_tastes['Ingredients']]\n",
    "pairs_list = [j for i in bigram for j in i]\n",
    "# print(len(pairs_list))\n",
    "# pairs_list[:10]"
   ]
  },
  {
   "cell_type": "code",
   "execution_count": 11,
   "metadata": {},
   "outputs": [],
   "source": [
    "# First, define a list of tuples to be amended\n",
    "\n",
    "to_aligh = []\n",
    "for a in pairs_list:\n",
    "    for b in pairs_list:\n",
    "        if a != b:\n",
    "            if b[1] == a[0]:\n",
    "                if b[0] == a[1]:            # If both elements of tuple are equal to the swopped tuple under the check\n",
    "                    if a not in to_aligh and b not in to_aligh:\n",
    "                        to_aligh.append(b)"
   ]
  },
  {
   "cell_type": "code",
   "execution_count": 12,
   "metadata": {},
   "outputs": [],
   "source": [
    "# Next, amend them\n",
    "\n",
    "pairs_taste_list_aligned = []\n",
    "for i in pairs_list:\n",
    "    if i in to_aligh:\n",
    "        pairs_taste_list_aligned.append((i[1], i[0]))\n",
    "    else:\n",
    "        pairs_taste_list_aligned.append(i)"
   ]
  },
  {
   "cell_type": "code",
   "execution_count": 13,
   "metadata": {},
   "outputs": [],
   "source": [
    "# Check that total number of tuples hasn't changed, only content should be amended\n",
    "\n",
    "# len(pairs_taste_list_aligned) == len(pairs_list)"
   ]
  },
  {
   "cell_type": "code",
   "execution_count": 14,
   "metadata": {},
   "outputs": [],
   "source": [
    "pairs_list_flat = [(i[0]+', '+i[1]) for i in pairs_taste_list_aligned]\n",
    "pairs = pd.DataFrame(pairs_list_flat, columns=['pairs'])\n",
    "pairs['pairs'] = pairs['pairs'].apply(lambda x: x.replace('_', ' '))"
   ]
  },
  {
   "cell_type": "code",
   "execution_count": 15,
   "metadata": {},
   "outputs": [],
   "source": [
    "freq = pd.DataFrame(pairs['pairs'].value_counts()).reset_index()\n",
    "freq.columns = ['pairs', 'frequency']"
   ]
  },
  {
   "cell_type": "code",
   "execution_count": 16,
   "metadata": {},
   "outputs": [
    {
     "data": {
      "image/png": "[encoded data removed]",
      "text/plain": [
       "<Figure size 720x576 with 1 Axes>"
      ]
     },
     "metadata": {
      "needs_background": "light"
     },
     "output_type": "display_data"
    }
   ],
   "source": [
    "# Plot the most common pairs\n",
    "\n",
    "plt.figure(figsize = (10,8))\n",
    "# ax = pairs['pairs'].value_counts().nlargest(20).plot.barh()\n",
    "sns.barplot(x='frequency', y='pairs', data=freq.nlargest(10, columns='frequency'))\n",
    "plt.show()"
   ]
  },
  {
   "cell_type": "code",
   "execution_count": 17,
   "metadata": {},
   "outputs": [
    {
     "data": {
      "text/plain": [
       "'Pairs appeared only once: 57.'"
      ]
     },
     "execution_count": 17,
     "metadata": {},
     "output_type": "execute_result"
    }
   ],
   "source": [
    "n = len(freq.loc[freq['frequency'] == 1])\n",
    "f'Pairs appeared only once: {n}.'"
   ]
  },
  {
   "cell_type": "code",
   "execution_count": 18,
   "metadata": {},
   "outputs": [
    {
     "data": {
      "image/png": "[encoded data removed]",
      "text/plain": [
       "<Figure size 720x576 with 1 Axes>"
      ]
     },
     "metadata": {
      "needs_background": "light"
     },
     "output_type": "display_data"
    }
   ],
   "source": [
    "# Plot the least common pairs\n",
    "\n",
    "plt.figure(figsize = (10,8))\n",
    "sns.barplot(x='frequency', y='pairs', data=freq.nsmallest(10, columns='frequency'))\n",
    "plt.show()"
   ]
  },
  {
   "cell_type": "markdown",
   "metadata": {},
   "source": [
    "**Pairs, formed using original non-alcoholic ingredients.**"
   ]
  },
  {
   "cell_type": "code",
   "execution_count": 19,
   "metadata": {},
   "outputs": [],
   "source": [
    "pairs_list_flat = [(i[0]+', '+i[1]) for i in pairs_list_aligned]\n",
    "pairs = pd.DataFrame(pairs_list_flat, columns=['pairs'])\n",
    "pairs['pairs'] = pairs['pairs'].apply(lambda x: x.replace('_', ' '))\n",
    "\n",
    "# '''To file for Tableau'''"
   ]
  },
  {
   "cell_type": "code",
   "execution_count": 20,
   "metadata": {},
   "outputs": [],
   "source": [
    "freq = pd.DataFrame(pairs['pairs'].value_counts()).reset_index()\n",
    "freq.columns = ['pairs', 'frequency']"
   ]
  },
  {
   "cell_type": "code",
   "execution_count": 21,
   "metadata": {
    "scrolled": false
   },
   "outputs": [
    {
     "data": {
      "image/png": "[encoded data removed]",
      "text/plain": [
       "<Figure size 720x576 with 1 Axes>"
      ]
     },
     "metadata": {
      "needs_background": "light"
     },
     "output_type": "display_data"
    }
   ],
   "source": [
    "# Plot the most common pairs\n",
    "\n",
    "plt.figure(figsize = (10,8))\n",
    "# ax = pairs['pairs'].value_counts().nlargest(20).plot.barh()\n",
    "sns.barplot(x='frequency', y='pairs', data=freq.nlargest(10, columns='frequency'))\n",
    "plt.show()"
   ]
  },
  {
   "cell_type": "code",
   "execution_count": 22,
   "metadata": {},
   "outputs": [
    {
     "data": {
      "text/plain": [
       "'Pairs appeared only once: 292.'"
      ]
     },
     "execution_count": 22,
     "metadata": {},
     "output_type": "execute_result"
    }
   ],
   "source": [
    "n = len(freq.loc[freq['frequency'] == 1])\n",
    "f'Pairs appeared only once: {n}.'"
   ]
  },
  {
   "cell_type": "code",
   "execution_count": 23,
   "metadata": {},
   "outputs": [
    {
     "data": {
      "image/png": "[encoded data removed]",
      "text/plain": [
       "<Figure size 720x576 with 1 Axes>"
      ]
     },
     "metadata": {
      "needs_background": "light"
     },
     "output_type": "display_data"
    }
   ],
   "source": [
    "# Plot the least common pairs\n",
    "\n",
    "plt.figure(figsize = (10,8))\n",
    "sns.barplot(x='frequency', y='pairs', data=freq.nsmallest(10, columns='frequency'))\n",
    "plt.show()"
   ]
  },
  {
   "cell_type": "code",
   "execution_count": null,
   "metadata": {},
   "outputs": [],
   "source": []
  },
  {
   "cell_type": "code",
   "execution_count": null,
   "metadata": {},
   "outputs": [],
   "source": []
  },
  {
   "cell_type": "code",
   "execution_count": null,
   "metadata": {},
   "outputs": [],
   "source": []
  },
  {
   "cell_type": "code",
   "execution_count": null,
   "metadata": {},
   "outputs": [],
   "source": []
  },
  {
   "cell_type": "code",
   "execution_count": null,
   "metadata": {},
   "outputs": [],
   "source": []
  },
  {
   "cell_type": "code",
   "execution_count": null,
   "metadata": {},
   "outputs": [],
   "source": []
  }
 ],
 "metadata": {
  "kernelspec": {
   "display_name": "Python 3",
   "language": "python",
   "name": "python3"
  },
  "language_info": {
   "codemirror_mode": {
    "name": "ipython",
    "version": 3
   },
   "file_extension": ".py",
   "mimetype": "text/x-python",
   "name": "python",
   "nbconvert_exporter": "python",
   "pygments_lexer": "ipython3",
   "version": "3.8.3"
  }
 },
 "nbformat": 4,
 "nbformat_minor": 4
}
