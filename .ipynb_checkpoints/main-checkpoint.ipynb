{
 "cells": [
  {
   "cell_type": "code",
   "execution_count": 1,
   "metadata": {},
   "outputs": [],
   "source": [
    "import warnings\n",
    "import pandas as pd\n",
    "import numpy as np\n",
    "import nltk\n",
    "import collections\n",
    "import matplotlib.pyplot as plt\n",
    "import seaborn as sns\n",
    "import random\n",
    "# import os\n",
    "# import re\n",
    "# import math\n",
    "# from sqlalchemy import create_engine\n",
    "# import pymysql\n",
    "# import requests\n",
    "# from bs4 import BeautifulSoup\n",
    "# from sklearn.linear_model import LinearRegression\n",
    "# from statsmodels.tsa.ar_model import AR\n",
    "# from statsmodels.tools.eval_measures import rmse\n",
    "# from scipy import stats"
   ]
  },
  {
   "cell_type": "code",
   "execution_count": 2,
   "metadata": {},
   "outputs": [],
   "source": [
    "pd.set_option('display.max_columns', 100)\n",
    "warnings.filterwarnings('ignore')"
   ]
  },
  {
   "cell_type": "code",
   "execution_count": 3,
   "metadata": {},
   "outputs": [],
   "source": [
    "df_cons = pd.read_csv('./clean_data/clean_data.csv')\n",
    "df_cons.drop('Unnamed: 0', axis=1, inplace=True)"
   ]
  },
  {
   "cell_type": "markdown",
   "metadata": {},
   "source": [
    "### Step 1: transform dataset:\n",
    "- each cocktail = one row\n",
    "- all ingredients generalized and combined in one column"
   ]
  },
  {
   "cell_type": "code",
   "execution_count": 4,
   "metadata": {},
   "outputs": [],
   "source": [
    "# Reduce dataset to only the columns required for current step\n",
    "\n",
    "df = df_cons[['strDrink', 'Alc_type', 'Basic_taste']]"
   ]
  },
  {
   "cell_type": "code",
   "execution_count": 5,
   "metadata": {},
   "outputs": [],
   "source": [
    "# Replace nan values with empty string to align data type for every value\n",
    "\n",
    "df.fillna('', inplace=True)"
   ]
  },
  {
   "cell_type": "code",
   "execution_count": 6,
   "metadata": {},
   "outputs": [],
   "source": [
    "# Replace ' ' with '_' to keep adjectives with nouns\n",
    "\n",
    "df['Alc_type'] = df['Alc_type'].apply(lambda x: x.replace(' ', '_'))"
   ]
  },
  {
   "cell_type": "code",
   "execution_count": 7,
   "metadata": {
    "scrolled": true
   },
   "outputs": [
    {
     "data": {
      "text/html": [
       "<div>\n",
       "<style scoped>\n",
       "    .dataframe tbody tr th:only-of-type {\n",
       "        vertical-align: middle;\n",
       "    }\n",
       "\n",
       "    .dataframe tbody tr th {\n",
       "        vertical-align: top;\n",
       "    }\n",
       "\n",
       "    .dataframe thead th {\n",
       "        text-align: right;\n",
       "    }\n",
       "</style>\n",
       "<table border=\"1\" class=\"dataframe\">\n",
       "  <thead>\n",
       "    <tr style=\"text-align: right;\">\n",
       "      <th></th>\n",
       "      <th>strDrink</th>\n",
       "      <th>Alc_type_1</th>\n",
       "      <th>Basic_taste_1</th>\n",
       "      <th>Alc_type_2</th>\n",
       "      <th>Basic_taste_2</th>\n",
       "      <th>Alc_type_3</th>\n",
       "      <th>Basic_taste_3</th>\n",
       "      <th>Alc_type_4</th>\n",
       "      <th>Basic_taste_4</th>\n",
       "      <th>Alc_type_5</th>\n",
       "      <th>Basic_taste_5</th>\n",
       "      <th>Alc_type_6</th>\n",
       "      <th>Basic_taste_6</th>\n",
       "      <th>Alc_type_7</th>\n",
       "      <th>Basic_taste_7</th>\n",
       "      <th>Alc_type_8</th>\n",
       "      <th>Basic_taste_8</th>\n",
       "      <th>Alc_type_9</th>\n",
       "      <th>Basic_taste_9</th>\n",
       "      <th>Alc_type_10</th>\n",
       "      <th>Basic_taste_10</th>\n",
       "      <th>Alc_type_11</th>\n",
       "      <th>Basic_taste_11</th>\n",
       "    </tr>\n",
       "  </thead>\n",
       "  <tbody>\n",
       "    <tr>\n",
       "      <th>0</th>\n",
       "      <td>'57 Chevy with a White License Plate</td>\n",
       "      <td>Creamy_Liqueur</td>\n",
       "      <td></td>\n",
       "      <td>Vodka</td>\n",
       "      <td></td>\n",
       "      <td>NaN</td>\n",
       "      <td>NaN</td>\n",
       "      <td>NaN</td>\n",
       "      <td>NaN</td>\n",
       "      <td>NaN</td>\n",
       "      <td>NaN</td>\n",
       "      <td>NaN</td>\n",
       "      <td>NaN</td>\n",
       "      <td>NaN</td>\n",
       "      <td>NaN</td>\n",
       "      <td>NaN</td>\n",
       "      <td>NaN</td>\n",
       "      <td>NaN</td>\n",
       "      <td>NaN</td>\n",
       "      <td>NaN</td>\n",
       "      <td>NaN</td>\n",
       "      <td>NaN</td>\n",
       "      <td>NaN</td>\n",
       "    </tr>\n",
       "    <tr>\n",
       "      <th>1</th>\n",
       "      <td>1-900-FUK-MEUP</td>\n",
       "      <td>Vodka</td>\n",
       "      <td></td>\n",
       "      <td>Triple_Sec</td>\n",
       "      <td></td>\n",
       "      <td>Sweet_Liqueur</td>\n",
       "      <td></td>\n",
       "      <td>Sweet_Liqueur</td>\n",
       "      <td></td>\n",
       "      <td>Rum</td>\n",
       "      <td></td>\n",
       "      <td>Sweet_Liqueur</td>\n",
       "      <td></td>\n",
       "      <td></td>\n",
       "      <td>sour</td>\n",
       "      <td></td>\n",
       "      <td>sweet</td>\n",
       "      <td>NaN</td>\n",
       "      <td>NaN</td>\n",
       "      <td>NaN</td>\n",
       "      <td>NaN</td>\n",
       "      <td>NaN</td>\n",
       "      <td>NaN</td>\n",
       "    </tr>\n",
       "    <tr>\n",
       "      <th>2</th>\n",
       "      <td>110 in the shade</td>\n",
       "      <td>Beer</td>\n",
       "      <td></td>\n",
       "      <td>Tequila</td>\n",
       "      <td></td>\n",
       "      <td>NaN</td>\n",
       "      <td>NaN</td>\n",
       "      <td>NaN</td>\n",
       "      <td>NaN</td>\n",
       "      <td>NaN</td>\n",
       "      <td>NaN</td>\n",
       "      <td>NaN</td>\n",
       "      <td>NaN</td>\n",
       "      <td>NaN</td>\n",
       "      <td>NaN</td>\n",
       "      <td>NaN</td>\n",
       "      <td>NaN</td>\n",
       "      <td>NaN</td>\n",
       "      <td>NaN</td>\n",
       "      <td>NaN</td>\n",
       "      <td>NaN</td>\n",
       "      <td>NaN</td>\n",
       "      <td>NaN</td>\n",
       "    </tr>\n",
       "    <tr>\n",
       "      <th>3</th>\n",
       "      <td>151 Florida Bushwacker</td>\n",
       "      <td>Rum</td>\n",
       "      <td></td>\n",
       "      <td>Rum</td>\n",
       "      <td></td>\n",
       "      <td>Rum</td>\n",
       "      <td></td>\n",
       "      <td>Creamy_Liqueur</td>\n",
       "      <td></td>\n",
       "      <td>Triple_Sec</td>\n",
       "      <td></td>\n",
       "      <td></td>\n",
       "      <td>cream</td>\n",
       "      <td>Sweet_Liqueur</td>\n",
       "      <td></td>\n",
       "      <td></td>\n",
       "      <td>cream</td>\n",
       "      <td>NaN</td>\n",
       "      <td>NaN</td>\n",
       "      <td>NaN</td>\n",
       "      <td>NaN</td>\n",
       "      <td>NaN</td>\n",
       "      <td>NaN</td>\n",
       "    </tr>\n",
       "    <tr>\n",
       "      <th>4</th>\n",
       "      <td>155 Belmont</td>\n",
       "      <td>Rum</td>\n",
       "      <td></td>\n",
       "      <td>Rum</td>\n",
       "      <td></td>\n",
       "      <td>Vodka</td>\n",
       "      <td></td>\n",
       "      <td></td>\n",
       "      <td>sweet</td>\n",
       "      <td>NaN</td>\n",
       "      <td>NaN</td>\n",
       "      <td>NaN</td>\n",
       "      <td>NaN</td>\n",
       "      <td>NaN</td>\n",
       "      <td>NaN</td>\n",
       "      <td>NaN</td>\n",
       "      <td>NaN</td>\n",
       "      <td>NaN</td>\n",
       "      <td>NaN</td>\n",
       "      <td>NaN</td>\n",
       "      <td>NaN</td>\n",
       "      <td>NaN</td>\n",
       "      <td>NaN</td>\n",
       "    </tr>\n",
       "  </tbody>\n",
       "</table>\n",
       "</div>"
      ],
      "text/plain": [
       "                               strDrink      Alc_type_1 Basic_taste_1  \\\n",
       "0  '57 Chevy with a White License Plate  Creamy_Liqueur                 \n",
       "1                        1-900-FUK-MEUP           Vodka                 \n",
       "2                      110 in the shade            Beer                 \n",
       "3                151 Florida Bushwacker             Rum                 \n",
       "4                           155 Belmont             Rum                 \n",
       "\n",
       "   Alc_type_2 Basic_taste_2     Alc_type_3 Basic_taste_3      Alc_type_4  \\\n",
       "0       Vodka                          NaN           NaN             NaN   \n",
       "1  Triple_Sec                Sweet_Liqueur                 Sweet_Liqueur   \n",
       "2     Tequila                          NaN           NaN             NaN   \n",
       "3         Rum                          Rum                Creamy_Liqueur   \n",
       "4         Rum                        Vodka                                 \n",
       "\n",
       "  Basic_taste_4  Alc_type_5 Basic_taste_5     Alc_type_6 Basic_taste_6  \\\n",
       "0           NaN         NaN           NaN            NaN           NaN   \n",
       "1                       Rum                Sweet_Liqueur                 \n",
       "2           NaN         NaN           NaN            NaN           NaN   \n",
       "3                Triple_Sec                                      cream   \n",
       "4         sweet         NaN           NaN            NaN           NaN   \n",
       "\n",
       "      Alc_type_7 Basic_taste_7 Alc_type_8 Basic_taste_8 Alc_type_9  \\\n",
       "0            NaN           NaN        NaN           NaN        NaN   \n",
       "1                         sour                    sweet        NaN   \n",
       "2            NaN           NaN        NaN           NaN        NaN   \n",
       "3  Sweet_Liqueur                                  cream        NaN   \n",
       "4            NaN           NaN        NaN           NaN        NaN   \n",
       "\n",
       "  Basic_taste_9 Alc_type_10 Basic_taste_10 Alc_type_11 Basic_taste_11  \n",
       "0           NaN         NaN            NaN         NaN            NaN  \n",
       "1           NaN         NaN            NaN         NaN            NaN  \n",
       "2           NaN         NaN            NaN         NaN            NaN  \n",
       "3           NaN         NaN            NaN         NaN            NaN  \n",
       "4           NaN         NaN            NaN         NaN            NaN  "
      ]
     },
     "execution_count": 7,
     "metadata": {},
     "output_type": "execute_result"
    }
   ],
   "source": [
    "# Reallocate ingredients as columns so each column takes only one row\n",
    "\n",
    "df = df[df['Alc_type'] != 'Alc_type']\n",
    "s =  df.groupby('strDrink').cumcount().add(1)\n",
    "df = (df.set_index(['strDrink',s])\n",
    "        .unstack()\n",
    "        .sort_index(axis=1, level=1)\n",
    "       )\n",
    "df.columns = ['{}_{}'.format(a, b) for a,b in df.columns]\n",
    "\n",
    "df = df.reset_index()\n",
    "df.head()"
   ]
  },
  {
   "cell_type": "code",
   "execution_count": 8,
   "metadata": {},
   "outputs": [],
   "source": [
    "df['Ingredients'] = df.drop(['strDrink'], axis=1).fillna('').apply(lambda x: ' '.join(x), axis=1).apply(lambda x: x.lower())\n",
    "df = df[['strDrink', 'Ingredients']]"
   ]
  },
  {
   "cell_type": "code",
   "execution_count": 9,
   "metadata": {},
   "outputs": [
    {
     "data": {
      "text/html": [
       "<div>\n",
       "<style scoped>\n",
       "    .dataframe tbody tr th:only-of-type {\n",
       "        vertical-align: middle;\n",
       "    }\n",
       "\n",
       "    .dataframe tbody tr th {\n",
       "        vertical-align: top;\n",
       "    }\n",
       "\n",
       "    .dataframe thead th {\n",
       "        text-align: right;\n",
       "    }\n",
       "</style>\n",
       "<table border=\"1\" class=\"dataframe\">\n",
       "  <thead>\n",
       "    <tr style=\"text-align: right;\">\n",
       "      <th></th>\n",
       "      <th>strDrink</th>\n",
       "      <th>Ingredients</th>\n",
       "    </tr>\n",
       "  </thead>\n",
       "  <tbody>\n",
       "    <tr>\n",
       "      <th>0</th>\n",
       "      <td>'57 Chevy with a White License Plate</td>\n",
       "      <td>creamy_liqueur  vodka</td>\n",
       "    </tr>\n",
       "    <tr>\n",
       "      <th>1</th>\n",
       "      <td>1-900-FUK-MEUP</td>\n",
       "      <td>vodka  triple_sec  sweet_liqueur  sweet_liqueu...</td>\n",
       "    </tr>\n",
       "    <tr>\n",
       "      <th>2</th>\n",
       "      <td>110 in the shade</td>\n",
       "      <td>beer  tequila</td>\n",
       "    </tr>\n",
       "    <tr>\n",
       "      <th>3</th>\n",
       "      <td>151 Florida Bushwacker</td>\n",
       "      <td>rum  rum  rum  creamy_liqueur  triple_sec   cr...</td>\n",
       "    </tr>\n",
       "    <tr>\n",
       "      <th>4</th>\n",
       "      <td>155 Belmont</td>\n",
       "      <td>rum  rum  vodka   sweet</td>\n",
       "    </tr>\n",
       "  </tbody>\n",
       "</table>\n",
       "</div>"
      ],
      "text/plain": [
       "                               strDrink  \\\n",
       "0  '57 Chevy with a White License Plate   \n",
       "1                        1-900-FUK-MEUP   \n",
       "2                      110 in the shade   \n",
       "3                151 Florida Bushwacker   \n",
       "4                           155 Belmont   \n",
       "\n",
       "                                         Ingredients  \n",
       "0           creamy_liqueur  vodka                     \n",
       "1  vodka  triple_sec  sweet_liqueur  sweet_liqueu...  \n",
       "2                   beer  tequila                     \n",
       "3  rum  rum  rum  creamy_liqueur  triple_sec   cr...  \n",
       "4              rum  rum  vodka   sweet                "
      ]
     },
     "execution_count": 9,
     "metadata": {},
     "output_type": "execute_result"
    }
   ],
   "source": [
    "df.head()"
   ]
  },
  {
   "cell_type": "markdown",
   "metadata": {},
   "source": [
    "### Step 2:\n",
    "- split ingerients by pairs\n",
    "- compute most common pairs (N - to be defined depending on results)"
   ]
  },
  {
   "cell_type": "code",
   "execution_count": 10,
   "metadata": {},
   "outputs": [
    {
     "name": "stdout",
     "output_type": "stream",
     "text": [
      "1308\n"
     ]
    },
    {
     "data": {
      "text/plain": [
       "[('creamy_liqueur', 'vodka'),\n",
       " ('vodka', 'triple_sec'),\n",
       " ('triple_sec', 'sweet_liqueur'),\n",
       " ('sweet_liqueur', 'sweet_liqueur'),\n",
       " ('sweet_liqueur', 'rum'),\n",
       " ('rum', 'sweet_liqueur'),\n",
       " ('sweet_liqueur', 'sour'),\n",
       " ('sour', 'sweet'),\n",
       " ('beer', 'tequila'),\n",
       " ('rum', 'rum')]"
      ]
     },
     "execution_count": 10,
     "metadata": {},
     "output_type": "execute_result"
    }
   ],
   "source": [
    "# Generate pairs from ingredients of each cocktail and combine them in one list\n",
    "\n",
    "bigram = [list(nltk.bigrams(nltk.word_tokenize(i))) for i in df['Ingredients']]\n",
    "pairs_list = [j for i in bigram for j in i]\n",
    "print(len(pairs_list))\n",
    "pairs_list[:10]"
   ]
  },
  {
   "cell_type": "markdown",
   "metadata": {},
   "source": [
    "There are some tuples where elements are swopped but essential taste of such combination is not unique. Such tuples need to be alighned."
   ]
  },
  {
   "cell_type": "code",
   "execution_count": 11,
   "metadata": {
    "scrolled": true
   },
   "outputs": [],
   "source": [
    "# First, define a list of tuples to be amended\n",
    "\n",
    "to_aligh = []\n",
    "for a in pairs_list:\n",
    "    for b in pairs_list:\n",
    "        if a != b:\n",
    "            if b[1] == a[0]:\n",
    "                if b[0] == a[1]:            # If both elements of tuple are equal to the swopped tuple under the check\n",
    "                    if a not in to_aligh and b not in to_aligh:\n",
    "                        to_aligh.append(b)"
   ]
  },
  {
   "cell_type": "code",
   "execution_count": 12,
   "metadata": {},
   "outputs": [],
   "source": [
    "# Second, amend them\n",
    "\n",
    "pairs_list_aligned = []\n",
    "for i in pairs_list:\n",
    "    if i in to_aligh:\n",
    "        pairs_list_aligned.append((i[1], i[0]))\n",
    "    else:\n",
    "        pairs_list_aligned.append(i)"
   ]
  },
  {
   "cell_type": "code",
   "execution_count": 13,
   "metadata": {
    "scrolled": true
   },
   "outputs": [
    {
     "data": {
      "text/plain": [
       "True"
      ]
     },
     "execution_count": 13,
     "metadata": {},
     "output_type": "execute_result"
    }
   ],
   "source": [
    "# Check that total number of tuples hasn't changed, only content should be amended\n",
    "\n",
    "len(pairs_list_aligned) == len(pairs_list)"
   ]
  },
  {
   "cell_type": "code",
   "execution_count": 14,
   "metadata": {
    "scrolled": true
   },
   "outputs": [
    {
     "data": {
      "image/png": "[encoded data removed]",
      "text/plain": [
       "<Figure size 720x576 with 1 Axes>"
      ]
     },
     "metadata": {
      "needs_background": "light"
     },
     "output_type": "display_data"
    }
   ],
   "source": [
    "# Plot the most common pairs\n",
    "\n",
    "pairs_list_flat = [(i[0]+', '+i[1]) for i in pairs_list_aligned]\n",
    "pairs = pd.DataFrame(pairs_list_flat, columns=['pairs'])\n",
    "plt.figure(figsize = (10,8))\n",
    "ax = pairs['pairs'].value_counts().nlargest(20).plot.barh()\n",
    "plt.show()"
   ]
  },
  {
   "cell_type": "code",
   "execution_count": 15,
   "metadata": {
    "scrolled": false
   },
   "outputs": [
    {
     "data": {
      "image/png": "[encoded data removed]",
      "text/plain": [
       "<Figure size 720x576 with 1 Axes>"
      ]
     },
     "metadata": {
      "needs_background": "light"
     },
     "output_type": "display_data"
    }
   ],
   "source": [
    "# Plot the least common pairs\n",
    "\n",
    "plt.figure(figsize = (10,8))\n",
    "ax = pairs['pairs'].value_counts().nsmallest(20).plot.barh()\n",
    "plt.show()"
   ]
  },
  {
   "cell_type": "code",
   "execution_count": 16,
   "metadata": {
    "scrolled": true
   },
   "outputs": [
    {
     "name": "stdout",
     "output_type": "stream",
     "text": [
      "205\n"
     ]
    },
    {
     "data": {
      "text/plain": [
       "[(('sour', 'sweet'), 129),\n",
       " (('sweet', 'sweet'), 95),\n",
       " (('sweet_liqueur', 'sweet'), 35),\n",
       " (('rum', 'sweet'), 30),\n",
       " (('triple_sec', 'sour'), 28),\n",
       " (('sweet_liqueur', 'sour'), 25),\n",
       " (('sweet_liqueur', 'vodka'), 23),\n",
       " (('sweet', 'cream'), 23),\n",
       " (('sweet', 'bitter'), 22),\n",
       " (('gin', 'vermouth'), 20),\n",
       " (('water', 'sweet'), 20),\n",
       " (('vodka', 'sweet'), 19),\n",
       " (('vodka', 'sour'), 18),\n",
       " (('sweet', 'egg'), 18),\n",
       " (('creamy_liqueur', 'sweet_liqueur'), 17),\n",
       " (('creamy_liqueur', 'cream'), 17),\n",
       " (('triple_sec', 'sweet'), 15),\n",
       " (('gin', 'sour'), 15),\n",
       " (('vodka', 'triple_sec'), 14),\n",
       " (('gin', 'sweet'), 14),\n",
       " (('whisky', 'sour'), 14),\n",
       " (('gin', 'triple_sec'), 13),\n",
       " (('sour', 'sour'), 13),\n",
       " (('creamy_liqueur', 'creamy_liqueur'), 12),\n",
       " (('sweet_liqueur', 'bitter'), 12),\n",
       " (('rum', 'sour'), 12),\n",
       " (('triple_sec', 'sweet_liqueur'), 11),\n",
       " (('rum', 'vodka'), 11),\n",
       " (('whisky', 'sweet_liqueur'), 11),\n",
       " (('sweet', 'brandy'), 11),\n",
       " (('cream', 'sweet_liqueur'), 10),\n",
       " (('gin', 'brandy'), 10),\n",
       " (('whisky', 'vermouth'), 10),\n",
       " (('brandy', 'triple_sec'), 10),\n",
       " (('schnapps', 'sweet'), 9),\n",
       " (('brandy', 'sweet_liqueur'), 9),\n",
       " (('sour', 'water'), 9),\n",
       " (('sweet_liqueur', 'gin'), 9),\n",
       " (('rum', 'brandy'), 9),\n",
       " (('sweet_liqueur', 'sweet_liqueur'), 8),\n",
       " (('sweet_liqueur', 'rum'), 8),\n",
       " (('bitter', 'sour'), 8),\n",
       " (('vodka', 'cream'), 8),\n",
       " (('gin', 'bitter'), 8),\n",
       " (('cream', 'cream'), 8),\n",
       " (('brandy', 'sour'), 8),\n",
       " (('salty', 'sour'), 8),\n",
       " (('creamy_liqueur', 'vodka'), 7),\n",
       " (('rum', 'rum'), 7),\n",
       " (('sour', 'beer'), 7),\n",
       " (('vermouth', 'sweet'), 7)]"
      ]
     },
     "execution_count": 16,
     "metadata": {},
     "output_type": "execute_result"
    }
   ],
   "source": [
    "# Define 25% of the most common pairs as a separate list\n",
    "\n",
    "counter=collections.Counter(pairs_list_aligned)\n",
    "print(len(counter))\n",
    "common_pairs = counter.most_common(int(len(counter)*0.25))\n",
    "common_pairs"
   ]
  },
  {
   "cell_type": "code",
   "execution_count": 17,
   "metadata": {
    "scrolled": true
   },
   "outputs": [
    {
     "data": {
      "text/plain": [
       "['bitter',\n",
       " 'brandy',\n",
       " 'creamy_liqueur',\n",
       " 'gin',\n",
       " 'triple_sec',\n",
       " 'vodka',\n",
       " 'rum',\n",
       " 'sweet',\n",
       " 'cream',\n",
       " 'beer',\n",
       " 'whisky',\n",
       " 'egg',\n",
       " 'salty',\n",
       " 'water',\n",
       " 'sour',\n",
       " 'sweet_liqueur',\n",
       " 'vermouth',\n",
       " 'schnapps']"
      ]
     },
     "execution_count": 17,
     "metadata": {},
     "output_type": "execute_result"
    }
   ],
   "source": [
    "common_ingredients = []\n",
    "\n",
    "for n in common_pairs:\n",
    "    common_ingredients.append(n[0][0])\n",
    "    common_ingredients.append(n[0][1])\n",
    "common_ingredients = list(set(common_ingredients))\n",
    "common_ingredients"
   ]
  },
  {
   "cell_type": "markdown",
   "metadata": {},
   "source": [
    "### Step 3: generate a frame for new combinations:\n",
    "- define total number of ingerients (random choice from a range 3-6))\n",
    "- from ingredients included in top pairs pick one randomly\n",
    "- find suitable pair for this ingredient (from all pairs, but give top pairs bigger weight)\n",
    "- do the same for the next ingredient but check that it's not included already\n",
    "- etc until limit is reached"
   ]
  },
  {
   "cell_type": "code",
   "execution_count": 18,
   "metadata": {},
   "outputs": [],
   "source": [
    "# Define total number of ingredients for a new cocktail\n",
    "\n",
    "n_ingr = random.randint(3,7)"
   ]
  },
  {
   "cell_type": "code",
   "execution_count": 19,
   "metadata": {},
   "outputs": [],
   "source": [
    "new_cocktail = []"
   ]
  },
  {
   "cell_type": "code",
   "execution_count": 20,
   "metadata": {},
   "outputs": [
    {
     "data": {
      "text/plain": [
       "'gin'"
      ]
     },
     "execution_count": 20,
     "metadata": {},
     "output_type": "execute_result"
    }
   ],
   "source": [
    "# Pick the first ingredient randomly from the top popular\n",
    "\n",
    "first_ingr = random.choice(common_ingredients)\n",
    "new_cocktail.append(first_ingr)\n",
    "first_ingr"
   ]
  },
  {
   "cell_type": "code",
   "execution_count": null,
   "metadata": {},
   "outputs": [],
   "source": [
    "'''\n",
    "Add weight to the most common combinations so they will come up more often but there'll still be a chance that less common\n",
    "ingredient will be chosen.\n",
    "'''"
   ]
  },
  {
   "cell_type": "code",
   "execution_count": 21,
   "metadata": {},
   "outputs": [],
   "source": [
    "# Identify remaning ingredients\n",
    "\n",
    "counter = 1          # Not zero because the first ingredient is defined separatelly above\n",
    "# print(f'Number of ingredients: {n_ingr}')    # Debugging\n",
    "# print(f'New cocktail ingredients: {new_cocktail}')    # Debugging\n",
    "while counter < n_ingr:\n",
    "    temp_list = []\n",
    "#     print(f'New cocktail ingredients: {new_cocktail}')    # Debugging\n",
    "    for i in set(pairs_list_aligned):\n",
    "        if new_cocktail[-1] in i:\n",
    "            temp_list.append(i)\n",
    "    random_pair = random.choice(temp_list)\n",
    "    if random_pair[0] == new_cocktail[-1]:\n",
    "        next_ingr = random_pair[1]\n",
    "    else:\n",
    "        next_ingr = random_pair[0]\n",
    "    new_cocktail.append(next_ingr)\n",
    "#     print(f'Next ingredient to be added: {next_ingr}')    # Debugging\n",
    "#     print(f'Counter: {counter}')    # Debugging\n",
    "    counter += 1\n",
    "# print(f'New cocktail ingredients: {new_cocktail}')    # Debugging"
   ]
  },
  {
   "cell_type": "code",
   "execution_count": 22,
   "metadata": {},
   "outputs": [
    {
     "data": {
      "text/plain": [
       "['gin', 'rum', 'bitter', 'whisky']"
      ]
     },
     "execution_count": 22,
     "metadata": {},
     "output_type": "execute_result"
    }
   ],
   "source": [
    "new_cocktail"
   ]
  },
  {
   "cell_type": "markdown",
   "metadata": {},
   "source": [
    "### Step 4: fill new combinations with real ingredients:\n",
    "- define list of ingredients for each basic taste\n",
    "- randomly asign ingredients based on tastes in a frame"
   ]
  },
  {
   "cell_type": "markdown",
   "metadata": {},
   "source": [
    "### How to implement measures?\n",
    "(for this step it's better to exclude punches or rescale them somehow)"
   ]
  },
  {
   "cell_type": "code",
   "execution_count": null,
   "metadata": {},
   "outputs": [],
   "source": []
  },
  {
   "cell_type": "code",
   "execution_count": null,
   "metadata": {},
   "outputs": [],
   "source": []
  },
  {
   "cell_type": "code",
   "execution_count": null,
   "metadata": {},
   "outputs": [],
   "source": []
  },
  {
   "cell_type": "code",
   "execution_count": null,
   "metadata": {},
   "outputs": [],
   "source": []
  },
  {
   "cell_type": "code",
   "execution_count": null,
   "metadata": {},
   "outputs": [],
   "source": []
  }
 ],
 "metadata": {
  "kernelspec": {
   "display_name": "Python 3",
   "language": "python",
   "name": "python3"
  },
  "language_info": {
   "codemirror_mode": {
    "name": "ipython",
    "version": 3
   },
   "file_extension": ".py",
   "mimetype": "text/x-python",
   "name": "python",
   "nbconvert_exporter": "python",
   "pygments_lexer": "ipython3",
   "version": "3.8.3"
  }
 },
 "nbformat": 4,
 "nbformat_minor": 4
}
