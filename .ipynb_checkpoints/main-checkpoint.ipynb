{
 "cells": [
  {
   "cell_type": "code",
   "execution_count": 1,
   "metadata": {},
   "outputs": [],
   "source": [
    "import warnings\n",
    "import pandas as pd\n",
    "import numpy as np\n",
    "import nltk\n",
    "import collections\n",
    "import random\n",
    "# import matplotlib.pyplot as plt\n",
    "# import seaborn as sns\n",
    "# import os\n",
    "# import re\n",
    "# import math\n",
    "# from sqlalchemy import create_engine\n",
    "# import pymysql\n",
    "# import requests\n",
    "# from bs4 import BeautifulSoup\n",
    "# from sklearn.linear_model import LinearRegression\n",
    "# from statsmodels.tsa.ar_model import AR\n",
    "# from statsmodels.tools.eval_measures import rmse\n",
    "# from scipy import stats"
   ]
  },
  {
   "cell_type": "code",
   "execution_count": 2,
   "metadata": {},
   "outputs": [],
   "source": [
    "pd.set_option('display.max_columns', 100)\n",
    "warnings.filterwarnings('ignore')"
   ]
  },
  {
   "cell_type": "code",
   "execution_count": 3,
   "metadata": {},
   "outputs": [],
   "source": [
    "df = pd.read_csv('./clean_data/clean_data.csv')\n",
    "df.drop('Unnamed: 0', axis=1, inplace=True)"
   ]
  },
  {
   "cell_type": "markdown",
   "metadata": {},
   "source": [
    "### Step 1: prepare dataset to be used for identifying ingredients and measures\n",
    "- each cocktail = one row\n",
    "- punches to be excluded due to scaling issues\n",
    "- rows related to garnish to be excluded\n",
    "- all ingredients generalized and combined in one column"
   ]
  },
  {
   "cell_type": "code",
   "execution_count": 4,
   "metadata": {
    "scrolled": true
   },
   "outputs": [
    {
     "data": {
      "text/html": [
       "<div>\n",
       "<style scoped>\n",
       "    .dataframe tbody tr th:only-of-type {\n",
       "        vertical-align: middle;\n",
       "    }\n",
       "\n",
       "    .dataframe tbody tr th {\n",
       "        vertical-align: top;\n",
       "    }\n",
       "\n",
       "    .dataframe thead th {\n",
       "        text-align: right;\n",
       "    }\n",
       "</style>\n",
       "<table border=\"1\" class=\"dataframe\">\n",
       "  <thead>\n",
       "    <tr style=\"text-align: right;\">\n",
       "      <th></th>\n",
       "      <th>strDrink</th>\n",
       "      <th>strCategory</th>\n",
       "      <th>strGlass</th>\n",
       "      <th>strIngredients</th>\n",
       "      <th>Alc_type</th>\n",
       "      <th>Basic_taste</th>\n",
       "      <th>strInstructions</th>\n",
       "      <th>strMeasures</th>\n",
       "      <th>Value</th>\n",
       "      <th>MeasureName</th>\n",
       "      <th>Value_numeric</th>\n",
       "      <th>Value_ml</th>\n",
       "      <th>Value_gr</th>\n",
       "      <th>Garnish_amount</th>\n",
       "      <th>Garnish_type</th>\n",
       "      <th>MeasureName_copy</th>\n",
       "    </tr>\n",
       "  </thead>\n",
       "  <tbody>\n",
       "    <tr>\n",
       "      <th>0</th>\n",
       "      <td>'57 Chevy with a White License Plate</td>\n",
       "      <td>Cocktail</td>\n",
       "      <td>Highball glass</td>\n",
       "      <td>Creme De Cacao White</td>\n",
       "      <td>Creamy Liqueur</td>\n",
       "      <td>NaN</td>\n",
       "      <td>1. Fill a rocks glass with ice 2.add white cre...</td>\n",
       "      <td>1 oz white</td>\n",
       "      <td>1</td>\n",
       "      <td>oz</td>\n",
       "      <td>1.0</td>\n",
       "      <td>30.0</td>\n",
       "      <td>NaN</td>\n",
       "      <td>NaN</td>\n",
       "      <td>NaN</td>\n",
       "      <td>white</td>\n",
       "    </tr>\n",
       "    <tr>\n",
       "      <th>1</th>\n",
       "      <td>1-900-FUK-MEUP</td>\n",
       "      <td>Shot</td>\n",
       "      <td>Old-fashioned glass</td>\n",
       "      <td>Absolut Kurant</td>\n",
       "      <td>Vodka</td>\n",
       "      <td>NaN</td>\n",
       "      <td>Shake ingredients in a mixing tin filled with ...</td>\n",
       "      <td>1/2 oz</td>\n",
       "      <td>1/2</td>\n",
       "      <td>oz</td>\n",
       "      <td>0.5</td>\n",
       "      <td>15.0</td>\n",
       "      <td>NaN</td>\n",
       "      <td>NaN</td>\n",
       "      <td>NaN</td>\n",
       "      <td>oz</td>\n",
       "    </tr>\n",
       "    <tr>\n",
       "      <th>2</th>\n",
       "      <td>110 in the shade</td>\n",
       "      <td>Beer</td>\n",
       "      <td>Beer Glass</td>\n",
       "      <td>Lager</td>\n",
       "      <td>Beer</td>\n",
       "      <td>NaN</td>\n",
       "      <td>Drop shooter in glass. Fill with beer</td>\n",
       "      <td>16 oz</td>\n",
       "      <td>16</td>\n",
       "      <td>oz</td>\n",
       "      <td>16.0</td>\n",
       "      <td>480.0</td>\n",
       "      <td>NaN</td>\n",
       "      <td>NaN</td>\n",
       "      <td>NaN</td>\n",
       "      <td>oz</td>\n",
       "    </tr>\n",
       "    <tr>\n",
       "      <th>3</th>\n",
       "      <td>151 Florida Bushwacker</td>\n",
       "      <td>Milk / Float / Shake</td>\n",
       "      <td>Beer mug</td>\n",
       "      <td>Malibu Rum</td>\n",
       "      <td>Rum</td>\n",
       "      <td>NaN</td>\n",
       "      <td>Combine all ingredients. Blend until smooth. G...</td>\n",
       "      <td>1/2 oz</td>\n",
       "      <td>1/2</td>\n",
       "      <td>oz</td>\n",
       "      <td>0.5</td>\n",
       "      <td>15.0</td>\n",
       "      <td>NaN</td>\n",
       "      <td>NaN</td>\n",
       "      <td>NaN</td>\n",
       "      <td>oz</td>\n",
       "    </tr>\n",
       "    <tr>\n",
       "      <th>4</th>\n",
       "      <td>155 Belmont</td>\n",
       "      <td>Cocktail</td>\n",
       "      <td>White wine glass</td>\n",
       "      <td>Dark Rum</td>\n",
       "      <td>Rum</td>\n",
       "      <td>NaN</td>\n",
       "      <td>Blend with ice. Serve in a wine glass. Garnish...</td>\n",
       "      <td>1 shot</td>\n",
       "      <td>1</td>\n",
       "      <td>shot</td>\n",
       "      <td>1.0</td>\n",
       "      <td>25.0</td>\n",
       "      <td>NaN</td>\n",
       "      <td>NaN</td>\n",
       "      <td>NaN</td>\n",
       "      <td>shot</td>\n",
       "    </tr>\n",
       "  </tbody>\n",
       "</table>\n",
       "</div>"
      ],
      "text/plain": [
       "                               strDrink           strCategory  \\\n",
       "0  '57 Chevy with a White License Plate              Cocktail   \n",
       "1                        1-900-FUK-MEUP                  Shot   \n",
       "2                      110 in the shade                  Beer   \n",
       "3                151 Florida Bushwacker  Milk / Float / Shake   \n",
       "4                           155 Belmont              Cocktail   \n",
       "\n",
       "              strGlass        strIngredients        Alc_type Basic_taste  \\\n",
       "0       Highball glass  Creme De Cacao White  Creamy Liqueur         NaN   \n",
       "1  Old-fashioned glass        Absolut Kurant           Vodka         NaN   \n",
       "2           Beer Glass                 Lager            Beer         NaN   \n",
       "3             Beer mug            Malibu Rum             Rum         NaN   \n",
       "4     White wine glass              Dark Rum             Rum         NaN   \n",
       "\n",
       "                                     strInstructions strMeasures Value  \\\n",
       "0  1. Fill a rocks glass with ice 2.add white cre...  1 oz white     1   \n",
       "1  Shake ingredients in a mixing tin filled with ...      1/2 oz   1/2   \n",
       "2              Drop shooter in glass. Fill with beer       16 oz    16   \n",
       "3  Combine all ingredients. Blend until smooth. G...      1/2 oz   1/2   \n",
       "4  Blend with ice. Serve in a wine glass. Garnish...      1 shot     1   \n",
       "\n",
       "  MeasureName  Value_numeric  Value_ml  Value_gr Garnish_amount Garnish_type  \\\n",
       "0          oz            1.0      30.0       NaN            NaN          NaN   \n",
       "1          oz            0.5      15.0       NaN            NaN          NaN   \n",
       "2          oz           16.0     480.0       NaN            NaN          NaN   \n",
       "3          oz            0.5      15.0       NaN            NaN          NaN   \n",
       "4        shot            1.0      25.0       NaN            NaN          NaN   \n",
       "\n",
       "  MeasureName_copy  \n",
       "0            white  \n",
       "1               oz  \n",
       "2               oz  \n",
       "3               oz  \n",
       "4             shot  "
      ]
     },
     "execution_count": 4,
     "metadata": {},
     "output_type": "execute_result"
    }
   ],
   "source": [
    "df.head()"
   ]
  },
  {
   "cell_type": "code",
   "execution_count": 5,
   "metadata": {},
   "outputs": [],
   "source": [
    "df_processed = df.copy()     # This way we will always have access to our original dataset"
   ]
  },
  {
   "cell_type": "code",
   "execution_count": 7,
   "metadata": {},
   "outputs": [],
   "source": [
    "# Drop rows with garnish, this part of the cocktail will be processed on the later stages\n",
    "\n",
    "df_processed.drop(df_processed.loc[~df_processed['Garnish_type'].isnull()].index, axis=0, inplace=True)"
   ]
  },
  {
   "cell_type": "code",
   "execution_count": 9,
   "metadata": {},
   "outputs": [],
   "source": [
    "# Drop rows with related to punches to avoid scaling issue in next steps\n",
    "\n",
    "df_processed.drop(df_processed.loc[df_processed['strCategory'].str.contains('Punch')].index, axis=0, inplace=True)"
   ]
  },
  {
   "cell_type": "code",
   "execution_count": 13,
   "metadata": {},
   "outputs": [],
   "source": [
    "# Drop nulls in values to avoid ingredients without measures in generated cocktail\n",
    "\n",
    "df_processed.drop(df_processed.loc[(df_processed['Value_ml'].isnull()) & (df_processed['Value_gr'].isnull())].index,\n",
    "                 axis=0, inplace=True)"
   ]
  },
  {
   "cell_type": "code",
   "execution_count": 18,
   "metadata": {},
   "outputs": [],
   "source": [
    "# Combine non-alcoholic ingredients as they are and generalised alcoholic ingredients in one column\n",
    "\n",
    "df_processed['Ingredients'] = np.where(~df_processed['Basic_taste'].isnull(), df_processed['strIngredients'], np.nan)\n",
    "df_processed['Ingredients'] = np.where(df_processed['Ingredients'].isnull(),\n",
    "                                       df_processed['Alc_type'], df_processed['Ingredients'])"
   ]
  },
  {
   "cell_type": "code",
   "execution_count": 21,
   "metadata": {},
   "outputs": [],
   "source": [
    "# Replace ' ' with '_' to keep adjectives with nouns\n",
    "\n",
    "df_processed['Ingredients'] = df_processed['Ingredients'].apply(lambda x: x.replace(' ', '_'))"
   ]
  },
  {
   "cell_type": "code",
   "execution_count": 26,
   "metadata": {},
   "outputs": [],
   "source": [
    "# Define reduced datasets containing only the columns required for particular step\n",
    "\n",
    "df_ingredients = df_processed[['strDrink', 'Ingredients']]\n",
    "df_measures = df_processed[['strDrink', 'Ingredients', 'Value_ml', 'Value_gr']]"
   ]
  },
  {
   "cell_type": "code",
   "execution_count": 28,
   "metadata": {},
   "outputs": [
    {
     "data": {
      "text/html": [
       "<div>\n",
       "<style scoped>\n",
       "    .dataframe tbody tr th:only-of-type {\n",
       "        vertical-align: middle;\n",
       "    }\n",
       "\n",
       "    .dataframe tbody tr th {\n",
       "        vertical-align: top;\n",
       "    }\n",
       "\n",
       "    .dataframe thead th {\n",
       "        text-align: right;\n",
       "    }\n",
       "</style>\n",
       "<table border=\"1\" class=\"dataframe\">\n",
       "  <thead>\n",
       "    <tr style=\"text-align: right;\">\n",
       "      <th></th>\n",
       "      <th>strDrink</th>\n",
       "      <th>Ingredients</th>\n",
       "    </tr>\n",
       "  </thead>\n",
       "  <tbody>\n",
       "    <tr>\n",
       "      <th>0</th>\n",
       "      <td>'57 Chevy with a White License Plate</td>\n",
       "      <td>Creamy_Liqueur</td>\n",
       "    </tr>\n",
       "    <tr>\n",
       "      <th>1</th>\n",
       "      <td>1-900-FUK-MEUP</td>\n",
       "      <td>Vodka</td>\n",
       "    </tr>\n",
       "    <tr>\n",
       "      <th>2</th>\n",
       "      <td>110 in the shade</td>\n",
       "      <td>Beer</td>\n",
       "    </tr>\n",
       "    <tr>\n",
       "      <th>3</th>\n",
       "      <td>151 Florida Bushwacker</td>\n",
       "      <td>Rum</td>\n",
       "    </tr>\n",
       "    <tr>\n",
       "      <th>4</th>\n",
       "      <td>155 Belmont</td>\n",
       "      <td>Rum</td>\n",
       "    </tr>\n",
       "  </tbody>\n",
       "</table>\n",
       "</div>"
      ],
      "text/plain": [
       "                               strDrink     Ingredients\n",
       "0  '57 Chevy with a White License Plate  Creamy_Liqueur\n",
       "1                        1-900-FUK-MEUP           Vodka\n",
       "2                      110 in the shade            Beer\n",
       "3                151 Florida Bushwacker             Rum\n",
       "4                           155 Belmont             Rum"
      ]
     },
     "execution_count": 28,
     "metadata": {},
     "output_type": "execute_result"
    }
   ],
   "source": [
    "df_ingredients.head()"
   ]
  },
  {
   "cell_type": "code",
   "execution_count": 27,
   "metadata": {
    "scrolled": true
   },
   "outputs": [
    {
     "data": {
      "text/html": [
       "<div>\n",
       "<style scoped>\n",
       "    .dataframe tbody tr th:only-of-type {\n",
       "        vertical-align: middle;\n",
       "    }\n",
       "\n",
       "    .dataframe tbody tr th {\n",
       "        vertical-align: top;\n",
       "    }\n",
       "\n",
       "    .dataframe thead th {\n",
       "        text-align: right;\n",
       "    }\n",
       "</style>\n",
       "<table border=\"1\" class=\"dataframe\">\n",
       "  <thead>\n",
       "    <tr style=\"text-align: right;\">\n",
       "      <th></th>\n",
       "      <th>strDrink</th>\n",
       "      <th>Ingredients</th>\n",
       "      <th>Value_ml</th>\n",
       "      <th>Value_gr</th>\n",
       "    </tr>\n",
       "  </thead>\n",
       "  <tbody>\n",
       "    <tr>\n",
       "      <th>0</th>\n",
       "      <td>'57 Chevy with a White License Plate</td>\n",
       "      <td>Creamy_Liqueur</td>\n",
       "      <td>30.0</td>\n",
       "      <td>NaN</td>\n",
       "    </tr>\n",
       "    <tr>\n",
       "      <th>1</th>\n",
       "      <td>1-900-FUK-MEUP</td>\n",
       "      <td>Vodka</td>\n",
       "      <td>15.0</td>\n",
       "      <td>NaN</td>\n",
       "    </tr>\n",
       "    <tr>\n",
       "      <th>2</th>\n",
       "      <td>110 in the shade</td>\n",
       "      <td>Beer</td>\n",
       "      <td>480.0</td>\n",
       "      <td>NaN</td>\n",
       "    </tr>\n",
       "    <tr>\n",
       "      <th>3</th>\n",
       "      <td>151 Florida Bushwacker</td>\n",
       "      <td>Rum</td>\n",
       "      <td>15.0</td>\n",
       "      <td>NaN</td>\n",
       "    </tr>\n",
       "    <tr>\n",
       "      <th>4</th>\n",
       "      <td>155 Belmont</td>\n",
       "      <td>Rum</td>\n",
       "      <td>25.0</td>\n",
       "      <td>NaN</td>\n",
       "    </tr>\n",
       "  </tbody>\n",
       "</table>\n",
       "</div>"
      ],
      "text/plain": [
       "                               strDrink     Ingredients  Value_ml  Value_gr\n",
       "0  '57 Chevy with a White License Plate  Creamy_Liqueur      30.0       NaN\n",
       "1                        1-900-FUK-MEUP           Vodka      15.0       NaN\n",
       "2                      110 in the shade            Beer     480.0       NaN\n",
       "3                151 Florida Bushwacker             Rum      15.0       NaN\n",
       "4                           155 Belmont             Rum      25.0       NaN"
      ]
     },
     "execution_count": 27,
     "metadata": {},
     "output_type": "execute_result"
    }
   ],
   "source": [
    "df_measures.head()"
   ]
  },
  {
   "cell_type": "code",
   "execution_count": null,
   "metadata": {},
   "outputs": [],
   "source": []
  },
  {
   "cell_type": "code",
   "execution_count": null,
   "metadata": {},
   "outputs": [],
   "source": []
  },
  {
   "cell_type": "code",
   "execution_count": null,
   "metadata": {},
   "outputs": [],
   "source": []
  },
  {
   "cell_type": "code",
   "execution_count": null,
   "metadata": {},
   "outputs": [],
   "source": []
  },
  {
   "cell_type": "code",
   "execution_count": null,
   "metadata": {},
   "outputs": [],
   "source": []
  },
  {
   "cell_type": "code",
   "execution_count": null,
   "metadata": {},
   "outputs": [],
   "source": []
  },
  {
   "cell_type": "code",
   "execution_count": null,
   "metadata": {},
   "outputs": [],
   "source": []
  },
  {
   "cell_type": "code",
   "execution_count": null,
   "metadata": {},
   "outputs": [],
   "source": []
  },
  {
   "cell_type": "code",
   "execution_count": null,
   "metadata": {},
   "outputs": [],
   "source": []
  },
  {
   "cell_type": "code",
   "execution_count": null,
   "metadata": {},
   "outputs": [],
   "source": []
  },
  {
   "cell_type": "markdown",
   "metadata": {},
   "source": [
    "### Step 1: transform dataset:\n",
    "- each cocktail = one row\n",
    "- all ingredients generalized and combined in one column"
   ]
  },
  {
   "cell_type": "code",
   "execution_count": null,
   "metadata": {
    "scrolled": true
   },
   "outputs": [],
   "source": [
    "# # Add non-alcoholic ingredients in a separate column\n",
    "\n",
    "# df['non_alc_ingredients'] = np.where(~df['Basic_taste'].isnull(), df['strIngredients'], np.nan)"
   ]
  },
  {
   "cell_type": "code",
   "execution_count": null,
   "metadata": {},
   "outputs": [],
   "source": [
    "# # Reduce dataset to only the columns required for current step\n",
    "\n",
    "# df_ingredients = df[['strDrink', 'strCategory', 'Alc_type', 'non_alc_ingredients', 'Garnish_type']]"
   ]
  },
  {
   "cell_type": "code",
   "execution_count": null,
   "metadata": {},
   "outputs": [],
   "source": [
    "# # Drop rows with garnish, this part of the cocktail will be processed on the later stages\n",
    "\n",
    "# df_ingredients.drop(df_ingredients.loc[~df_ingredients['Garnish_type'].isnull()].index, axis=0, inplace=True)"
   ]
  },
  {
   "cell_type": "code",
   "execution_count": null,
   "metadata": {},
   "outputs": [],
   "source": [
    "# # Drop rows with related to punches to avoid scaling issue in next steps\n",
    "\n",
    "# df_ingredients.drop(df_ingredients.loc[df_ingredients['strCategory'].str.contains('Punch')].index, axis=0, inplace=True)"
   ]
  },
  {
   "cell_type": "code",
   "execution_count": null,
   "metadata": {},
   "outputs": [],
   "source": [
    "# # Replace nan values with empty string to align data type for every value\n",
    "\n",
    "# df_ingredients.fillna('', inplace=True)"
   ]
  },
  {
   "cell_type": "code",
   "execution_count": null,
   "metadata": {},
   "outputs": [],
   "source": [
    "# # Replace ' ' with '_' to keep adjectives with nouns\n",
    "\n",
    "# df_ingredients['Alc_type'] = df_ingredients['Alc_type'].apply(lambda x: x.replace(' ', '_'))\n",
    "# df_ingredients['non_alc_ingredients'] = df_ingredients['non_alc_ingredients'].apply(lambda x: x.replace(' ', '_'))"
   ]
  },
  {
   "cell_type": "code",
   "execution_count": null,
   "metadata": {
    "scrolled": true
   },
   "outputs": [],
   "source": [
    "# Reallocate ingredients as columns so each column takes only one row\n",
    "\n",
    "df_ingredients = df_ingredients[df_ingredients['Alc_type'] != 'Alc_type']\n",
    "s =  df_ingredients.groupby('strDrink').cumcount().add(1)\n",
    "df_ingredients = (df_ingredients.set_index(['strDrink',s])\n",
    "        .unstack()\n",
    "        .sort_index(axis=1, level=1)\n",
    "       )\n",
    "df_ingredients.columns = ['{}_{}'.format(a, b) for a,b in df_ingredients.columns]\n",
    "\n",
    "df_ingredients = df_ingredients.reset_index()\n",
    "df_ingredients.head()"
   ]
  },
  {
   "cell_type": "code",
   "execution_count": null,
   "metadata": {},
   "outputs": [],
   "source": [
    "df_ingredients['Ingredients'] = df_ingredients.drop(['strDrink'], axis=1).fillna('').apply(lambda x:\n",
    "                                                                          ' '.join(x), axis=1).apply(lambda x: x.lower())\n",
    "df_ingredients = df_ingredients[['strDrink', 'Ingredients']]"
   ]
  },
  {
   "cell_type": "code",
   "execution_count": null,
   "metadata": {},
   "outputs": [],
   "source": [
    "df_ingredients.head()"
   ]
  },
  {
   "cell_type": "markdown",
   "metadata": {},
   "source": [
    "### Step 2:\n",
    "- split ingerients by pairs\n",
    "- compute most common pairs (N - to be defined depending on results)"
   ]
  },
  {
   "cell_type": "code",
   "execution_count": null,
   "metadata": {},
   "outputs": [],
   "source": [
    "# Generate pairs from ingredients of each cocktail and combine them in one list\n",
    "\n",
    "bigram = [list(nltk.bigrams(nltk.word_tokenize(i))) for i in df_ingredients['Ingredients']]\n",
    "pairs_list = [j for i in bigram for j in i]\n",
    "print(len(pairs_list))\n",
    "pairs_list[:10]"
   ]
  },
  {
   "cell_type": "markdown",
   "metadata": {},
   "source": [
    "There are some tuples where elements are swopped but essential taste of such combination is not unique. Such tuples need to be alighned."
   ]
  },
  {
   "cell_type": "code",
   "execution_count": null,
   "metadata": {
    "scrolled": true
   },
   "outputs": [],
   "source": [
    "# First, define a list of tuples to be amended\n",
    "\n",
    "to_aligh = []\n",
    "for a in pairs_list:\n",
    "    for b in pairs_list:\n",
    "        if a != b:\n",
    "            if b[1] == a[0]:\n",
    "                if b[0] == a[1]:            # If both elements of tuple are equal to the swopped tuple under the check\n",
    "                    if a not in to_aligh and b not in to_aligh:\n",
    "                        to_aligh.append(b)"
   ]
  },
  {
   "cell_type": "code",
   "execution_count": null,
   "metadata": {},
   "outputs": [],
   "source": [
    "# Second, amend them\n",
    "\n",
    "pairs_list_aligned = []\n",
    "for i in pairs_list:\n",
    "    if i in to_aligh:\n",
    "        pairs_list_aligned.append((i[1], i[0]))\n",
    "    else:\n",
    "        pairs_list_aligned.append(i)"
   ]
  },
  {
   "cell_type": "code",
   "execution_count": null,
   "metadata": {
    "scrolled": true
   },
   "outputs": [],
   "source": [
    "# Check that total number of tuples hasn't changed, only content should be amended\n",
    "\n",
    "len(pairs_list_aligned) == len(pairs_list)"
   ]
  },
  {
   "cell_type": "code",
   "execution_count": null,
   "metadata": {
    "scrolled": true
   },
   "outputs": [],
   "source": [
    "# Define 25% of the most common pairs as a separate list\n",
    "\n",
    "counter=collections.Counter(pairs_list_aligned)\n",
    "print(len(counter))\n",
    "common_pairs = counter.most_common(int(len(counter)*0.25))\n",
    "common_pairs"
   ]
  },
  {
   "cell_type": "code",
   "execution_count": null,
   "metadata": {
    "scrolled": true
   },
   "outputs": [],
   "source": [
    "common_ingredients = []\n",
    "\n",
    "for n in common_pairs:\n",
    "    common_ingredients.append(n[0][0])\n",
    "    common_ingredients.append(n[0][1])\n",
    "common_ingredients = list(set(common_ingredients))\n",
    "common_ingredients"
   ]
  },
  {
   "cell_type": "markdown",
   "metadata": {},
   "source": [
    "### Step 3: generate a frame for new combinations:\n",
    "- define total number of ingerients (random choice from a range 3-6))\n",
    "- from ingredients included in top pairs pick one randomly\n",
    "- find suitable pair for this ingredient (from all pairs, but give top pairs bigger weight)\n",
    "- do the same for the next ingredient but check that it's not included already\n",
    "- etc until limit is reached"
   ]
  },
  {
   "cell_type": "code",
   "execution_count": null,
   "metadata": {},
   "outputs": [],
   "source": [
    "# Define total number of ingredients for a new cocktail\n",
    "\n",
    "n_ingr = random.randint(3,7)"
   ]
  },
  {
   "cell_type": "code",
   "execution_count": null,
   "metadata": {},
   "outputs": [],
   "source": [
    "new_cocktail = []"
   ]
  },
  {
   "cell_type": "code",
   "execution_count": null,
   "metadata": {},
   "outputs": [],
   "source": [
    "# Pick the first ingredient randomly from the top popular\n",
    "\n",
    "first_ingr = random.choice(common_ingredients)\n",
    "new_cocktail.append(first_ingr)"
   ]
  },
  {
   "cell_type": "code",
   "execution_count": null,
   "metadata": {},
   "outputs": [],
   "source": [
    "# Identify remaning ingredients\n",
    "\n",
    "counter = 1          # Not zero because the first ingredient is defined separatelly above\n",
    "while counter < n_ingr:\n",
    "    temp_list = []\n",
    "    for i in set(pairs_list_aligned):\n",
    "        if new_cocktail[-1] in i:\n",
    "            temp_list.append(i)\n",
    "    random_pair = random.choice(temp_list)\n",
    "    if random_pair[0] == new_cocktail[-1]:\n",
    "        next_ingr = random_pair[1]\n",
    "    else:\n",
    "        next_ingr = random_pair[0]\n",
    "    new_cocktail.append(next_ingr)\n",
    "    counter += 1"
   ]
  },
  {
   "cell_type": "code",
   "execution_count": null,
   "metadata": {},
   "outputs": [],
   "source": [
    "new_cocktail"
   ]
  },
  {
   "cell_type": "markdown",
   "metadata": {},
   "source": [
    "### Step 4: define volume of each ingredient"
   ]
  },
  {
   "cell_type": "code",
   "execution_count": null,
   "metadata": {},
   "outputs": [],
   "source": [
    "# Create new dataframe with relevant columns only\n",
    "\n",
    "df_measures = df[['strDrink', 'strCategory', 'Alc_type', 'non_alc_ingredients', 'Value_ml', 'Value_gr', 'Garnish_type']]"
   ]
  },
  {
   "cell_type": "code",
   "execution_count": null,
   "metadata": {},
   "outputs": [],
   "source": [
    "# # Drop rows with garnish, this part of the cocktail will be processed on the later stages\n",
    "\n",
    "# df_measures.drop(df_measures.loc[~df_measures['Garnish_type'].isnull()].index, axis=0, inplace=True)"
   ]
  },
  {
   "cell_type": "code",
   "execution_count": null,
   "metadata": {},
   "outputs": [],
   "source": [
    "# # Remove cocktails given in big volumes to align scale\n",
    "\n",
    "# df_measures.drop(df_measures.loc[df_measures['strCategory'].str.contains('Punch')].index, axis=0, inplace=True)"
   ]
  },
  {
   "cell_type": "code",
   "execution_count": null,
   "metadata": {},
   "outputs": [],
   "source": [
    "# Combine values in one column and define measure for each in a separate column\n",
    "\n",
    "df_measures['Measure'] = np.where(df_measures['Value_ml'].isnull(), 'gr', 'ml')\n",
    "df_measures['Value'] = df_measures['Value_ml'].fillna(0) + df_measures['Value_gr'].fillna(0)\n",
    "# df_measures['Ingredients'] = df_measures['Alc_type'].fillna('') + df_measures['non_alc_ingredients'].fillna('')\n",
    "# df_measures['Ingredients'] = df_measures['Ingredients'].apply(lambda x: x.lower()).apply(lambda x: x.replace(' ', '_'))\n",
    "df_measures.head()"
   ]
  },
  {
   "cell_type": "code",
   "execution_count": null,
   "metadata": {},
   "outputs": [],
   "source": [
    "# Combine value and measure in one string, this way it will be easier to pick up random value together with correct measure\n",
    "\n",
    "df_measures['Value'] = df_measures['Value'].astype('object').apply(lambda x: str(x))\n",
    "df_measures['Value_Measure'] = df_measures[['Value', 'Measure']].apply(lambda x: ' '.join(x), axis=1)\n",
    "df_measures.head()"
   ]
  },
  {
   "cell_type": "code",
   "execution_count": null,
   "metadata": {
    "scrolled": true
   },
   "outputs": [],
   "source": [
    "# Pick up random volume of each ingredient\n",
    "\n",
    "for i in new_cocktail:\n",
    "    volume = [random.choice(df_measures.loc[df_measures['Ingredients'] == i]['Value_Measure'].tolist()) for i in new_cocktail]\n",
    "    new_cocktail_final = pd.DataFrame({'Ingredient': new_cocktail, 'Volume': volume})\n",
    "    new_cocktail_final"
   ]
  },
  {
   "cell_type": "markdown",
   "metadata": {},
   "source": [
    "### Step 5: define garnish"
   ]
  },
  {
   "cell_type": "markdown",
   "metadata": {},
   "source": [
    "***1) Prepare list of main ingredients with garnish for each cocktail in dataset***"
   ]
  },
  {
   "cell_type": "code",
   "execution_count": null,
   "metadata": {},
   "outputs": [],
   "source": [
    "# Define reduced dataframe which contains only relevant fields\n",
    "\n",
    "df_garnish = df[['strDrink', 'strIngredients', 'Alc_type', 'Value_ml', 'Garnish_amount', 'Garnish_type']]"
   ]
  },
  {
   "cell_type": "code",
   "execution_count": null,
   "metadata": {},
   "outputs": [],
   "source": [
    "df_garnish['Ingredients'] = np.where(df_garnish['Alc_type'].isnull(), df_garnish['strIngredients'], df_garnish['Alc_type'])"
   ]
  },
  {
   "cell_type": "code",
   "execution_count": null,
   "metadata": {},
   "outputs": [],
   "source": [
    "# Combine value and measure of garnish in one column so it will be easier to pick it up later in the code\n",
    "\n",
    "df_garnish['Garnish_ingr'] = np.where(~df_garnish['Garnish_amount'].isnull(), df_garnish['strIngredients'], np.nan)\n",
    "df_garnish['Garnish'] = df_garnish[['Garnish_ingr', 'Garnish_amount', 'Garnish_type']].fillna('').apply(lambda x:\n",
    "                                                                                                       ' '.join(x), axis=1)\n",
    "df_garnish['Garnish'] = df_garnish['Garnish'].apply(lambda x: x.replace('0 top', 'top'))\n",
    "df_garnish['Garnish'] = np.where(df_garnish['Garnish'] == '  ', np.nan, df_garnish['Garnish'])"
   ]
  },
  {
   "cell_type": "code",
   "execution_count": null,
   "metadata": {},
   "outputs": [],
   "source": [
    "# Rearrange dataframe that way that it's possible to identify garnish per cocktail per dominant ingredient\n",
    "\n",
    "drink_name_list = []\n",
    "garnish_list = []\n",
    "ingredient_list = []\n",
    "\n",
    "for drink in df_garnish['strDrink'].unique():      # For each cocktial\n",
    "    df_selected = df_garnish.loc[df_garnish['strDrink'] == drink]\n",
    "    max_value = df_selected['Value_ml'].max()\n",
    "\n",
    "    for ingr in df_selected.loc[df_selected['Value_ml'] == max_value]['Ingredients']:\n",
    "        for garnish in df_selected['Garnish'].unique():\n",
    "            drink_name_list.append(drink)\n",
    "            garnish_list.append(garnish)           # Include all garnishes for the drink\n",
    "            ingredient_list.append(ingr)           # Include an ingredient taking the biggest part of the drink\n",
    "\n",
    "df_garnish_final = pd.DataFrame({'Drink':drink_name_list, 'Ingredient':ingredient_list, 'Garnish':garnish_list})\n",
    "df_garnish_final.drop(df_garnish_final.loc[df_garnish_final['Garnish'].isnull()].index, axis=0, inplace = True)"
   ]
  },
  {
   "cell_type": "code",
   "execution_count": null,
   "metadata": {
    "scrolled": true
   },
   "outputs": [],
   "source": [
    "df_garnish_final.head()"
   ]
  },
  {
   "cell_type": "markdown",
   "metadata": {},
   "source": [
    "***2) Identify a main ingredient of a generated cocktail***"
   ]
  },
  {
   "cell_type": "code",
   "execution_count": null,
   "metadata": {
    "scrolled": true
   },
   "outputs": [],
   "source": [
    "new_cocktail_final"
   ]
  },
  {
   "cell_type": "code",
   "execution_count": null,
   "metadata": {
    "scrolled": true
   },
   "outputs": [],
   "source": [
    "new_cocktail_final = new_cocktail_final.join(new_cocktail_final['Volume'].str.rsplit(n=1, expand=True).rename(columns={\n",
    "                                                                                                    0: 'Value', 1: 'Measure'}))\n",
    "new_cocktail_final['Value'] = new_cocktail_final['Value'].astype('float')"
   ]
  },
  {
   "cell_type": "code",
   "execution_count": null,
   "metadata": {},
   "outputs": [],
   "source": [
    "main_ingr = random.choice(new_cocktail_final.loc[new_cocktail_final['Value'] ==\n",
    "                                                                     new_cocktail_final['Value'].max()]['Ingredient'].tolist())"
   ]
  },
  {
   "cell_type": "code",
   "execution_count": null,
   "metadata": {},
   "outputs": [],
   "source": [
    "new_cocktail_final.drop(['Value', 'Measure'], axis=1, inplace=True)"
   ]
  },
  {
   "cell_type": "markdown",
   "metadata": {},
   "source": [
    "***3) Find suitable garnish and add to the recipe***"
   ]
  },
  {
   "cell_type": "code",
   "execution_count": null,
   "metadata": {},
   "outputs": [],
   "source": [
    "garnish_to_add = df_garnish_final.loc[df_garnish_final['Ingredient'] == main_ingr]['Garnish'].tolist()\n",
    "\n",
    "if garnish_to_add:\n",
    "    new_cocktail_final.loc[len(new_cocktail_final)] = ['garnish', garnish_to_add]"
   ]
  },
  {
   "cell_type": "code",
   "execution_count": null,
   "metadata": {},
   "outputs": [],
   "source": [
    "new_cocktail_final"
   ]
  },
  {
   "cell_type": "markdown",
   "metadata": {},
   "source": [
    "### List alcoholic ingredients"
   ]
  },
  {
   "cell_type": "code",
   "execution_count": null,
   "metadata": {},
   "outputs": [],
   "source": [
    "df.head()"
   ]
  },
  {
   "cell_type": "code",
   "execution_count": null,
   "metadata": {},
   "outputs": [],
   "source": [
    "df['Alc_type'].unique()"
   ]
  },
  {
   "cell_type": "code",
   "execution_count": null,
   "metadata": {
    "scrolled": true
   },
   "outputs": [],
   "source": [
    "for i in df['Alc_type'].unique():\n",
    "    print(i)\n",
    "    print(df.loc[df['Alc_type'] == i]['strIngredients'].unique())\n",
    "    print('*'*100)"
   ]
  },
  {
   "cell_type": "code",
   "execution_count": null,
   "metadata": {},
   "outputs": [],
   "source": [
    "# for i in new_cocktail:\n",
    "#     random.choice(df.loc[df['Alc_type'] == i]['strIngredients'].unique().tolist())"
   ]
  },
  {
   "cell_type": "code",
   "execution_count": null,
   "metadata": {},
   "outputs": [],
   "source": [
    "new_cocktail_final"
   ]
  },
  {
   "cell_type": "code",
   "execution_count": null,
   "metadata": {
    "scrolled": true
   },
   "outputs": [],
   "source": [
    "a = df_measures.loc[df_measures['Ingredients'] == 'gin']\n",
    "a.loc[a['Measure'] == 'gr']"
   ]
  },
  {
   "cell_type": "code",
   "execution_count": null,
   "metadata": {},
   "outputs": [],
   "source": [
    "df_measures.loc[df_measures['Value'] == '0.0']"
   ]
  },
  {
   "cell_type": "code",
   "execution_count": null,
   "metadata": {},
   "outputs": [],
   "source": [
    "len(df_measures)"
   ]
  },
  {
   "cell_type": "code",
   "execution_count": null,
   "metadata": {},
   "outputs": [],
   "source": [
    "df.loc[df['strIngredients'] == \"Lavender\"]"
   ]
  },
  {
   "cell_type": "code",
   "execution_count": null,
   "metadata": {},
   "outputs": [],
   "source": []
  },
  {
   "cell_type": "code",
   "execution_count": null,
   "metadata": {},
   "outputs": [],
   "source": []
  },
  {
   "cell_type": "code",
   "execution_count": null,
   "metadata": {},
   "outputs": [],
   "source": []
  },
  {
   "cell_type": "code",
   "execution_count": null,
   "metadata": {},
   "outputs": [],
   "source": []
  },
  {
   "cell_type": "code",
   "execution_count": null,
   "metadata": {},
   "outputs": [],
   "source": []
  },
  {
   "cell_type": "code",
   "execution_count": null,
   "metadata": {},
   "outputs": [],
   "source": []
  },
  {
   "cell_type": "code",
   "execution_count": null,
   "metadata": {},
   "outputs": [],
   "source": []
  },
  {
   "cell_type": "code",
   "execution_count": null,
   "metadata": {},
   "outputs": [],
   "source": [
    "# Try to set up lists of liqueurs and maybe other alcohol ingredients."
   ]
  },
  {
   "cell_type": "code",
   "execution_count": null,
   "metadata": {},
   "outputs": [],
   "source": [
    "# Refactoring might be done to rearrange the code that way that to generate new cocktail you don't have to run whole file"
   ]
  }
 ],
 "metadata": {
  "kernelspec": {
   "display_name": "Python 3",
   "language": "python",
   "name": "python3"
  },
  "language_info": {
   "codemirror_mode": {
    "name": "ipython",
    "version": 3
   },
   "file_extension": ".py",
   "mimetype": "text/x-python",
   "name": "python",
   "nbconvert_exporter": "python",
   "pygments_lexer": "ipython3",
   "version": "3.8.3"
  }
 },
 "nbformat": 4,
 "nbformat_minor": 4
}
