{
 "cells": [
  {
   "cell_type": "code",
   "execution_count": 1,
   "metadata": {},
   "outputs": [],
   "source": [
    "# !jupyter nbconvert --to script main.ipynb"
   ]
  },
  {
   "cell_type": "code",
   "execution_count": 2,
   "metadata": {},
   "outputs": [
    {
     "name": "stdout",
     "output_type": "stream",
     "text": [
      "951\n",
      "455\n"
     ]
    }
   ],
   "source": [
    "%run ./main.py"
   ]
  },
  {
   "cell_type": "code",
   "execution_count": 3,
   "metadata": {},
   "outputs": [],
   "source": [
    "def create_cocktail():\n",
    "    # Define total number of ingredients for a new cocktail\n",
    "    n_ingr = random.randint(3,6)\n",
    "#     print(f'Choice is {choice}')\n",
    "    if choice == 0:       # user trusts the machine\n",
    "        # Pick the first ingredient randomly from the top popular\n",
    "        new_cocktail = [first_ingredient()]\n",
    "    \n",
    "    elif choice == 1:\n",
    "        new_cocktail = [user_choice_var]      # take user's input\n",
    "#         print(new_cocktail)\n",
    "\n",
    "    # Identify remaning ingredients\n",
    "    counter = 1          # Not zero because the first ingredient is defined separatelly above\n",
    "    while counter < n_ingr:\n",
    "        new_cocktail.append(next_ingredient(new_cocktail))\n",
    "        counter += 1\n",
    "\n",
    "    new_cocktail_final = liqueurs(garnish(volume(new_cocktail)))\n",
    "\n",
    "    return display(new_cocktail_final)"
   ]
  },
  {
   "cell_type": "code",
   "execution_count": 4,
   "metadata": {},
   "outputs": [],
   "source": [
    "# Function creating dropdown list\n",
    "\n",
    "def user_choice():\n",
    "    common_ingredients.sort()\n",
    "\n",
    "    master = Tk()\n",
    "\n",
    "    variable = StringVar(master)\n",
    "    variable.set('Beer') # default value\n",
    "\n",
    "    w = OptionMenu(master, variable, *common_ingredients)\n",
    "    w.pack()\n",
    "\n",
    "    def ok():\n",
    "        master.destroy()\n",
    "\n",
    "    button = Button(master, text=\"OK\", command=ok)\n",
    "    button.pack()\n",
    "\n",
    "    mainloop()\n",
    "    return(variable.get())"
   ]
  },
  {
   "cell_type": "code",
   "execution_count": 5,
   "metadata": {},
   "outputs": [],
   "source": [
    "# Function running dialog window with two buttons\n",
    "\n",
    "def buttons():\n",
    "    window = Tk()\n",
    "    window.geometry('400x100')\n",
    "    window.title('Welcome')\n",
    "\n",
    "    label1 = Label(window, text='Do you want to select the first ingredient or do you trust the Machine?')\n",
    "    label1.place(x=1, y=10)\n",
    "\n",
    "    def machine():\n",
    "        global choice\n",
    "        choice = 0\n",
    "        create_cocktail()\n",
    "        window.destroy()\n",
    "\n",
    "    def user():\n",
    "        global choice, user_choice_var\n",
    "        choice = 1\n",
    "        window.destroy()\n",
    "        user_choice_var = user_choice()\n",
    "        create_cocktail()\n",
    "\n",
    "        \n",
    "\n",
    "    b1 = Button(window, text='trust the Machine', command=machine)\n",
    "    b1.place(x=30, y=60)\n",
    "\n",
    "    b2 = Button(window, text='select the first ingredient', command=user)\n",
    "    b2.place(x=220, y=60)\n",
    "\n",
    "    window.mainloop()"
   ]
  },
  {
   "cell_type": "code",
   "execution_count": 6,
   "metadata": {
    "scrolled": true
   },
   "outputs": [
    {
     "data": {
      "application/vnd.jupyter.widget-view+json": {
       "model_id": "b0195945bd954c168a13d75240f7a2cf",
       "version_major": 2,
       "version_minor": 0
      },
      "text/plain": [
       "VBox(children=(Button(description='Create a new cocktail', style=ButtonStyle()), Output()))"
      ]
     },
     "metadata": {},
     "output_type": "display_data"
    }
   ],
   "source": [
    "# One button to initiate creation\n",
    "\n",
    "button = widgets.Button(description='Create a new cocktail')\n",
    "out = widgets.Output()\n",
    "\n",
    "def on_button_clicked(_):\n",
    "      # \"linking function with output\"\n",
    "    with out:\n",
    "          # what happens when we press the button\n",
    "        clear_output()\n",
    "        buttons()\n",
    "\n",
    "# linking button and function together using a button's method\n",
    "button.on_click(on_button_clicked)\n",
    "# displaying button and its output together\n",
    "widgets.VBox([button,out])"
   ]
  },
  {
   "cell_type": "code",
   "execution_count": 7,
   "metadata": {},
   "outputs": [
    {
     "data": {
      "text/html": [
       "<script>\n",
       "code_show=true; \n",
       "function code_toggle() {\n",
       " if (code_show){\n",
       " $('div.input').hide();\n",
       " } else {\n",
       " $('div.input').show();\n",
       " }\n",
       " code_show = !code_show\n",
       "} \n",
       "$( document ).ready(code_toggle);\n",
       "</script>\n",
       "<form action=\"javascript:code_toggle()\"><input type=\"submit\" value=\"Click here to toggle on/off the raw code.\"></form>"
      ],
      "text/plain": [
       "<IPython.core.display.HTML object>"
      ]
     },
     "execution_count": 7,
     "metadata": {},
     "output_type": "execute_result"
    }
   ],
   "source": [
    "# Script to hide code\n",
    "\n",
    "from IPython.display import HTML\n",
    "\n",
    "HTML('''<script>\n",
    "code_show=true; \n",
    "function code_toggle() {\n",
    " if (code_show){\n",
    " $('div.input').hide();\n",
    " } else {\n",
    " $('div.input').show();\n",
    " }\n",
    " code_show = !code_show\n",
    "} \n",
    "$( document ).ready(code_toggle);\n",
    "</script>\n",
    "<form action=\"javascript:code_toggle()\"><input type=\"submit\" value=\"Click here to toggle on/off the raw code.\"></form>''')"
   ]
  },
  {
   "cell_type": "code",
   "execution_count": null,
   "metadata": {},
   "outputs": [],
   "source": []
  }
 ],
 "metadata": {
  "kernelspec": {
   "display_name": "Python 3",
   "language": "python",
   "name": "python3"
  },
  "language_info": {
   "codemirror_mode": {
    "name": "ipython",
    "version": 3
   },
   "file_extension": ".py",
   "mimetype": "text/x-python",
   "name": "python",
   "nbconvert_exporter": "python",
   "pygments_lexer": "ipython3",
   "version": "3.8.3"
  }
 },
 "nbformat": 4,
 "nbformat_minor": 4
}
