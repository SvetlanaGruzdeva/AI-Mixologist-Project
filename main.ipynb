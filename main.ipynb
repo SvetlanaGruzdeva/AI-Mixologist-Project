{
 "cells": [
  {
   "cell_type": "code",
   "execution_count": 1,
   "metadata": {},
   "outputs": [],
   "source": [
    "import warnings\n",
    "import pandas as pd\n",
    "import numpy as np\n",
    "import nltk\n",
    "import collections\n",
    "import random\n",
    "# import matplotlib.pyplot as plt\n",
    "# import seaborn as sns\n",
    "# import os\n",
    "# import re\n",
    "# import math\n",
    "# from sqlalchemy import create_engine\n",
    "# import pymysql\n",
    "# import requests\n",
    "# from bs4 import BeautifulSoup\n",
    "# from sklearn.linear_model import LinearRegression\n",
    "# from statsmodels.tsa.ar_model import AR\n",
    "# from statsmodels.tools.eval_measures import rmse\n",
    "# from scipy import stats"
   ]
  },
  {
   "cell_type": "code",
   "execution_count": 2,
   "metadata": {},
   "outputs": [],
   "source": [
    "pd.set_option('display.max_columns', 100)\n",
    "warnings.filterwarnings('ignore')"
   ]
  },
  {
   "cell_type": "code",
   "execution_count": 3,
   "metadata": {},
   "outputs": [],
   "source": [
    "df = pd.read_csv('./clean_data/clean_data.csv')\n",
    "df.drop('Unnamed: 0', axis=1, inplace=True)"
   ]
  },
  {
   "cell_type": "markdown",
   "metadata": {},
   "source": [
    "### Step 1: transform dataset:\n",
    "- each cocktail = one row\n",
    "- all ingredients generalized and combined in one column"
   ]
  },
  {
   "cell_type": "code",
   "execution_count": 4,
   "metadata": {
    "scrolled": true
   },
   "outputs": [],
   "source": [
    "# Add non-alcoholic ingredients in a separate column\n",
    "\n",
    "df['non_alc_ingredients'] = np.where(~df['Basic_taste'].isnull(), df['strIngredients'], np.nan)"
   ]
  },
  {
   "cell_type": "code",
   "execution_count": 5,
   "metadata": {},
   "outputs": [],
   "source": [
    "# Reduce dataset to only the columns required for current step\n",
    "\n",
    "df_ingredients = df[['strDrink', 'strCategory', 'Alc_type', 'non_alc_ingredients', 'Garnish_type']]"
   ]
  },
  {
   "cell_type": "code",
   "execution_count": 6,
   "metadata": {},
   "outputs": [],
   "source": [
    "# Drop rows with garnish, this part of the cocktail will be processed on the later stages\n",
    "\n",
    "df_ingredients.drop(df_ingredients.loc[~df_ingredients['Garnish_type'].isnull()].index, axis=0, inplace=True)"
   ]
  },
  {
   "cell_type": "code",
   "execution_count": 7,
   "metadata": {},
   "outputs": [],
   "source": [
    "# Drop rows with related to punches to avoid scaling issue in next steps\n",
    "\n",
    "df_ingredients.drop(df_ingredients.loc[df_ingredients['strCategory'].str.contains('Punch')].index, axis=0, inplace=True)"
   ]
  },
  {
   "cell_type": "code",
   "execution_count": 8,
   "metadata": {},
   "outputs": [],
   "source": [
    "# Replace nan values with empty string to align data type for every value\n",
    "\n",
    "df_ingredients.fillna('', inplace=True)"
   ]
  },
  {
   "cell_type": "code",
   "execution_count": 9,
   "metadata": {},
   "outputs": [],
   "source": [
    "# Replace ' ' with '_' to keep adjectives with nouns\n",
    "\n",
    "df_ingredients['Alc_type'] = df_ingredients['Alc_type'].apply(lambda x: x.replace(' ', '_'))\n",
    "df_ingredients['non_alc_ingredients'] = df_ingredients['non_alc_ingredients'].apply(lambda x: x.replace(' ', '_'))"
   ]
  },
  {
   "cell_type": "code",
   "execution_count": 10,
   "metadata": {
    "scrolled": true
   },
   "outputs": [
    {
     "data": {
      "text/html": [
       "<div>\n",
       "<style scoped>\n",
       "    .dataframe tbody tr th:only-of-type {\n",
       "        vertical-align: middle;\n",
       "    }\n",
       "\n",
       "    .dataframe tbody tr th {\n",
       "        vertical-align: top;\n",
       "    }\n",
       "\n",
       "    .dataframe thead th {\n",
       "        text-align: right;\n",
       "    }\n",
       "</style>\n",
       "<table border=\"1\" class=\"dataframe\">\n",
       "  <thead>\n",
       "    <tr style=\"text-align: right;\">\n",
       "      <th></th>\n",
       "      <th>strDrink</th>\n",
       "      <th>Alc_type_1</th>\n",
       "      <th>Garnish_type_1</th>\n",
       "      <th>non_alc_ingredients_1</th>\n",
       "      <th>strCategory_1</th>\n",
       "      <th>Alc_type_2</th>\n",
       "      <th>Garnish_type_2</th>\n",
       "      <th>non_alc_ingredients_2</th>\n",
       "      <th>strCategory_2</th>\n",
       "      <th>Alc_type_3</th>\n",
       "      <th>Garnish_type_3</th>\n",
       "      <th>non_alc_ingredients_3</th>\n",
       "      <th>strCategory_3</th>\n",
       "      <th>Alc_type_4</th>\n",
       "      <th>Garnish_type_4</th>\n",
       "      <th>non_alc_ingredients_4</th>\n",
       "      <th>strCategory_4</th>\n",
       "      <th>Alc_type_5</th>\n",
       "      <th>Garnish_type_5</th>\n",
       "      <th>non_alc_ingredients_5</th>\n",
       "      <th>strCategory_5</th>\n",
       "      <th>Alc_type_6</th>\n",
       "      <th>Garnish_type_6</th>\n",
       "      <th>non_alc_ingredients_6</th>\n",
       "      <th>strCategory_6</th>\n",
       "      <th>Alc_type_7</th>\n",
       "      <th>Garnish_type_7</th>\n",
       "      <th>non_alc_ingredients_7</th>\n",
       "      <th>strCategory_7</th>\n",
       "      <th>Alc_type_8</th>\n",
       "      <th>Garnish_type_8</th>\n",
       "      <th>non_alc_ingredients_8</th>\n",
       "      <th>strCategory_8</th>\n",
       "    </tr>\n",
       "  </thead>\n",
       "  <tbody>\n",
       "    <tr>\n",
       "      <th>0</th>\n",
       "      <td>'57 Chevy with a White License Plate</td>\n",
       "      <td>Creamy_Liqueur</td>\n",
       "      <td></td>\n",
       "      <td></td>\n",
       "      <td>Cocktail</td>\n",
       "      <td>Vodka</td>\n",
       "      <td></td>\n",
       "      <td></td>\n",
       "      <td>Cocktail</td>\n",
       "      <td>NaN</td>\n",
       "      <td>NaN</td>\n",
       "      <td>NaN</td>\n",
       "      <td>NaN</td>\n",
       "      <td>NaN</td>\n",
       "      <td>NaN</td>\n",
       "      <td>NaN</td>\n",
       "      <td>NaN</td>\n",
       "      <td>NaN</td>\n",
       "      <td>NaN</td>\n",
       "      <td>NaN</td>\n",
       "      <td>NaN</td>\n",
       "      <td>NaN</td>\n",
       "      <td>NaN</td>\n",
       "      <td>NaN</td>\n",
       "      <td>NaN</td>\n",
       "      <td>NaN</td>\n",
       "      <td>NaN</td>\n",
       "      <td>NaN</td>\n",
       "      <td>NaN</td>\n",
       "      <td>NaN</td>\n",
       "      <td>NaN</td>\n",
       "      <td>NaN</td>\n",
       "      <td>NaN</td>\n",
       "    </tr>\n",
       "    <tr>\n",
       "      <th>1</th>\n",
       "      <td>1-900-FUK-MEUP</td>\n",
       "      <td>Vodka</td>\n",
       "      <td></td>\n",
       "      <td></td>\n",
       "      <td>Shot</td>\n",
       "      <td>Triple_Sec</td>\n",
       "      <td></td>\n",
       "      <td></td>\n",
       "      <td>Shot</td>\n",
       "      <td>Sweet_Liqueur</td>\n",
       "      <td></td>\n",
       "      <td></td>\n",
       "      <td>Shot</td>\n",
       "      <td>Sweet_Liqueur</td>\n",
       "      <td></td>\n",
       "      <td></td>\n",
       "      <td>Shot</td>\n",
       "      <td>Rum</td>\n",
       "      <td></td>\n",
       "      <td></td>\n",
       "      <td>Shot</td>\n",
       "      <td>Sweet_Liqueur</td>\n",
       "      <td></td>\n",
       "      <td></td>\n",
       "      <td>Shot</td>\n",
       "      <td></td>\n",
       "      <td></td>\n",
       "      <td>Cranberry_Juice</td>\n",
       "      <td>Shot</td>\n",
       "      <td></td>\n",
       "      <td></td>\n",
       "      <td>Pineapple_Juice</td>\n",
       "      <td>Shot</td>\n",
       "    </tr>\n",
       "    <tr>\n",
       "      <th>2</th>\n",
       "      <td>110 in the shade</td>\n",
       "      <td>Beer</td>\n",
       "      <td></td>\n",
       "      <td></td>\n",
       "      <td>Beer</td>\n",
       "      <td>Tequila</td>\n",
       "      <td></td>\n",
       "      <td></td>\n",
       "      <td>Beer</td>\n",
       "      <td>NaN</td>\n",
       "      <td>NaN</td>\n",
       "      <td>NaN</td>\n",
       "      <td>NaN</td>\n",
       "      <td>NaN</td>\n",
       "      <td>NaN</td>\n",
       "      <td>NaN</td>\n",
       "      <td>NaN</td>\n",
       "      <td>NaN</td>\n",
       "      <td>NaN</td>\n",
       "      <td>NaN</td>\n",
       "      <td>NaN</td>\n",
       "      <td>NaN</td>\n",
       "      <td>NaN</td>\n",
       "      <td>NaN</td>\n",
       "      <td>NaN</td>\n",
       "      <td>NaN</td>\n",
       "      <td>NaN</td>\n",
       "      <td>NaN</td>\n",
       "      <td>NaN</td>\n",
       "      <td>NaN</td>\n",
       "      <td>NaN</td>\n",
       "      <td>NaN</td>\n",
       "      <td>NaN</td>\n",
       "    </tr>\n",
       "    <tr>\n",
       "      <th>3</th>\n",
       "      <td>151 Florida Bushwacker</td>\n",
       "      <td>Rum</td>\n",
       "      <td></td>\n",
       "      <td></td>\n",
       "      <td>Milk / Float / Shake</td>\n",
       "      <td>Rum</td>\n",
       "      <td></td>\n",
       "      <td></td>\n",
       "      <td>Milk / Float / Shake</td>\n",
       "      <td>Rum</td>\n",
       "      <td></td>\n",
       "      <td></td>\n",
       "      <td>Milk / Float / Shake</td>\n",
       "      <td>Creamy_Liqueur</td>\n",
       "      <td></td>\n",
       "      <td></td>\n",
       "      <td>Milk / Float / Shake</td>\n",
       "      <td>Triple_Sec</td>\n",
       "      <td></td>\n",
       "      <td></td>\n",
       "      <td>Milk / Float / Shake</td>\n",
       "      <td></td>\n",
       "      <td></td>\n",
       "      <td>Milk</td>\n",
       "      <td>Milk / Float / Shake</td>\n",
       "      <td>Sweet_Liqueur</td>\n",
       "      <td></td>\n",
       "      <td></td>\n",
       "      <td>Milk / Float / Shake</td>\n",
       "      <td></td>\n",
       "      <td></td>\n",
       "      <td>Vanilla_Ice-Cream</td>\n",
       "      <td>Milk / Float / Shake</td>\n",
       "    </tr>\n",
       "    <tr>\n",
       "      <th>4</th>\n",
       "      <td>155 Belmont</td>\n",
       "      <td>Rum</td>\n",
       "      <td></td>\n",
       "      <td></td>\n",
       "      <td>Cocktail</td>\n",
       "      <td>Rum</td>\n",
       "      <td></td>\n",
       "      <td></td>\n",
       "      <td>Cocktail</td>\n",
       "      <td>Vodka</td>\n",
       "      <td></td>\n",
       "      <td></td>\n",
       "      <td>Cocktail</td>\n",
       "      <td></td>\n",
       "      <td></td>\n",
       "      <td>Orange_Juice</td>\n",
       "      <td>Cocktail</td>\n",
       "      <td>NaN</td>\n",
       "      <td>NaN</td>\n",
       "      <td>NaN</td>\n",
       "      <td>NaN</td>\n",
       "      <td>NaN</td>\n",
       "      <td>NaN</td>\n",
       "      <td>NaN</td>\n",
       "      <td>NaN</td>\n",
       "      <td>NaN</td>\n",
       "      <td>NaN</td>\n",
       "      <td>NaN</td>\n",
       "      <td>NaN</td>\n",
       "      <td>NaN</td>\n",
       "      <td>NaN</td>\n",
       "      <td>NaN</td>\n",
       "      <td>NaN</td>\n",
       "    </tr>\n",
       "  </tbody>\n",
       "</table>\n",
       "</div>"
      ],
      "text/plain": [
       "                               strDrink      Alc_type_1 Garnish_type_1  \\\n",
       "0  '57 Chevy with a White License Plate  Creamy_Liqueur                  \n",
       "1                        1-900-FUK-MEUP           Vodka                  \n",
       "2                      110 in the shade            Beer                  \n",
       "3                151 Florida Bushwacker             Rum                  \n",
       "4                           155 Belmont             Rum                  \n",
       "\n",
       "  non_alc_ingredients_1         strCategory_1  Alc_type_2 Garnish_type_2  \\\n",
       "0                                    Cocktail       Vodka                  \n",
       "1                                        Shot  Triple_Sec                  \n",
       "2                                        Beer     Tequila                  \n",
       "3                        Milk / Float / Shake         Rum                  \n",
       "4                                    Cocktail         Rum                  \n",
       "\n",
       "  non_alc_ingredients_2         strCategory_2     Alc_type_3 Garnish_type_3  \\\n",
       "0                                    Cocktail            NaN            NaN   \n",
       "1                                        Shot  Sweet_Liqueur                  \n",
       "2                                        Beer            NaN            NaN   \n",
       "3                        Milk / Float / Shake            Rum                  \n",
       "4                                    Cocktail          Vodka                  \n",
       "\n",
       "  non_alc_ingredients_3         strCategory_3      Alc_type_4 Garnish_type_4  \\\n",
       "0                   NaN                   NaN             NaN            NaN   \n",
       "1                                        Shot   Sweet_Liqueur                  \n",
       "2                   NaN                   NaN             NaN            NaN   \n",
       "3                        Milk / Float / Shake  Creamy_Liqueur                  \n",
       "4                                    Cocktail                                  \n",
       "\n",
       "  non_alc_ingredients_4         strCategory_4  Alc_type_5 Garnish_type_5  \\\n",
       "0                   NaN                   NaN         NaN            NaN   \n",
       "1                                        Shot         Rum                  \n",
       "2                   NaN                   NaN         NaN            NaN   \n",
       "3                        Milk / Float / Shake  Triple_Sec                  \n",
       "4          Orange_Juice              Cocktail         NaN            NaN   \n",
       "\n",
       "  non_alc_ingredients_5         strCategory_5     Alc_type_6 Garnish_type_6  \\\n",
       "0                   NaN                   NaN            NaN            NaN   \n",
       "1                                        Shot  Sweet_Liqueur                  \n",
       "2                   NaN                   NaN            NaN            NaN   \n",
       "3                        Milk / Float / Shake                                 \n",
       "4                   NaN                   NaN            NaN            NaN   \n",
       "\n",
       "  non_alc_ingredients_6         strCategory_6     Alc_type_7 Garnish_type_7  \\\n",
       "0                   NaN                   NaN            NaN            NaN   \n",
       "1                                        Shot                                 \n",
       "2                   NaN                   NaN            NaN            NaN   \n",
       "3                  Milk  Milk / Float / Shake  Sweet_Liqueur                  \n",
       "4                   NaN                   NaN            NaN            NaN   \n",
       "\n",
       "  non_alc_ingredients_7         strCategory_7 Alc_type_8 Garnish_type_8  \\\n",
       "0                   NaN                   NaN        NaN            NaN   \n",
       "1       Cranberry_Juice                  Shot                             \n",
       "2                   NaN                   NaN        NaN            NaN   \n",
       "3                        Milk / Float / Shake                             \n",
       "4                   NaN                   NaN        NaN            NaN   \n",
       "\n",
       "  non_alc_ingredients_8         strCategory_8  \n",
       "0                   NaN                   NaN  \n",
       "1       Pineapple_Juice                  Shot  \n",
       "2                   NaN                   NaN  \n",
       "3     Vanilla_Ice-Cream  Milk / Float / Shake  \n",
       "4                   NaN                   NaN  "
      ]
     },
     "execution_count": 10,
     "metadata": {},
     "output_type": "execute_result"
    }
   ],
   "source": [
    "# Reallocate ingredients as columns so each column takes only one row\n",
    "\n",
    "df_ingredients = df_ingredients[df_ingredients['Alc_type'] != 'Alc_type']\n",
    "s =  df_ingredients.groupby('strDrink').cumcount().add(1)\n",
    "df_ingredients = (df_ingredients.set_index(['strDrink',s])\n",
    "        .unstack()\n",
    "        .sort_index(axis=1, level=1)\n",
    "       )\n",
    "df_ingredients.columns = ['{}_{}'.format(a, b) for a,b in df_ingredients.columns]\n",
    "\n",
    "df_ingredients = df_ingredients.reset_index()\n",
    "df_ingredients.head()"
   ]
  },
  {
   "cell_type": "code",
   "execution_count": 11,
   "metadata": {},
   "outputs": [],
   "source": [
    "df_ingredients['Ingredients'] = df_ingredients.drop(['strDrink'], axis=1).fillna('').apply(lambda x:\n",
    "                                                                          ' '.join(x), axis=1).apply(lambda x: x.lower())\n",
    "df_ingredients = df_ingredients[['strDrink', 'Ingredients']]"
   ]
  },
  {
   "cell_type": "code",
   "execution_count": 12,
   "metadata": {},
   "outputs": [
    {
     "data": {
      "text/html": [
       "<div>\n",
       "<style scoped>\n",
       "    .dataframe tbody tr th:only-of-type {\n",
       "        vertical-align: middle;\n",
       "    }\n",
       "\n",
       "    .dataframe tbody tr th {\n",
       "        vertical-align: top;\n",
       "    }\n",
       "\n",
       "    .dataframe thead th {\n",
       "        text-align: right;\n",
       "    }\n",
       "</style>\n",
       "<table border=\"1\" class=\"dataframe\">\n",
       "  <thead>\n",
       "    <tr style=\"text-align: right;\">\n",
       "      <th></th>\n",
       "      <th>strDrink</th>\n",
       "      <th>Ingredients</th>\n",
       "    </tr>\n",
       "  </thead>\n",
       "  <tbody>\n",
       "    <tr>\n",
       "      <th>0</th>\n",
       "      <td>'57 Chevy with a White License Plate</td>\n",
       "      <td>creamy_liqueur   cocktail vodka   cocktail    ...</td>\n",
       "    </tr>\n",
       "    <tr>\n",
       "      <th>1</th>\n",
       "      <td>1-900-FUK-MEUP</td>\n",
       "      <td>vodka   shot triple_sec   shot sweet_liqueur  ...</td>\n",
       "    </tr>\n",
       "    <tr>\n",
       "      <th>2</th>\n",
       "      <td>110 in the shade</td>\n",
       "      <td>beer   beer tequila   beer                    ...</td>\n",
       "    </tr>\n",
       "    <tr>\n",
       "      <th>3</th>\n",
       "      <td>151 Florida Bushwacker</td>\n",
       "      <td>rum   milk / float / shake rum   milk / float ...</td>\n",
       "    </tr>\n",
       "    <tr>\n",
       "      <th>4</th>\n",
       "      <td>155 Belmont</td>\n",
       "      <td>rum   cocktail rum   cocktail vodka   cocktail...</td>\n",
       "    </tr>\n",
       "  </tbody>\n",
       "</table>\n",
       "</div>"
      ],
      "text/plain": [
       "                               strDrink  \\\n",
       "0  '57 Chevy with a White License Plate   \n",
       "1                        1-900-FUK-MEUP   \n",
       "2                      110 in the shade   \n",
       "3                151 Florida Bushwacker   \n",
       "4                           155 Belmont   \n",
       "\n",
       "                                         Ingredients  \n",
       "0  creamy_liqueur   cocktail vodka   cocktail    ...  \n",
       "1  vodka   shot triple_sec   shot sweet_liqueur  ...  \n",
       "2  beer   beer tequila   beer                    ...  \n",
       "3  rum   milk / float / shake rum   milk / float ...  \n",
       "4  rum   cocktail rum   cocktail vodka   cocktail...  "
      ]
     },
     "execution_count": 12,
     "metadata": {},
     "output_type": "execute_result"
    }
   ],
   "source": [
    "df_ingredients.head()"
   ]
  },
  {
   "cell_type": "markdown",
   "metadata": {},
   "source": [
    "### Step 2:\n",
    "- split ingerients by pairs\n",
    "- compute most common pairs (N - to be defined depending on results)"
   ]
  },
  {
   "cell_type": "code",
   "execution_count": 13,
   "metadata": {},
   "outputs": [
    {
     "name": "stdout",
     "output_type": "stream",
     "text": [
      "3917\n"
     ]
    },
    {
     "data": {
      "text/plain": [
       "[('creamy_liqueur', 'cocktail'),\n",
       " ('cocktail', 'vodka'),\n",
       " ('vodka', 'cocktail'),\n",
       " ('vodka', 'shot'),\n",
       " ('shot', 'triple_sec'),\n",
       " ('triple_sec', 'shot'),\n",
       " ('shot', 'sweet_liqueur'),\n",
       " ('sweet_liqueur', 'shot'),\n",
       " ('shot', 'sweet_liqueur'),\n",
       " ('sweet_liqueur', 'shot')]"
      ]
     },
     "execution_count": 13,
     "metadata": {},
     "output_type": "execute_result"
    }
   ],
   "source": [
    "# Generate pairs from ingredients of each cocktail and combine them in one list\n",
    "\n",
    "bigram = [list(nltk.bigrams(nltk.word_tokenize(i))) for i in df_ingredients['Ingredients']]\n",
    "pairs_list = [j for i in bigram for j in i]\n",
    "print(len(pairs_list))\n",
    "pairs_list[:10]"
   ]
  },
  {
   "cell_type": "markdown",
   "metadata": {},
   "source": [
    "There are some tuples where elements are swopped but essential taste of such combination is not unique. Such tuples need to be alighned."
   ]
  },
  {
   "cell_type": "code",
   "execution_count": 14,
   "metadata": {
    "scrolled": true
   },
   "outputs": [],
   "source": [
    "# First, define a list of tuples to be amended\n",
    "\n",
    "to_aligh = []\n",
    "for a in pairs_list:\n",
    "    for b in pairs_list:\n",
    "        if a != b:\n",
    "            if b[1] == a[0]:\n",
    "                if b[0] == a[1]:            # If both elements of tuple are equal to the swopped tuple under the check\n",
    "                    if a not in to_aligh and b not in to_aligh:\n",
    "                        to_aligh.append(b)"
   ]
  },
  {
   "cell_type": "code",
   "execution_count": 15,
   "metadata": {},
   "outputs": [],
   "source": [
    "# Second, amend them\n",
    "\n",
    "pairs_list_aligned = []\n",
    "for i in pairs_list:\n",
    "    if i in to_aligh:\n",
    "        pairs_list_aligned.append((i[1], i[0]))\n",
    "    else:\n",
    "        pairs_list_aligned.append(i)"
   ]
  },
  {
   "cell_type": "code",
   "execution_count": 16,
   "metadata": {
    "scrolled": true
   },
   "outputs": [
    {
     "data": {
      "text/plain": [
       "True"
      ]
     },
     "execution_count": 16,
     "metadata": {},
     "output_type": "execute_result"
    }
   ],
   "source": [
    "# Check that total number of tuples hasn't changed, only content should be amended\n",
    "\n",
    "len(pairs_list_aligned) == len(pairs_list)"
   ]
  },
  {
   "cell_type": "code",
   "execution_count": 17,
   "metadata": {
    "scrolled": true
   },
   "outputs": [
    {
     "name": "stdout",
     "output_type": "stream",
     "text": [
      "422\n"
     ]
    },
    {
     "data": {
      "text/plain": [
       "[(('ordinary', 'drink'), 968),\n",
       " (('/', 'float'), 100),\n",
       " (('gin', 'ordinary'), 72),\n",
       " (('sweet_liqueur', 'ordinary'), 65),\n",
       " (('rum', 'ordinary'), 63),\n",
       " (('milk', '/'), 50),\n",
       " (('/', 'shake'), 50),\n",
       " (('vodka', 'ordinary'), 50),\n",
       " (('drink', 'sweet_liqueur'), 47),\n",
       " (('brandy', 'ordinary'), 47),\n",
       " (('coffee', '/'), 46),\n",
       " (('/', 'tea'), 46),\n",
       " (('triple_sec', 'ordinary'), 43),\n",
       " (('shot', 'sweet_liqueur'), 41),\n",
       " (('drink', 'triple_sec'), 39),\n",
       " (('drink', 'lemon_juice'), 39),\n",
       " (('lemon_juice', 'ordinary'), 39),\n",
       " (('whisky', 'ordinary'), 39),\n",
       " (('cocktail', 'vodka'), 35),\n",
       " (('vermouth', 'ordinary'), 35),\n",
       " (('creamy_liqueur', 'shot'), 34),\n",
       " (('bitter', 'ordinary'), 32),\n",
       " (('drink', 'gin'), 29),\n",
       " (('drink', 'powdered_sugar'), 29),\n",
       " (('powdered_sugar', 'ordinary'), 29),\n",
       " (('drink', 'bitter'), 28),\n",
       " (('drink', 'orange_juice'), 25),\n",
       " (('orange_juice', 'ordinary'), 25),\n",
       " (('drink', 'lemon'), 25),\n",
       " (('lemon', 'ordinary'), 25),\n",
       " (('grenadine', 'ordinary'), 24),\n",
       " (('creamy_liqueur', 'ordinary'), 24),\n",
       " (('cocktail', 'triple_sec'), 23),\n",
       " (('cocktail', 'sweet_liqueur'), 23),\n",
       " (('drink', 'grenadine'), 23),\n",
       " (('soft', 'drink'), 23),\n",
       " (('drink', '/'), 23),\n",
       " (('/', 'soda'), 23),\n",
       " (('shot', 'whisky'), 22),\n",
       " (('vodka', 'shot'), 21),\n",
       " (('schnapps', 'shot'), 21),\n",
       " (('drink', 'vermouth'), 21),\n",
       " (('rum', 'cocktail'), 20),\n",
       " (('drink', 'brandy'), 20),\n",
       " (('gin', 'cocktail'), 19),\n",
       " (('drink', 'creamy_liqueur'), 19),\n",
       " (('cocktail', 'grenadine'), 18),\n",
       " (('lime', 'ordinary'), 18),\n",
       " (('lime_juice', 'ordinary'), 17),\n",
       " (('drink', 'lime'), 17),\n",
       " (('cocktail', 'orange_juice'), 16),\n",
       " (('cocktail', 'vermouth'), 16),\n",
       " (('drink', 'lime_juice'), 16),\n",
       " (('drink', 'light_cream'), 16),\n",
       " (('light_cream', 'ordinary'), 16),\n",
       " (('carbonated_water', 'ordinary'), 16),\n",
       " (('beer', 'beer'), 15),\n",
       " (('drink', 'carbonated_water'), 15),\n",
       " (('drink', 'rum'), 14),\n",
       " (('shot', 'rum'), 13),\n",
       " (('shot', 'cranberry_juice'), 13),\n",
       " (('tequila', 'ordinary'), 13),\n",
       " (('drink', 'vodka'), 13),\n",
       " (('sugar', 'ordinary'), 13),\n",
       " (('sugar_superfine', 'ordinary'), 13),\n",
       " (('creamy_liqueur', 'milk'), 12),\n",
       " (('cocktail', 'cranberry_juice'), 12),\n",
       " (('drink', 'orange'), 12),\n",
       " (('orange', 'ordinary'), 12),\n",
       " (('cocktail', 'bitter'), 12),\n",
       " (('drink', 'sugar'), 12),\n",
       " (('drink', 'egg_white'), 12),\n",
       " (('egg_white', 'ordinary'), 12),\n",
       " (('drink', 'maraschino_cherry'), 12),\n",
       " (('maraschino_cherry', 'ordinary'), 12),\n",
       " (('beer', 'ordinary'), 11),\n",
       " (('drink', 'whisky'), 11),\n",
       " (('coffee', 'coffee'), 11),\n",
       " (('shot', 'triple_sec'), 10),\n",
       " (('schnapps', 'ordinary'), 10),\n",
       " (('cocktail', 'lemon_juice'), 10),\n",
       " (('drink', 'sugar_superfine'), 10),\n",
       " (('creamy_liqueur', 'cocktail'), 9),\n",
       " (('drink', 'beer'), 9),\n",
       " (('drink', 'pineapple_juice'), 9),\n",
       " (('pineapple_juice', 'ordinary'), 9),\n",
       " (('drink', 'club_soda'), 9),\n",
       " (('club_soda', 'ordinary'), 9),\n",
       " (('shot', 'sambuca'), 9),\n",
       " (('cocktail', 'lime_juice'), 9),\n",
       " (('shake', 'milk'), 8),\n",
       " (('milk', 'milk'), 8),\n",
       " (('drink', 'sweet_and_sour'), 8),\n",
       " (('sweet_and_sour', 'ordinary'), 8),\n",
       " (('cocktail', 'whisky'), 8),\n",
       " (('drink', 'water'), 8),\n",
       " (('water', 'ordinary'), 8),\n",
       " (('shake', 'creamy_liqueur'), 7),\n",
       " (('drink', 'schnapps'), 7),\n",
       " (('other/unknown', 'sour_mix'), 7),\n",
       " (('creamy_liqueur', 'coffee'), 7),\n",
       " (('wine', 'ordinary'), 7),\n",
       " (('champagne', 'ordinary'), 7),\n",
       " (('shot', 'bitter'), 6),\n",
       " (('drink', 'tequila'), 6)]"
      ]
     },
     "execution_count": 17,
     "metadata": {},
     "output_type": "execute_result"
    }
   ],
   "source": [
    "# Define 25% of the most common pairs as a separate list\n",
    "\n",
    "counter=collections.Counter(pairs_list_aligned)\n",
    "print(len(counter))\n",
    "common_pairs = counter.most_common(int(len(counter)*0.25))\n",
    "common_pairs"
   ]
  },
  {
   "cell_type": "code",
   "execution_count": 18,
   "metadata": {
    "scrolled": true
   },
   "outputs": [
    {
     "data": {
      "text/plain": [
       "['schnapps',\n",
       " 'lemon_juice',\n",
       " 'grenadine',\n",
       " 'tea',\n",
       " 'carbonated_water',\n",
       " 'creamy_liqueur',\n",
       " 'float',\n",
       " 'cranberry_juice',\n",
       " 'club_soda',\n",
       " 'egg_white',\n",
       " 'beer',\n",
       " 'soft',\n",
       " 'vodka',\n",
       " 'wine',\n",
       " 'maraschino_cherry',\n",
       " 'rum',\n",
       " 'sugar',\n",
       " 'champagne',\n",
       " 'other/unknown',\n",
       " 'shot',\n",
       " 'vermouth',\n",
       " 'sweet_and_sour',\n",
       " 'shake',\n",
       " 'water',\n",
       " 'sour_mix',\n",
       " 'tequila',\n",
       " 'gin',\n",
       " 'ordinary',\n",
       " 'lime',\n",
       " 'lime_juice',\n",
       " 'orange_juice',\n",
       " 'coffee',\n",
       " 'sweet_liqueur',\n",
       " 'sugar_superfine',\n",
       " 'sambuca',\n",
       " 'soda',\n",
       " 'brandy',\n",
       " 'light_cream',\n",
       " 'lemon',\n",
       " 'triple_sec',\n",
       " '/',\n",
       " 'powdered_sugar',\n",
       " 'orange',\n",
       " 'drink',\n",
       " 'bitter',\n",
       " 'pineapple_juice',\n",
       " 'cocktail',\n",
       " 'milk',\n",
       " 'whisky']"
      ]
     },
     "execution_count": 18,
     "metadata": {},
     "output_type": "execute_result"
    }
   ],
   "source": [
    "common_ingredients = []\n",
    "\n",
    "for n in common_pairs:\n",
    "    common_ingredients.append(n[0][0])\n",
    "    common_ingredients.append(n[0][1])\n",
    "common_ingredients = list(set(common_ingredients))\n",
    "common_ingredients"
   ]
  },
  {
   "cell_type": "markdown",
   "metadata": {},
   "source": [
    "### Step 3: generate a frame for new combinations:\n",
    "- define total number of ingerients (random choice from a range 3-6))\n",
    "- from ingredients included in top pairs pick one randomly\n",
    "- find suitable pair for this ingredient (from all pairs, but give top pairs bigger weight)\n",
    "- do the same for the next ingredient but check that it's not included already\n",
    "- etc until limit is reached"
   ]
  },
  {
   "cell_type": "code",
   "execution_count": 19,
   "metadata": {},
   "outputs": [],
   "source": [
    "# Define total number of ingredients for a new cocktail\n",
    "\n",
    "n_ingr = random.randint(3,7)"
   ]
  },
  {
   "cell_type": "code",
   "execution_count": 20,
   "metadata": {},
   "outputs": [],
   "source": [
    "new_cocktail = []"
   ]
  },
  {
   "cell_type": "code",
   "execution_count": 21,
   "metadata": {},
   "outputs": [],
   "source": [
    "# Pick the first ingredient randomly from the top popular\n",
    "\n",
    "first_ingr = random.choice(common_ingredients)\n",
    "new_cocktail.append(first_ingr)"
   ]
  },
  {
   "cell_type": "code",
   "execution_count": 22,
   "metadata": {},
   "outputs": [],
   "source": [
    "# Identify remaning ingredients\n",
    "\n",
    "counter = 1          # Not zero because the first ingredient is defined separatelly above\n",
    "while counter < n_ingr:\n",
    "    temp_list = []\n",
    "    for i in set(pairs_list_aligned):\n",
    "        if new_cocktail[-1] in i:\n",
    "            temp_list.append(i)\n",
    "    random_pair = random.choice(temp_list)\n",
    "    if random_pair[0] == new_cocktail[-1]:\n",
    "        next_ingr = random_pair[1]\n",
    "    else:\n",
    "        next_ingr = random_pair[0]\n",
    "    new_cocktail.append(next_ingr)\n",
    "    counter += 1"
   ]
  },
  {
   "cell_type": "code",
   "execution_count": 23,
   "metadata": {},
   "outputs": [
    {
     "data": {
      "text/plain": [
       "['sugar', 'shot', 'sprite', 'ordinary']"
      ]
     },
     "execution_count": 23,
     "metadata": {},
     "output_type": "execute_result"
    }
   ],
   "source": [
    "new_cocktail"
   ]
  },
  {
   "cell_type": "markdown",
   "metadata": {},
   "source": [
    "### Step 4: define volume of each ingredient"
   ]
  },
  {
   "cell_type": "code",
   "execution_count": 24,
   "metadata": {},
   "outputs": [],
   "source": [
    "# Create new dataframe with relevant columns only\n",
    "\n",
    "df_measures = df[['strDrink', 'strCategory', 'Alc_type', 'non_alc_ingredients', 'Value_ml', 'Value_gr', 'Garnish_type']]"
   ]
  },
  {
   "cell_type": "code",
   "execution_count": 25,
   "metadata": {},
   "outputs": [],
   "source": [
    "# Drop rows with garnish, this part of the cocktail will be processed on the later stages\n",
    "\n",
    "df_measures.drop(df_measures.loc[~df_measures['Garnish_type'].isnull()].index, axis=0, inplace=True)"
   ]
  },
  {
   "cell_type": "code",
   "execution_count": 26,
   "metadata": {},
   "outputs": [],
   "source": [
    "# Remove cocktails given in big volumes to align scale\n",
    "\n",
    "df_measures.drop(df_measures.loc[df_measures['strCategory'].str.contains('Punch')].index, axis=0, inplace=True)"
   ]
  },
  {
   "cell_type": "code",
   "execution_count": 27,
   "metadata": {},
   "outputs": [
    {
     "data": {
      "text/html": [
       "<div>\n",
       "<style scoped>\n",
       "    .dataframe tbody tr th:only-of-type {\n",
       "        vertical-align: middle;\n",
       "    }\n",
       "\n",
       "    .dataframe tbody tr th {\n",
       "        vertical-align: top;\n",
       "    }\n",
       "\n",
       "    .dataframe thead th {\n",
       "        text-align: right;\n",
       "    }\n",
       "</style>\n",
       "<table border=\"1\" class=\"dataframe\">\n",
       "  <thead>\n",
       "    <tr style=\"text-align: right;\">\n",
       "      <th></th>\n",
       "      <th>strDrink</th>\n",
       "      <th>strCategory</th>\n",
       "      <th>Alc_type</th>\n",
       "      <th>non_alc_ingredients</th>\n",
       "      <th>Value_ml</th>\n",
       "      <th>Value_gr</th>\n",
       "      <th>Garnish_type</th>\n",
       "      <th>Measure</th>\n",
       "      <th>Value</th>\n",
       "      <th>Ingredients</th>\n",
       "    </tr>\n",
       "  </thead>\n",
       "  <tbody>\n",
       "    <tr>\n",
       "      <th>0</th>\n",
       "      <td>'57 Chevy with a White License Plate</td>\n",
       "      <td>Cocktail</td>\n",
       "      <td>Creamy Liqueur</td>\n",
       "      <td>NaN</td>\n",
       "      <td>30.0</td>\n",
       "      <td>NaN</td>\n",
       "      <td>NaN</td>\n",
       "      <td>ml</td>\n",
       "      <td>30.0</td>\n",
       "      <td>creamy_liqueur</td>\n",
       "    </tr>\n",
       "    <tr>\n",
       "      <th>1</th>\n",
       "      <td>1-900-FUK-MEUP</td>\n",
       "      <td>Shot</td>\n",
       "      <td>Vodka</td>\n",
       "      <td>NaN</td>\n",
       "      <td>15.0</td>\n",
       "      <td>NaN</td>\n",
       "      <td>NaN</td>\n",
       "      <td>ml</td>\n",
       "      <td>15.0</td>\n",
       "      <td>vodka</td>\n",
       "    </tr>\n",
       "    <tr>\n",
       "      <th>2</th>\n",
       "      <td>110 in the shade</td>\n",
       "      <td>Beer</td>\n",
       "      <td>Beer</td>\n",
       "      <td>NaN</td>\n",
       "      <td>480.0</td>\n",
       "      <td>NaN</td>\n",
       "      <td>NaN</td>\n",
       "      <td>ml</td>\n",
       "      <td>480.0</td>\n",
       "      <td>beer</td>\n",
       "    </tr>\n",
       "    <tr>\n",
       "      <th>3</th>\n",
       "      <td>151 Florida Bushwacker</td>\n",
       "      <td>Milk / Float / Shake</td>\n",
       "      <td>Rum</td>\n",
       "      <td>NaN</td>\n",
       "      <td>15.0</td>\n",
       "      <td>NaN</td>\n",
       "      <td>NaN</td>\n",
       "      <td>ml</td>\n",
       "      <td>15.0</td>\n",
       "      <td>rum</td>\n",
       "    </tr>\n",
       "    <tr>\n",
       "      <th>4</th>\n",
       "      <td>155 Belmont</td>\n",
       "      <td>Cocktail</td>\n",
       "      <td>Rum</td>\n",
       "      <td>NaN</td>\n",
       "      <td>25.0</td>\n",
       "      <td>NaN</td>\n",
       "      <td>NaN</td>\n",
       "      <td>ml</td>\n",
       "      <td>25.0</td>\n",
       "      <td>rum</td>\n",
       "    </tr>\n",
       "  </tbody>\n",
       "</table>\n",
       "</div>"
      ],
      "text/plain": [
       "                               strDrink           strCategory        Alc_type  \\\n",
       "0  '57 Chevy with a White License Plate              Cocktail  Creamy Liqueur   \n",
       "1                        1-900-FUK-MEUP                  Shot           Vodka   \n",
       "2                      110 in the shade                  Beer            Beer   \n",
       "3                151 Florida Bushwacker  Milk / Float / Shake             Rum   \n",
       "4                           155 Belmont              Cocktail             Rum   \n",
       "\n",
       "  non_alc_ingredients  Value_ml  Value_gr Garnish_type Measure  Value  \\\n",
       "0                 NaN      30.0       NaN          NaN      ml   30.0   \n",
       "1                 NaN      15.0       NaN          NaN      ml   15.0   \n",
       "2                 NaN     480.0       NaN          NaN      ml  480.0   \n",
       "3                 NaN      15.0       NaN          NaN      ml   15.0   \n",
       "4                 NaN      25.0       NaN          NaN      ml   25.0   \n",
       "\n",
       "      Ingredients  \n",
       "0  creamy_liqueur  \n",
       "1           vodka  \n",
       "2            beer  \n",
       "3             rum  \n",
       "4             rum  "
      ]
     },
     "execution_count": 27,
     "metadata": {},
     "output_type": "execute_result"
    }
   ],
   "source": [
    "# Combine values in one column and define measure for each in a separate column\n",
    "\n",
    "df_measures['Measure'] = np.where(df_measures['Value_ml'].isnull(), 'gr', 'ml')\n",
    "df_measures['Value'] = df_measures['Value_ml'].fillna(0) + df_measures['Value_gr'].fillna(0)\n",
    "df_measures['Ingredients'] = df_measures['Alc_type'].fillna('') + df_measures['non_alc_ingredients'].fillna('')\n",
    "df_measures['Ingredients'] = df_measures['Ingredients'].apply(lambda x: x.lower()).apply(lambda x: x.replace(' ', '_'))\n",
    "df_measures.head()"
   ]
  },
  {
   "cell_type": "code",
   "execution_count": 28,
   "metadata": {},
   "outputs": [
    {
     "data": {
      "text/html": [
       "<div>\n",
       "<style scoped>\n",
       "    .dataframe tbody tr th:only-of-type {\n",
       "        vertical-align: middle;\n",
       "    }\n",
       "\n",
       "    .dataframe tbody tr th {\n",
       "        vertical-align: top;\n",
       "    }\n",
       "\n",
       "    .dataframe thead th {\n",
       "        text-align: right;\n",
       "    }\n",
       "</style>\n",
       "<table border=\"1\" class=\"dataframe\">\n",
       "  <thead>\n",
       "    <tr style=\"text-align: right;\">\n",
       "      <th></th>\n",
       "      <th>strDrink</th>\n",
       "      <th>strCategory</th>\n",
       "      <th>Alc_type</th>\n",
       "      <th>non_alc_ingredients</th>\n",
       "      <th>Value_ml</th>\n",
       "      <th>Value_gr</th>\n",
       "      <th>Garnish_type</th>\n",
       "      <th>Measure</th>\n",
       "      <th>Value</th>\n",
       "      <th>Ingredients</th>\n",
       "      <th>Value_Measure</th>\n",
       "    </tr>\n",
       "  </thead>\n",
       "  <tbody>\n",
       "    <tr>\n",
       "      <th>0</th>\n",
       "      <td>'57 Chevy with a White License Plate</td>\n",
       "      <td>Cocktail</td>\n",
       "      <td>Creamy Liqueur</td>\n",
       "      <td>NaN</td>\n",
       "      <td>30.0</td>\n",
       "      <td>NaN</td>\n",
       "      <td>NaN</td>\n",
       "      <td>ml</td>\n",
       "      <td>30.0</td>\n",
       "      <td>creamy_liqueur</td>\n",
       "      <td>30.0 ml</td>\n",
       "    </tr>\n",
       "    <tr>\n",
       "      <th>1</th>\n",
       "      <td>1-900-FUK-MEUP</td>\n",
       "      <td>Shot</td>\n",
       "      <td>Vodka</td>\n",
       "      <td>NaN</td>\n",
       "      <td>15.0</td>\n",
       "      <td>NaN</td>\n",
       "      <td>NaN</td>\n",
       "      <td>ml</td>\n",
       "      <td>15.0</td>\n",
       "      <td>vodka</td>\n",
       "      <td>15.0 ml</td>\n",
       "    </tr>\n",
       "    <tr>\n",
       "      <th>2</th>\n",
       "      <td>110 in the shade</td>\n",
       "      <td>Beer</td>\n",
       "      <td>Beer</td>\n",
       "      <td>NaN</td>\n",
       "      <td>480.0</td>\n",
       "      <td>NaN</td>\n",
       "      <td>NaN</td>\n",
       "      <td>ml</td>\n",
       "      <td>480.0</td>\n",
       "      <td>beer</td>\n",
       "      <td>480.0 ml</td>\n",
       "    </tr>\n",
       "    <tr>\n",
       "      <th>3</th>\n",
       "      <td>151 Florida Bushwacker</td>\n",
       "      <td>Milk / Float / Shake</td>\n",
       "      <td>Rum</td>\n",
       "      <td>NaN</td>\n",
       "      <td>15.0</td>\n",
       "      <td>NaN</td>\n",
       "      <td>NaN</td>\n",
       "      <td>ml</td>\n",
       "      <td>15.0</td>\n",
       "      <td>rum</td>\n",
       "      <td>15.0 ml</td>\n",
       "    </tr>\n",
       "    <tr>\n",
       "      <th>4</th>\n",
       "      <td>155 Belmont</td>\n",
       "      <td>Cocktail</td>\n",
       "      <td>Rum</td>\n",
       "      <td>NaN</td>\n",
       "      <td>25.0</td>\n",
       "      <td>NaN</td>\n",
       "      <td>NaN</td>\n",
       "      <td>ml</td>\n",
       "      <td>25.0</td>\n",
       "      <td>rum</td>\n",
       "      <td>25.0 ml</td>\n",
       "    </tr>\n",
       "  </tbody>\n",
       "</table>\n",
       "</div>"
      ],
      "text/plain": [
       "                               strDrink           strCategory        Alc_type  \\\n",
       "0  '57 Chevy with a White License Plate              Cocktail  Creamy Liqueur   \n",
       "1                        1-900-FUK-MEUP                  Shot           Vodka   \n",
       "2                      110 in the shade                  Beer            Beer   \n",
       "3                151 Florida Bushwacker  Milk / Float / Shake             Rum   \n",
       "4                           155 Belmont              Cocktail             Rum   \n",
       "\n",
       "  non_alc_ingredients  Value_ml  Value_gr Garnish_type Measure  Value  \\\n",
       "0                 NaN      30.0       NaN          NaN      ml   30.0   \n",
       "1                 NaN      15.0       NaN          NaN      ml   15.0   \n",
       "2                 NaN     480.0       NaN          NaN      ml  480.0   \n",
       "3                 NaN      15.0       NaN          NaN      ml   15.0   \n",
       "4                 NaN      25.0       NaN          NaN      ml   25.0   \n",
       "\n",
       "      Ingredients Value_Measure  \n",
       "0  creamy_liqueur       30.0 ml  \n",
       "1           vodka       15.0 ml  \n",
       "2            beer      480.0 ml  \n",
       "3             rum       15.0 ml  \n",
       "4             rum       25.0 ml  "
      ]
     },
     "execution_count": 28,
     "metadata": {},
     "output_type": "execute_result"
    }
   ],
   "source": [
    "# Combine value and measure in one string, this way it will be easier to pick up random value together with correct measure\n",
    "\n",
    "df_measures['Value'] = df_measures['Value'].astype('object').apply(lambda x: str(x))\n",
    "df_measures['Value_Measure'] = df_measures[['Value', 'Measure']].apply(lambda x: ' '.join(x), axis=1)\n",
    "df_measures.head()"
   ]
  },
  {
   "cell_type": "code",
   "execution_count": 29,
   "metadata": {
    "scrolled": true
   },
   "outputs": [
    {
     "ename": "IndexError",
     "evalue": "Cannot choose from an empty sequence",
     "output_type": "error",
     "traceback": [
      "\u001b[1;31m---------------------------------------------------------------------------\u001b[0m",
      "\u001b[1;31mIndexError\u001b[0m                                Traceback (most recent call last)",
      "\u001b[1;32m<ipython-input-29-d5e9c3479ff9>\u001b[0m in \u001b[0;36m<module>\u001b[1;34m\u001b[0m\n\u001b[0;32m      2\u001b[0m \u001b[1;33m\u001b[0m\u001b[0m\n\u001b[0;32m      3\u001b[0m \u001b[1;32mfor\u001b[0m \u001b[0mi\u001b[0m \u001b[1;32min\u001b[0m \u001b[0mnew_cocktail\u001b[0m\u001b[1;33m:\u001b[0m\u001b[1;33m\u001b[0m\u001b[1;33m\u001b[0m\u001b[0m\n\u001b[1;32m----> 4\u001b[1;33m     \u001b[0mvolume\u001b[0m \u001b[1;33m=\u001b[0m \u001b[1;33m[\u001b[0m\u001b[0mrandom\u001b[0m\u001b[1;33m.\u001b[0m\u001b[0mchoice\u001b[0m\u001b[1;33m(\u001b[0m\u001b[0mdf_measures\u001b[0m\u001b[1;33m.\u001b[0m\u001b[0mloc\u001b[0m\u001b[1;33m[\u001b[0m\u001b[0mdf_measures\u001b[0m\u001b[1;33m[\u001b[0m\u001b[1;34m'Ingredients'\u001b[0m\u001b[1;33m]\u001b[0m \u001b[1;33m==\u001b[0m \u001b[0mi\u001b[0m\u001b[1;33m]\u001b[0m\u001b[1;33m[\u001b[0m\u001b[1;34m'Value_Measure'\u001b[0m\u001b[1;33m]\u001b[0m\u001b[1;33m.\u001b[0m\u001b[0mtolist\u001b[0m\u001b[1;33m(\u001b[0m\u001b[1;33m)\u001b[0m\u001b[1;33m)\u001b[0m \u001b[1;32mfor\u001b[0m \u001b[0mi\u001b[0m \u001b[1;32min\u001b[0m \u001b[0mnew_cocktail\u001b[0m\u001b[1;33m]\u001b[0m\u001b[1;33m\u001b[0m\u001b[1;33m\u001b[0m\u001b[0m\n\u001b[0m\u001b[0;32m      5\u001b[0m     \u001b[0mnew_cocktail_final\u001b[0m \u001b[1;33m=\u001b[0m \u001b[0mpd\u001b[0m\u001b[1;33m.\u001b[0m\u001b[0mDataFrame\u001b[0m\u001b[1;33m(\u001b[0m\u001b[1;33m{\u001b[0m\u001b[1;34m'Ingredient'\u001b[0m\u001b[1;33m:\u001b[0m \u001b[0mnew_cocktail\u001b[0m\u001b[1;33m,\u001b[0m \u001b[1;34m'Volume'\u001b[0m\u001b[1;33m:\u001b[0m \u001b[0mvolume\u001b[0m\u001b[1;33m}\u001b[0m\u001b[1;33m)\u001b[0m\u001b[1;33m\u001b[0m\u001b[1;33m\u001b[0m\u001b[0m\n\u001b[0;32m      6\u001b[0m     \u001b[0mnew_cocktail_final\u001b[0m\u001b[1;33m\u001b[0m\u001b[1;33m\u001b[0m\u001b[0m\n",
      "\u001b[1;32m<ipython-input-29-d5e9c3479ff9>\u001b[0m in \u001b[0;36m<listcomp>\u001b[1;34m(.0)\u001b[0m\n\u001b[0;32m      2\u001b[0m \u001b[1;33m\u001b[0m\u001b[0m\n\u001b[0;32m      3\u001b[0m \u001b[1;32mfor\u001b[0m \u001b[0mi\u001b[0m \u001b[1;32min\u001b[0m \u001b[0mnew_cocktail\u001b[0m\u001b[1;33m:\u001b[0m\u001b[1;33m\u001b[0m\u001b[1;33m\u001b[0m\u001b[0m\n\u001b[1;32m----> 4\u001b[1;33m     \u001b[0mvolume\u001b[0m \u001b[1;33m=\u001b[0m \u001b[1;33m[\u001b[0m\u001b[0mrandom\u001b[0m\u001b[1;33m.\u001b[0m\u001b[0mchoice\u001b[0m\u001b[1;33m(\u001b[0m\u001b[0mdf_measures\u001b[0m\u001b[1;33m.\u001b[0m\u001b[0mloc\u001b[0m\u001b[1;33m[\u001b[0m\u001b[0mdf_measures\u001b[0m\u001b[1;33m[\u001b[0m\u001b[1;34m'Ingredients'\u001b[0m\u001b[1;33m]\u001b[0m \u001b[1;33m==\u001b[0m \u001b[0mi\u001b[0m\u001b[1;33m]\u001b[0m\u001b[1;33m[\u001b[0m\u001b[1;34m'Value_Measure'\u001b[0m\u001b[1;33m]\u001b[0m\u001b[1;33m.\u001b[0m\u001b[0mtolist\u001b[0m\u001b[1;33m(\u001b[0m\u001b[1;33m)\u001b[0m\u001b[1;33m)\u001b[0m \u001b[1;32mfor\u001b[0m \u001b[0mi\u001b[0m \u001b[1;32min\u001b[0m \u001b[0mnew_cocktail\u001b[0m\u001b[1;33m]\u001b[0m\u001b[1;33m\u001b[0m\u001b[1;33m\u001b[0m\u001b[0m\n\u001b[0m\u001b[0;32m      5\u001b[0m     \u001b[0mnew_cocktail_final\u001b[0m \u001b[1;33m=\u001b[0m \u001b[0mpd\u001b[0m\u001b[1;33m.\u001b[0m\u001b[0mDataFrame\u001b[0m\u001b[1;33m(\u001b[0m\u001b[1;33m{\u001b[0m\u001b[1;34m'Ingredient'\u001b[0m\u001b[1;33m:\u001b[0m \u001b[0mnew_cocktail\u001b[0m\u001b[1;33m,\u001b[0m \u001b[1;34m'Volume'\u001b[0m\u001b[1;33m:\u001b[0m \u001b[0mvolume\u001b[0m\u001b[1;33m}\u001b[0m\u001b[1;33m)\u001b[0m\u001b[1;33m\u001b[0m\u001b[1;33m\u001b[0m\u001b[0m\n\u001b[0;32m      6\u001b[0m     \u001b[0mnew_cocktail_final\u001b[0m\u001b[1;33m\u001b[0m\u001b[1;33m\u001b[0m\u001b[0m\n",
      "\u001b[1;32m~\\anaconda3\\lib\\random.py\u001b[0m in \u001b[0;36mchoice\u001b[1;34m(self, seq)\u001b[0m\n\u001b[0;32m    288\u001b[0m             \u001b[0mi\u001b[0m \u001b[1;33m=\u001b[0m \u001b[0mself\u001b[0m\u001b[1;33m.\u001b[0m\u001b[0m_randbelow\u001b[0m\u001b[1;33m(\u001b[0m\u001b[0mlen\u001b[0m\u001b[1;33m(\u001b[0m\u001b[0mseq\u001b[0m\u001b[1;33m)\u001b[0m\u001b[1;33m)\u001b[0m\u001b[1;33m\u001b[0m\u001b[1;33m\u001b[0m\u001b[0m\n\u001b[0;32m    289\u001b[0m         \u001b[1;32mexcept\u001b[0m \u001b[0mValueError\u001b[0m\u001b[1;33m:\u001b[0m\u001b[1;33m\u001b[0m\u001b[1;33m\u001b[0m\u001b[0m\n\u001b[1;32m--> 290\u001b[1;33m             \u001b[1;32mraise\u001b[0m \u001b[0mIndexError\u001b[0m\u001b[1;33m(\u001b[0m\u001b[1;34m'Cannot choose from an empty sequence'\u001b[0m\u001b[1;33m)\u001b[0m \u001b[1;32mfrom\u001b[0m \u001b[1;32mNone\u001b[0m\u001b[1;33m\u001b[0m\u001b[1;33m\u001b[0m\u001b[0m\n\u001b[0m\u001b[0;32m    291\u001b[0m         \u001b[1;32mreturn\u001b[0m \u001b[0mseq\u001b[0m\u001b[1;33m[\u001b[0m\u001b[0mi\u001b[0m\u001b[1;33m]\u001b[0m\u001b[1;33m\u001b[0m\u001b[1;33m\u001b[0m\u001b[0m\n\u001b[0;32m    292\u001b[0m \u001b[1;33m\u001b[0m\u001b[0m\n",
      "\u001b[1;31mIndexError\u001b[0m: Cannot choose from an empty sequence"
     ]
    }
   ],
   "source": [
    "# Pick up random volume of each ingredient\n",
    "\n",
    "for i in new_cocktail:\n",
    "    volume = [random.choice(df_measures.loc[df_measures['Ingredients'] == i]['Value_Measure'].tolist()) for i in new_cocktail]\n",
    "    new_cocktail_final = pd.DataFrame({'Ingredient': new_cocktail, 'Volume': volume})\n",
    "    new_cocktail_final"
   ]
  },
  {
   "cell_type": "markdown",
   "metadata": {},
   "source": [
    "### Step 5: define garnish"
   ]
  },
  {
   "cell_type": "markdown",
   "metadata": {},
   "source": [
    "***1) Prepare list of main ingredients with garnish for each cocktail in dataset***"
   ]
  },
  {
   "cell_type": "code",
   "execution_count": null,
   "metadata": {},
   "outputs": [],
   "source": [
    "# Define reduced dataframe which contains only relevant fields\n",
    "\n",
    "df_garnish = df[['strDrink', 'strIngredients', 'Alc_type', 'Value_ml', 'Garnish_amount', 'Garnish_type']]"
   ]
  },
  {
   "cell_type": "code",
   "execution_count": null,
   "metadata": {},
   "outputs": [],
   "source": [
    "df_garnish['Ingredients'] = np.where(df_garnish['Alc_type'].isnull(), df_garnish['strIngredients'], df_garnish['Alc_type'])"
   ]
  },
  {
   "cell_type": "code",
   "execution_count": null,
   "metadata": {},
   "outputs": [],
   "source": [
    "# Combine value and measure of garnish in one column so it will be easier to pick it up later in the code\n",
    "\n",
    "df_garnish['Garnish_ingr'] = np.where(~df_garnish['Garnish_amount'].isnull(), df_garnish['strIngredients'], np.nan)\n",
    "df_garnish['Garnish'] = df_garnish[['Garnish_ingr', 'Garnish_amount', 'Garnish_type']].fillna('').apply(lambda x:\n",
    "                                                                                                       ' '.join(x), axis=1)\n",
    "df_garnish['Garnish'] = df_garnish['Garnish'].apply(lambda x: x.replace('0 top', 'top'))\n",
    "df_garnish['Garnish'] = np.where(df_garnish['Garnish'] == '  ', np.nan, df_garnish['Garnish'])"
   ]
  },
  {
   "cell_type": "code",
   "execution_count": null,
   "metadata": {},
   "outputs": [],
   "source": [
    "# Rearrange dataframe that way that it's possible to identify garnish per cocktail per dominant ingredient\n",
    "\n",
    "drink_name_list = []\n",
    "garnish_list = []\n",
    "ingredient_list = []\n",
    "\n",
    "for drink in df_garnish['strDrink'].unique():      # For each cocktial\n",
    "    df_selected = df_garnish.loc[df_garnish['strDrink'] == drink]\n",
    "    max_value = df_selected['Value_ml'].max()\n",
    "\n",
    "    for ingr in df_selected.loc[df_selected['Value_ml'] == max_value]['Ingredients']:\n",
    "        for garnish in df_selected['Garnish'].unique():\n",
    "            drink_name_list.append(drink)\n",
    "            garnish_list.append(garnish)           # Include all garnishes for the drink\n",
    "            ingredient_list.append(ingr)           # Include an ingredient taking the biggest part of the drink\n",
    "\n",
    "df_garnish_final = pd.DataFrame({'Drink':drink_name_list, 'Ingredient':ingredient_list, 'Garnish':garnish_list})\n",
    "df_garnish_final.drop(df_garnish_final.loc[df_garnish_final['Garnish'].isnull()].index, axis=0, inplace = True)"
   ]
  },
  {
   "cell_type": "code",
   "execution_count": null,
   "metadata": {
    "scrolled": true
   },
   "outputs": [],
   "source": [
    "df_garnish_final.head()"
   ]
  },
  {
   "cell_type": "markdown",
   "metadata": {},
   "source": [
    "***2) Identify a main ingredient of a generated cocktail***"
   ]
  },
  {
   "cell_type": "code",
   "execution_count": null,
   "metadata": {
    "scrolled": true
   },
   "outputs": [],
   "source": [
    "new_cocktail_final"
   ]
  },
  {
   "cell_type": "code",
   "execution_count": null,
   "metadata": {
    "scrolled": true
   },
   "outputs": [],
   "source": [
    "new_cocktail_final = new_cocktail_final.join(new_cocktail_final['Volume'].str.rsplit(n=1, expand=True).rename(columns={\n",
    "                                                                                                    0: 'Value', 1: 'Measure'}))\n",
    "new_cocktail_final['Value'] = new_cocktail_final['Value'].astype('float')"
   ]
  },
  {
   "cell_type": "code",
   "execution_count": null,
   "metadata": {},
   "outputs": [],
   "source": [
    "main_ingr = random.choice(new_cocktail_final.loc[new_cocktail_final['Value'] ==\n",
    "                                                                     new_cocktail_final['Value'].max()]['Ingredient'].tolist())"
   ]
  },
  {
   "cell_type": "code",
   "execution_count": null,
   "metadata": {},
   "outputs": [],
   "source": [
    "new_cocktail_final.drop(['Value', 'Measure'], axis=1, inplace=True)"
   ]
  },
  {
   "cell_type": "markdown",
   "metadata": {},
   "source": [
    "***3) Find suitable garnish and add to the recipe***"
   ]
  },
  {
   "cell_type": "code",
   "execution_count": null,
   "metadata": {},
   "outputs": [],
   "source": [
    "garnish_to_add = df_garnish_final.loc[df_garnish_final['Ingredient'] == main_ingr]['Garnish'].tolist()\n",
    "\n",
    "if garnish_to_add:\n",
    "    new_cocktail_final.loc[len(new_cocktail_final)] = ['garnish', garnish_to_add]"
   ]
  },
  {
   "cell_type": "code",
   "execution_count": null,
   "metadata": {},
   "outputs": [],
   "source": [
    "new_cocktail_final"
   ]
  },
  {
   "cell_type": "markdown",
   "metadata": {},
   "source": [
    "### List alcoholic ingredients"
   ]
  },
  {
   "cell_type": "code",
   "execution_count": null,
   "metadata": {},
   "outputs": [],
   "source": [
    "df.head()"
   ]
  },
  {
   "cell_type": "code",
   "execution_count": null,
   "metadata": {},
   "outputs": [],
   "source": [
    "df['Alc_type'].unique()"
   ]
  },
  {
   "cell_type": "code",
   "execution_count": null,
   "metadata": {
    "scrolled": true
   },
   "outputs": [],
   "source": [
    "for i in df['Alc_type'].unique():\n",
    "    print(i)\n",
    "    print(df.loc[df['Alc_type'] == i]['strIngredients'].unique())\n",
    "    print('*'*100)"
   ]
  },
  {
   "cell_type": "code",
   "execution_count": null,
   "metadata": {},
   "outputs": [],
   "source": [
    "# for i in new_cocktail:\n",
    "#     random.choice(df.loc[df['Alc_type'] == i]['strIngredients'].unique().tolist())"
   ]
  },
  {
   "cell_type": "code",
   "execution_count": null,
   "metadata": {},
   "outputs": [],
   "source": [
    "new_cocktail_final"
   ]
  },
  {
   "cell_type": "code",
   "execution_count": null,
   "metadata": {
    "scrolled": true
   },
   "outputs": [],
   "source": [
    "a = df_measures.loc[df_measures['Ingredients'] == 'gin']\n",
    "a.loc[a['Measure'] == 'gr']"
   ]
  },
  {
   "cell_type": "code",
   "execution_count": null,
   "metadata": {},
   "outputs": [],
   "source": [
    "df_measures.loc[df_measures['Value'] == '0.0']"
   ]
  },
  {
   "cell_type": "code",
   "execution_count": null,
   "metadata": {},
   "outputs": [],
   "source": [
    "len(df_measures)"
   ]
  },
  {
   "cell_type": "code",
   "execution_count": null,
   "metadata": {},
   "outputs": [],
   "source": [
    "df.loc[df['strIngredients'] == \"Lavender\"]"
   ]
  },
  {
   "cell_type": "code",
   "execution_count": null,
   "metadata": {},
   "outputs": [],
   "source": []
  },
  {
   "cell_type": "code",
   "execution_count": null,
   "metadata": {},
   "outputs": [],
   "source": []
  },
  {
   "cell_type": "code",
   "execution_count": null,
   "metadata": {},
   "outputs": [],
   "source": []
  },
  {
   "cell_type": "code",
   "execution_count": null,
   "metadata": {},
   "outputs": [],
   "source": []
  },
  {
   "cell_type": "code",
   "execution_count": null,
   "metadata": {},
   "outputs": [],
   "source": []
  },
  {
   "cell_type": "code",
   "execution_count": null,
   "metadata": {},
   "outputs": [],
   "source": []
  },
  {
   "cell_type": "code",
   "execution_count": null,
   "metadata": {},
   "outputs": [],
   "source": []
  },
  {
   "cell_type": "code",
   "execution_count": null,
   "metadata": {},
   "outputs": [],
   "source": [
    "# Try to set up lists of liqueurs and maybe other alcohol ingredients."
   ]
  },
  {
   "cell_type": "code",
   "execution_count": null,
   "metadata": {},
   "outputs": [],
   "source": [
    "# Refactoring might be done to rearrange the code that way that to generate new cocktail you don't have to run whole file"
   ]
  }
 ],
 "metadata": {
  "kernelspec": {
   "display_name": "Python 3",
   "language": "python",
   "name": "python3"
  },
  "language_info": {
   "codemirror_mode": {
    "name": "ipython",
    "version": 3
   },
   "file_extension": ".py",
   "mimetype": "text/x-python",
   "name": "python",
   "nbconvert_exporter": "python",
   "pygments_lexer": "ipython3",
   "version": "3.8.3"
  }
 },
 "nbformat": 4,
 "nbformat_minor": 4
}
