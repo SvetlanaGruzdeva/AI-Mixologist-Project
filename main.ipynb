{
 "cells": [
  {
   "cell_type": "code",
   "execution_count": 1,
   "metadata": {},
   "outputs": [],
   "source": [
    "import warnings\n",
    "import pandas as pd\n",
    "import numpy as np\n",
    "import nltk\n",
    "import collections\n",
    "import matplotlib.pyplot as plt\n",
    "import seaborn as sns\n",
    "import random\n",
    "# import os\n",
    "# import re\n",
    "# import math\n",
    "# from sqlalchemy import create_engine\n",
    "# import pymysql\n",
    "# import requests\n",
    "# from bs4 import BeautifulSoup\n",
    "# from sklearn.linear_model import LinearRegression\n",
    "# from statsmodels.tsa.ar_model import AR\n",
    "# from statsmodels.tools.eval_measures import rmse\n",
    "# from scipy import stats"
   ]
  },
  {
   "cell_type": "code",
   "execution_count": 2,
   "metadata": {},
   "outputs": [],
   "source": [
    "pd.set_option('display.max_columns', 100)\n",
    "warnings.filterwarnings('ignore')"
   ]
  },
  {
   "cell_type": "code",
   "execution_count": 3,
   "metadata": {},
   "outputs": [],
   "source": [
    "df = pd.read_csv('./clean_data/clean_data.csv')\n",
    "df.drop('Unnamed: 0', axis=1, inplace=True)"
   ]
  },
  {
   "cell_type": "markdown",
   "metadata": {},
   "source": [
    "### Step 1: transform dataset:\n",
    "- each cocktail = one row\n",
    "- all ingredients generalized and combined in one column"
   ]
  },
  {
   "cell_type": "code",
   "execution_count": 4,
   "metadata": {
    "scrolled": true
   },
   "outputs": [],
   "source": [
    "# Add non-alcoholic ingredients in a separate column\n",
    "\n",
    "df['non_alc_ingredients'] = np.where(~df['Basic_taste'].isnull(), df['strIngredients'], np.nan)"
   ]
  },
  {
   "cell_type": "code",
   "execution_count": 5,
   "metadata": {},
   "outputs": [],
   "source": [
    "# Reduce dataset to only the columns required for current step\n",
    "\n",
    "df_ingredients = df[['strDrink', 'Alc_type', 'non_alc_ingredients', 'Garnish_type']]"
   ]
  },
  {
   "cell_type": "code",
   "execution_count": 6,
   "metadata": {},
   "outputs": [],
   "source": [
    "# Drop rows with garnish, this part of the cocktail will be processed on the later stages\n",
    "\n",
    "df_ingredients.drop(df_ingredients.loc[~df_ingredients['Garnish_type'].isnull()].index, axis=0, inplace=True)"
   ]
  },
  {
   "cell_type": "code",
   "execution_count": 7,
   "metadata": {},
   "outputs": [
    {
     "data": {
      "text/plain": [
       "\"\\nDrop punches to avoid missing errors during 'measures' part\\n\""
      ]
     },
     "execution_count": 7,
     "metadata": {},
     "output_type": "execute_result"
    }
   ],
   "source": [
    "'''\n",
    "Drop punches to avoid missing errors during 'measures' part\n",
    "'''"
   ]
  },
  {
   "cell_type": "code",
   "execution_count": 8,
   "metadata": {},
   "outputs": [],
   "source": [
    "# Replace nan values with empty string to align data type for every value\n",
    "\n",
    "df_ingredients.fillna('', inplace=True)"
   ]
  },
  {
   "cell_type": "code",
   "execution_count": 9,
   "metadata": {},
   "outputs": [],
   "source": [
    "# Replace ' ' with '_' to keep adjectives with nouns\n",
    "\n",
    "df_ingredients['Alc_type'] = df_ingredients['Alc_type'].apply(lambda x: x.replace(' ', '_'))\n",
    "df_ingredients['non_alc_ingredients'] = df_ingredients['non_alc_ingredients'].apply(lambda x: x.replace(' ', '_'))"
   ]
  },
  {
   "cell_type": "code",
   "execution_count": 10,
   "metadata": {
    "scrolled": true
   },
   "outputs": [
    {
     "data": {
      "text/html": [
       "<div>\n",
       "<style scoped>\n",
       "    .dataframe tbody tr th:only-of-type {\n",
       "        vertical-align: middle;\n",
       "    }\n",
       "\n",
       "    .dataframe tbody tr th {\n",
       "        vertical-align: top;\n",
       "    }\n",
       "\n",
       "    .dataframe thead th {\n",
       "        text-align: right;\n",
       "    }\n",
       "</style>\n",
       "<table border=\"1\" class=\"dataframe\">\n",
       "  <thead>\n",
       "    <tr style=\"text-align: right;\">\n",
       "      <th></th>\n",
       "      <th>strDrink</th>\n",
       "      <th>Alc_type_1</th>\n",
       "      <th>Garnish_type_1</th>\n",
       "      <th>non_alc_ingredients_1</th>\n",
       "      <th>Alc_type_2</th>\n",
       "      <th>Garnish_type_2</th>\n",
       "      <th>non_alc_ingredients_2</th>\n",
       "      <th>Alc_type_3</th>\n",
       "      <th>Garnish_type_3</th>\n",
       "      <th>non_alc_ingredients_3</th>\n",
       "      <th>Alc_type_4</th>\n",
       "      <th>Garnish_type_4</th>\n",
       "      <th>non_alc_ingredients_4</th>\n",
       "      <th>Alc_type_5</th>\n",
       "      <th>Garnish_type_5</th>\n",
       "      <th>non_alc_ingredients_5</th>\n",
       "      <th>Alc_type_6</th>\n",
       "      <th>Garnish_type_6</th>\n",
       "      <th>non_alc_ingredients_6</th>\n",
       "      <th>Alc_type_7</th>\n",
       "      <th>Garnish_type_7</th>\n",
       "      <th>non_alc_ingredients_7</th>\n",
       "      <th>Alc_type_8</th>\n",
       "      <th>Garnish_type_8</th>\n",
       "      <th>non_alc_ingredients_8</th>\n",
       "      <th>Alc_type_9</th>\n",
       "      <th>Garnish_type_9</th>\n",
       "      <th>non_alc_ingredients_9</th>\n",
       "      <th>Alc_type_10</th>\n",
       "      <th>Garnish_type_10</th>\n",
       "      <th>non_alc_ingredients_10</th>\n",
       "    </tr>\n",
       "  </thead>\n",
       "  <tbody>\n",
       "    <tr>\n",
       "      <th>0</th>\n",
       "      <td>'57 Chevy with a White License Plate</td>\n",
       "      <td>Creamy_Liqueur</td>\n",
       "      <td></td>\n",
       "      <td></td>\n",
       "      <td>Vodka</td>\n",
       "      <td></td>\n",
       "      <td></td>\n",
       "      <td>NaN</td>\n",
       "      <td>NaN</td>\n",
       "      <td>NaN</td>\n",
       "      <td>NaN</td>\n",
       "      <td>NaN</td>\n",
       "      <td>NaN</td>\n",
       "      <td>NaN</td>\n",
       "      <td>NaN</td>\n",
       "      <td>NaN</td>\n",
       "      <td>NaN</td>\n",
       "      <td>NaN</td>\n",
       "      <td>NaN</td>\n",
       "      <td>NaN</td>\n",
       "      <td>NaN</td>\n",
       "      <td>NaN</td>\n",
       "      <td>NaN</td>\n",
       "      <td>NaN</td>\n",
       "      <td>NaN</td>\n",
       "      <td>NaN</td>\n",
       "      <td>NaN</td>\n",
       "      <td>NaN</td>\n",
       "      <td>NaN</td>\n",
       "      <td>NaN</td>\n",
       "      <td>NaN</td>\n",
       "    </tr>\n",
       "    <tr>\n",
       "      <th>1</th>\n",
       "      <td>1-900-FUK-MEUP</td>\n",
       "      <td>Vodka</td>\n",
       "      <td></td>\n",
       "      <td></td>\n",
       "      <td>Triple_Sec</td>\n",
       "      <td></td>\n",
       "      <td></td>\n",
       "      <td>Sweet_Liqueur</td>\n",
       "      <td></td>\n",
       "      <td></td>\n",
       "      <td>Sweet_Liqueur</td>\n",
       "      <td></td>\n",
       "      <td></td>\n",
       "      <td>Rum</td>\n",
       "      <td></td>\n",
       "      <td></td>\n",
       "      <td>Sweet_Liqueur</td>\n",
       "      <td></td>\n",
       "      <td></td>\n",
       "      <td></td>\n",
       "      <td></td>\n",
       "      <td>Cranberry_Juice</td>\n",
       "      <td></td>\n",
       "      <td></td>\n",
       "      <td>Pineapple_Juice</td>\n",
       "      <td>NaN</td>\n",
       "      <td>NaN</td>\n",
       "      <td>NaN</td>\n",
       "      <td>NaN</td>\n",
       "      <td>NaN</td>\n",
       "      <td>NaN</td>\n",
       "    </tr>\n",
       "    <tr>\n",
       "      <th>2</th>\n",
       "      <td>110 in the shade</td>\n",
       "      <td>Beer</td>\n",
       "      <td></td>\n",
       "      <td></td>\n",
       "      <td>Tequila</td>\n",
       "      <td></td>\n",
       "      <td></td>\n",
       "      <td>NaN</td>\n",
       "      <td>NaN</td>\n",
       "      <td>NaN</td>\n",
       "      <td>NaN</td>\n",
       "      <td>NaN</td>\n",
       "      <td>NaN</td>\n",
       "      <td>NaN</td>\n",
       "      <td>NaN</td>\n",
       "      <td>NaN</td>\n",
       "      <td>NaN</td>\n",
       "      <td>NaN</td>\n",
       "      <td>NaN</td>\n",
       "      <td>NaN</td>\n",
       "      <td>NaN</td>\n",
       "      <td>NaN</td>\n",
       "      <td>NaN</td>\n",
       "      <td>NaN</td>\n",
       "      <td>NaN</td>\n",
       "      <td>NaN</td>\n",
       "      <td>NaN</td>\n",
       "      <td>NaN</td>\n",
       "      <td>NaN</td>\n",
       "      <td>NaN</td>\n",
       "      <td>NaN</td>\n",
       "    </tr>\n",
       "    <tr>\n",
       "      <th>3</th>\n",
       "      <td>151 Florida Bushwacker</td>\n",
       "      <td>Rum</td>\n",
       "      <td></td>\n",
       "      <td></td>\n",
       "      <td>Rum</td>\n",
       "      <td></td>\n",
       "      <td></td>\n",
       "      <td>Rum</td>\n",
       "      <td></td>\n",
       "      <td></td>\n",
       "      <td>Creamy_Liqueur</td>\n",
       "      <td></td>\n",
       "      <td></td>\n",
       "      <td>Triple_Sec</td>\n",
       "      <td></td>\n",
       "      <td></td>\n",
       "      <td></td>\n",
       "      <td></td>\n",
       "      <td>Milk</td>\n",
       "      <td>Sweet_Liqueur</td>\n",
       "      <td></td>\n",
       "      <td></td>\n",
       "      <td></td>\n",
       "      <td></td>\n",
       "      <td>Vanilla_Ice-Cream</td>\n",
       "      <td>NaN</td>\n",
       "      <td>NaN</td>\n",
       "      <td>NaN</td>\n",
       "      <td>NaN</td>\n",
       "      <td>NaN</td>\n",
       "      <td>NaN</td>\n",
       "    </tr>\n",
       "    <tr>\n",
       "      <th>4</th>\n",
       "      <td>155 Belmont</td>\n",
       "      <td>Rum</td>\n",
       "      <td></td>\n",
       "      <td></td>\n",
       "      <td>Rum</td>\n",
       "      <td></td>\n",
       "      <td></td>\n",
       "      <td>Vodka</td>\n",
       "      <td></td>\n",
       "      <td></td>\n",
       "      <td></td>\n",
       "      <td></td>\n",
       "      <td>Orange_Juice</td>\n",
       "      <td>NaN</td>\n",
       "      <td>NaN</td>\n",
       "      <td>NaN</td>\n",
       "      <td>NaN</td>\n",
       "      <td>NaN</td>\n",
       "      <td>NaN</td>\n",
       "      <td>NaN</td>\n",
       "      <td>NaN</td>\n",
       "      <td>NaN</td>\n",
       "      <td>NaN</td>\n",
       "      <td>NaN</td>\n",
       "      <td>NaN</td>\n",
       "      <td>NaN</td>\n",
       "      <td>NaN</td>\n",
       "      <td>NaN</td>\n",
       "      <td>NaN</td>\n",
       "      <td>NaN</td>\n",
       "      <td>NaN</td>\n",
       "    </tr>\n",
       "  </tbody>\n",
       "</table>\n",
       "</div>"
      ],
      "text/plain": [
       "                               strDrink      Alc_type_1 Garnish_type_1  \\\n",
       "0  '57 Chevy with a White License Plate  Creamy_Liqueur                  \n",
       "1                        1-900-FUK-MEUP           Vodka                  \n",
       "2                      110 in the shade            Beer                  \n",
       "3                151 Florida Bushwacker             Rum                  \n",
       "4                           155 Belmont             Rum                  \n",
       "\n",
       "  non_alc_ingredients_1  Alc_type_2 Garnish_type_2 non_alc_ingredients_2  \\\n",
       "0                             Vodka                                        \n",
       "1                        Triple_Sec                                        \n",
       "2                           Tequila                                        \n",
       "3                               Rum                                        \n",
       "4                               Rum                                        \n",
       "\n",
       "      Alc_type_3 Garnish_type_3 non_alc_ingredients_3      Alc_type_4  \\\n",
       "0            NaN            NaN                   NaN             NaN   \n",
       "1  Sweet_Liqueur                                        Sweet_Liqueur   \n",
       "2            NaN            NaN                   NaN             NaN   \n",
       "3            Rum                                       Creamy_Liqueur   \n",
       "4          Vodka                                                        \n",
       "\n",
       "  Garnish_type_4 non_alc_ingredients_4  Alc_type_5 Garnish_type_5  \\\n",
       "0            NaN                   NaN         NaN            NaN   \n",
       "1                                              Rum                  \n",
       "2            NaN                   NaN         NaN            NaN   \n",
       "3                                       Triple_Sec                  \n",
       "4                         Orange_Juice         NaN            NaN   \n",
       "\n",
       "  non_alc_ingredients_5     Alc_type_6 Garnish_type_6 non_alc_ingredients_6  \\\n",
       "0                   NaN            NaN            NaN                   NaN   \n",
       "1                        Sweet_Liqueur                                        \n",
       "2                   NaN            NaN            NaN                   NaN   \n",
       "3                                                                      Milk   \n",
       "4                   NaN            NaN            NaN                   NaN   \n",
       "\n",
       "      Alc_type_7 Garnish_type_7 non_alc_ingredients_7 Alc_type_8  \\\n",
       "0            NaN            NaN                   NaN        NaN   \n",
       "1                                     Cranberry_Juice              \n",
       "2            NaN            NaN                   NaN        NaN   \n",
       "3  Sweet_Liqueur                                                   \n",
       "4            NaN            NaN                   NaN        NaN   \n",
       "\n",
       "  Garnish_type_8 non_alc_ingredients_8 Alc_type_9 Garnish_type_9  \\\n",
       "0            NaN                   NaN        NaN            NaN   \n",
       "1                      Pineapple_Juice        NaN            NaN   \n",
       "2            NaN                   NaN        NaN            NaN   \n",
       "3                    Vanilla_Ice-Cream        NaN            NaN   \n",
       "4            NaN                   NaN        NaN            NaN   \n",
       "\n",
       "  non_alc_ingredients_9 Alc_type_10 Garnish_type_10 non_alc_ingredients_10  \n",
       "0                   NaN         NaN             NaN                    NaN  \n",
       "1                   NaN         NaN             NaN                    NaN  \n",
       "2                   NaN         NaN             NaN                    NaN  \n",
       "3                   NaN         NaN             NaN                    NaN  \n",
       "4                   NaN         NaN             NaN                    NaN  "
      ]
     },
     "execution_count": 10,
     "metadata": {},
     "output_type": "execute_result"
    }
   ],
   "source": [
    "# Reallocate ingredients as columns so each column takes only one row\n",
    "\n",
    "df_ingredients = df_ingredients[df_ingredients['Alc_type'] != 'Alc_type']\n",
    "s =  df_ingredients.groupby('strDrink').cumcount().add(1)\n",
    "df_ingredients = (df_ingredients.set_index(['strDrink',s])\n",
    "        .unstack()\n",
    "        .sort_index(axis=1, level=1)\n",
    "       )\n",
    "df_ingredients.columns = ['{}_{}'.format(a, b) for a,b in df_ingredients.columns]\n",
    "\n",
    "df_ingredients = df_ingredients.reset_index()\n",
    "df_ingredients.head()"
   ]
  },
  {
   "cell_type": "code",
   "execution_count": 11,
   "metadata": {},
   "outputs": [],
   "source": [
    "df_ingredients['Ingredients'] = df_ingredients.drop(['strDrink'], axis=1).fillna('').apply(lambda x:\n",
    "                                                                          ' '.join(x), axis=1).apply(lambda x: x.lower())\n",
    "df_ingredients = df_ingredients[['strDrink', 'Ingredients']]"
   ]
  },
  {
   "cell_type": "code",
   "execution_count": 12,
   "metadata": {},
   "outputs": [
    {
     "data": {
      "text/html": [
       "<div>\n",
       "<style scoped>\n",
       "    .dataframe tbody tr th:only-of-type {\n",
       "        vertical-align: middle;\n",
       "    }\n",
       "\n",
       "    .dataframe tbody tr th {\n",
       "        vertical-align: top;\n",
       "    }\n",
       "\n",
       "    .dataframe thead th {\n",
       "        text-align: right;\n",
       "    }\n",
       "</style>\n",
       "<table border=\"1\" class=\"dataframe\">\n",
       "  <thead>\n",
       "    <tr style=\"text-align: right;\">\n",
       "      <th></th>\n",
       "      <th>strDrink</th>\n",
       "      <th>Ingredients</th>\n",
       "    </tr>\n",
       "  </thead>\n",
       "  <tbody>\n",
       "    <tr>\n",
       "      <th>0</th>\n",
       "      <td>'57 Chevy with a White License Plate</td>\n",
       "      <td>creamy_liqueur   vodka</td>\n",
       "    </tr>\n",
       "    <tr>\n",
       "      <th>1</th>\n",
       "      <td>1-900-FUK-MEUP</td>\n",
       "      <td>vodka   triple_sec   sweet_liqueur   sweet_liq...</td>\n",
       "    </tr>\n",
       "    <tr>\n",
       "      <th>2</th>\n",
       "      <td>110 in the shade</td>\n",
       "      <td>beer   tequila</td>\n",
       "    </tr>\n",
       "    <tr>\n",
       "      <th>3</th>\n",
       "      <td>151 Florida Bushwacker</td>\n",
       "      <td>rum   rum   rum   creamy_liqueur   triple_sec ...</td>\n",
       "    </tr>\n",
       "    <tr>\n",
       "      <th>4</th>\n",
       "      <td>155 Belmont</td>\n",
       "      <td>rum   rum   vodka     orange_juice            ...</td>\n",
       "    </tr>\n",
       "  </tbody>\n",
       "</table>\n",
       "</div>"
      ],
      "text/plain": [
       "                               strDrink  \\\n",
       "0  '57 Chevy with a White License Plate   \n",
       "1                        1-900-FUK-MEUP   \n",
       "2                      110 in the shade   \n",
       "3                151 Florida Bushwacker   \n",
       "4                           155 Belmont   \n",
       "\n",
       "                                         Ingredients  \n",
       "0   creamy_liqueur   vodka                            \n",
       "1  vodka   triple_sec   sweet_liqueur   sweet_liq...  \n",
       "2           beer   tequila                            \n",
       "3  rum   rum   rum   creamy_liqueur   triple_sec ...  \n",
       "4  rum   rum   vodka     orange_juice            ...  "
      ]
     },
     "execution_count": 12,
     "metadata": {},
     "output_type": "execute_result"
    }
   ],
   "source": [
    "df_ingredients.head()"
   ]
  },
  {
   "cell_type": "markdown",
   "metadata": {},
   "source": [
    "### Step 2:\n",
    "- split ingerients by pairs\n",
    "- compute most common pairs (N - to be defined depending on results)"
   ]
  },
  {
   "cell_type": "code",
   "execution_count": 13,
   "metadata": {},
   "outputs": [
    {
     "name": "stdout",
     "output_type": "stream",
     "text": [
      "1185\n"
     ]
    },
    {
     "data": {
      "text/plain": [
       "[('creamy_liqueur', 'vodka'),\n",
       " ('vodka', 'triple_sec'),\n",
       " ('triple_sec', 'sweet_liqueur'),\n",
       " ('sweet_liqueur', 'sweet_liqueur'),\n",
       " ('sweet_liqueur', 'rum'),\n",
       " ('rum', 'sweet_liqueur'),\n",
       " ('sweet_liqueur', 'cranberry_juice'),\n",
       " ('cranberry_juice', 'pineapple_juice'),\n",
       " ('beer', 'tequila'),\n",
       " ('rum', 'rum')]"
      ]
     },
     "execution_count": 13,
     "metadata": {},
     "output_type": "execute_result"
    }
   ],
   "source": [
    "# Generate pairs from ingredients of each cocktail and combine them in one list\n",
    "\n",
    "bigram = [list(nltk.bigrams(nltk.word_tokenize(i))) for i in df_ingredients['Ingredients']]\n",
    "pairs_list = [j for i in bigram for j in i]\n",
    "print(len(pairs_list))\n",
    "pairs_list[:10]"
   ]
  },
  {
   "cell_type": "markdown",
   "metadata": {},
   "source": [
    "There are some tuples where elements are swopped but essential taste of such combination is not unique. Such tuples need to be alighned."
   ]
  },
  {
   "cell_type": "code",
   "execution_count": 14,
   "metadata": {
    "scrolled": true
   },
   "outputs": [],
   "source": [
    "# First, define a list of tuples to be amended\n",
    "\n",
    "to_aligh = []\n",
    "for a in pairs_list:\n",
    "    for b in pairs_list:\n",
    "        if a != b:\n",
    "            if b[1] == a[0]:\n",
    "                if b[0] == a[1]:            # If both elements of tuple are equal to the swopped tuple under the check\n",
    "                    if a not in to_aligh and b not in to_aligh:\n",
    "                        to_aligh.append(b)"
   ]
  },
  {
   "cell_type": "code",
   "execution_count": 15,
   "metadata": {},
   "outputs": [],
   "source": [
    "# Second, amend them\n",
    "\n",
    "pairs_list_aligned = []\n",
    "for i in pairs_list:\n",
    "    if i in to_aligh:\n",
    "        pairs_list_aligned.append((i[1], i[0]))\n",
    "    else:\n",
    "        pairs_list_aligned.append(i)"
   ]
  },
  {
   "cell_type": "code",
   "execution_count": 16,
   "metadata": {
    "scrolled": true
   },
   "outputs": [
    {
     "data": {
      "text/plain": [
       "True"
      ]
     },
     "execution_count": 16,
     "metadata": {},
     "output_type": "execute_result"
    }
   ],
   "source": [
    "# Check that total number of tuples hasn't changed, only content should be amended\n",
    "\n",
    "len(pairs_list_aligned) == len(pairs_list)"
   ]
  },
  {
   "cell_type": "code",
   "execution_count": 17,
   "metadata": {
    "scrolled": true
   },
   "outputs": [
    {
     "data": {
      "image/png": "[encoded data removed]",
      "text/plain": [
       "<Figure size 720x576 with 1 Axes>"
      ]
     },
     "metadata": {
      "needs_background": "light"
     },
     "output_type": "display_data"
    }
   ],
   "source": [
    "# Plot the most common pairs\n",
    "\n",
    "pairs_list_flat = [(i[0]+', '+i[1]) for i in pairs_list_aligned]\n",
    "pairs = pd.DataFrame(pairs_list_flat, columns=['pairs'])\n",
    "plt.figure(figsize = (10,8))\n",
    "ax = pairs['pairs'].value_counts().nlargest(20).plot.barh()\n",
    "plt.show()"
   ]
  },
  {
   "cell_type": "code",
   "execution_count": 18,
   "metadata": {
    "scrolled": true
   },
   "outputs": [
    {
     "data": {
      "image/png": "[encoded data removed]",
      "text/plain": [
       "<Figure size 720x576 with 1 Axes>"
      ]
     },
     "metadata": {
      "needs_background": "light"
     },
     "output_type": "display_data"
    }
   ],
   "source": [
    "# Plot the least common pairs\n",
    "\n",
    "plt.figure(figsize = (10,8))\n",
    "ax = pairs['pairs'].value_counts().nsmallest(20).plot.barh()\n",
    "plt.show()"
   ]
  },
  {
   "cell_type": "code",
   "execution_count": 19,
   "metadata": {
    "scrolled": true
   },
   "outputs": [
    {
     "name": "stdout",
     "output_type": "stream",
     "text": [
      "580\n"
     ]
    },
    {
     "data": {
      "text/plain": [
       "[(('vodka', 'sweet_liqueur'), 21),\n",
       " (('gin', 'vermouth'), 20),\n",
       " (('creamy_liqueur', 'sweet_liqueur'), 17),\n",
       " (('vodka', 'triple_sec'), 14),\n",
       " (('sweet_liqueur', 'whisky'), 14),\n",
       " (('gin', 'triple_sec'), 13),\n",
       " (('lemon', 'powdered_sugar'), 13),\n",
       " (('creamy_liqueur', 'creamy_liqueur'), 12),\n",
       " (('rum', 'vodka'), 11),\n",
       " (('triple_sec', 'lemon_juice'), 11),\n",
       " (('gin', 'brandy'), 10),\n",
       " (('whisky', 'vermouth'), 10),\n",
       " (('brandy', 'triple_sec'), 10),\n",
       " (('orange', 'maraschino_cherry'), 10),\n",
       " (('triple_sec', 'sweet_liqueur'), 9),\n",
       " (('sweet_liqueur', 'orange_juice'), 9),\n",
       " (('sweet_liqueur', 'gin'), 9),\n",
       " (('rum', 'brandy'), 9),\n",
       " (('sweet_liqueur', 'rum'), 8),\n",
       " (('brandy', 'sweet_liqueur'), 8),\n",
       " (('creamy_liqueur', 'vodka'), 7),\n",
       " (('rum', 'rum'), 7),\n",
       " (('orange_juice', 'grenadine'), 7),\n",
       " (('gin', 'bitter'), 7),\n",
       " (('sweet_liqueur', 'bitter'), 7),\n",
       " (('triple_sec', 'lime_juice'), 7),\n",
       " (('gin', 'lemon_juice'), 7),\n",
       " (('rum', 'beer'), 7),\n",
       " (('whisky', 'lemon'), 7),\n",
       " (('lemon_juice', 'sugar_superfine'), 7),\n",
       " (('sweet_liqueur', 'cranberry_juice'), 6),\n",
       " (('rum', 'creamy_liqueur'), 6),\n",
       " (('rum', 'whisky'), 6),\n",
       " (('whisky', 'whisky'), 6),\n",
       " (('tequila', 'triple_sec'), 6),\n",
       " (('lemon_juice', 'grenadine'), 6),\n",
       " (('rum', 'triple_sec'), 6),\n",
       " (('gin', 'grenadine'), 6),\n",
       " (('vermouth', 'bitter'), 6),\n",
       " (('creamy_liqueur', 'light_cream'), 6),\n",
       " (('creamy_liqueur', 'sambuca'), 6),\n",
       " (('sweet_liqueur', 'sweet_liqueur'), 5),\n",
       " (('creamy_liqueur', 'triple_sec'), 5),\n",
       " (('vodka', 'orange_juice'), 5),\n",
       " (('schnapps', 'vodka'), 5),\n",
       " (('vodka', 'gin'), 5),\n",
       " (('water', 'sugar'), 5),\n",
       " (('sweet_liqueur', 'pineapple_juice'), 5),\n",
       " (('creamy_liqueur', 'milk'), 5),\n",
       " (('brandy', 'orange_juice'), 5),\n",
       " (('rum', 'tequila'), 4),\n",
       " (('schnapps', 'orange_juice'), 4),\n",
       " (('orange_juice', 'cranberry_juice'), 4),\n",
       " (('orange_juice', 'lemon_juice'), 4),\n",
       " (('vodka', 'lime_juice'), 4),\n",
       " (('lime_juice', 'sugar'), 4),\n",
       " (('rum', 'lemon_juice'), 4),\n",
       " (('vodka', 'tequila'), 4),\n",
       " (('vermouth', 'brandy'), 4),\n",
       " (('schnapps', 'creamy_liqueur'), 4),\n",
       " (('whisky', 'brandy'), 4),\n",
       " (('sweet_liqueur', 'sour_mix'), 4),\n",
       " (('orange_juice', 'pineapple_juice'), 4),\n",
       " (('whisky', 'creamy_liqueur'), 4),\n",
       " (('lemon_juice', 'sweet_liqueur'), 4),\n",
       " (('sugar_superfine', 'club_soda'), 4),\n",
       " (('rum', 'lime'), 4),\n",
       " (('sweet_liqueur', 'beer'), 4),\n",
       " (('carbonated_water', 'powdered_sugar'), 4),\n",
       " (('powdered_sugar', 'egg'), 4),\n",
       " (('cranberry_juice', 'pineapple_juice'), 3),\n",
       " (('milk', 'sweet_liqueur'), 3),\n",
       " (('schnapps', 'bitter'), 3),\n",
       " (('gin', 'rum'), 3),\n",
       " (('rum', 'orange_juice'), 3),\n",
       " (('vodka', 'brandy'), 3),\n",
       " (('whisky', 'vodka'), 3),\n",
       " (('creamy_liqueur', 'brandy'), 3),\n",
       " (('schnapps', 'sweet_liqueur'), 3),\n",
       " (('vodka', 'cranberry_juice'), 3),\n",
       " (('orange_juice', 'triple_sec'), 3),\n",
       " (('vodka', 'lemonade'), 3),\n",
       " (('vermouth', 'vermouth'), 3),\n",
       " (('triple_sec', 'lime'), 3),\n",
       " (('brandy', 'lemon_juice'), 3),\n",
       " (('gin', 'creamy_liqueur'), 3),\n",
       " (('triple_sec', 'pineapple_juice'), 3),\n",
       " (('tequila', 'orange_juice'), 3),\n",
       " (('sweet_liqueur', 'sweet_and_sour'), 3),\n",
       " (('gin', 'wine'), 3),\n",
       " (('champagne', 'sweet_liqueur'), 3),\n",
       " (('whisky', 'wine'), 3),\n",
       " (('rum', 'lime_juice'), 3),\n",
       " (('lime_juice', 'sugar_syrup'), 3),\n",
       " (('powdered_sugar', 'egg_white'), 3),\n",
       " (('lemon_juice', 'whisky'), 3),\n",
       " (('sugar_superfine', 'orange'), 3),\n",
       " (('vodka', 'vodka'), 3),\n",
       " (('lemon', 'brandy'), 3),\n",
       " (('sugar', 'lime'), 3),\n",
       " (('lime', 'powdered_sugar'), 3),\n",
       " (('powdered_sugar', 'grenadine'), 3),\n",
       " (('gin', 'tequila'), 3),\n",
       " (('egg_white', 'carbonated_water'), 3),\n",
       " (('bitter', 'water'), 3),\n",
       " (('grenadine', 'lemon'), 3),\n",
       " (('coffee', 'vodka'), 3),\n",
       " (('beer', 'cider'), 3),\n",
       " (('milk', 'rum'), 3),\n",
       " (('gin', 'carbonated_water'), 3),\n",
       " (('gin', 'lemon'), 3),\n",
       " (('powdered_sugar', 'water'), 3),\n",
       " (('rum', 'pineapple_juice'), 3),\n",
       " (('light_cream', 'powdered_sugar'), 3),\n",
       " (('sweet_liqueur', 'grenadine'), 3),\n",
       " (('sugar', 'wine'), 3),\n",
       " (('triple_sec', 'milk'), 2),\n",
       " (('vodka', 'coca-cola'), 2),\n",
       " (('triple_sec', 'schnapps'), 2),\n",
       " (('rum', 'ginger_beer'), 2),\n",
       " (('soda_water', 'sweet_liqueur'), 2),\n",
       " (('sweet_liqueur', 'lemon'), 2),\n",
       " (('gin', 'tonic_water'), 2),\n",
       " (('orange_juice', 'bitter'), 2),\n",
       " (('sugar', 'egg_white'), 2),\n",
       " (('lemonade', 'water'), 2),\n",
       " (('vodka', 'grenadine'), 2),\n",
       " (('rum', 'vermouth'), 2),\n",
       " (('brandy', 'bitter'), 2),\n",
       " (('triple_sec', 'whisky'), 2),\n",
       " (('creamy_liqueur', 'coffee'), 2),\n",
       " (('sweet_liqueur', 'light_cream'), 2),\n",
       " (('sweet_liqueur', 'lime'), 2),\n",
       " (('sweet_liqueur', 'lime_juice'), 2),\n",
       " (('sour_mix', 'orange_juice'), 2),\n",
       " (('sweet_liqueur', 'tequila'), 2),\n",
       " (('campari', 'vermouth'), 2),\n",
       " (('sweet_and_sour', 'club_soda'), 2),\n",
       " (('triple_sec', 'triple_sec'), 2),\n",
       " (('sambuca', 'triple_sec'), 2),\n",
       " (('milk', 'vanilla_ice-cream'), 2),\n",
       " (('creamy_liqueur', 'vanilla_ice-cream'), 2),\n",
       " (('vermouth', 'carbonated_water'), 2),\n",
       " (('carbonated_water', 'lemon_peel'), 2),\n",
       " (('wine', 'orange_juice'), 2)]"
      ]
     },
     "execution_count": 19,
     "metadata": {},
     "output_type": "execute_result"
    }
   ],
   "source": [
    "# Define 25% of the most common pairs as a separate list\n",
    "\n",
    "counter=collections.Counter(pairs_list_aligned)\n",
    "print(len(counter))\n",
    "common_pairs = counter.most_common(int(len(counter)*0.25))\n",
    "common_pairs"
   ]
  },
  {
   "cell_type": "code",
   "execution_count": 20,
   "metadata": {
    "scrolled": true
   },
   "outputs": [
    {
     "data": {
      "text/plain": [
       "['vodka',\n",
       " 'lemon',\n",
       " 'carbonated_water',\n",
       " 'campari',\n",
       " 'coca-cola',\n",
       " 'soda_water',\n",
       " 'tonic_water',\n",
       " 'gin',\n",
       " 'bitter',\n",
       " 'grenadine',\n",
       " 'tequila',\n",
       " 'beer',\n",
       " 'creamy_liqueur',\n",
       " 'lemonade',\n",
       " 'lemon_peel',\n",
       " 'powdered_sugar',\n",
       " 'wine',\n",
       " 'lemon_juice',\n",
       " 'egg',\n",
       " 'triple_sec',\n",
       " 'sugar_syrup',\n",
       " 'club_soda',\n",
       " 'brandy',\n",
       " 'cider',\n",
       " 'vermouth',\n",
       " 'sugar_superfine',\n",
       " 'champagne',\n",
       " 'sugar',\n",
       " 'coffee',\n",
       " 'sweet_and_sour',\n",
       " 'whisky',\n",
       " 'ginger_beer',\n",
       " 'orange',\n",
       " 'cranberry_juice',\n",
       " 'rum',\n",
       " 'egg_white',\n",
       " 'orange_juice',\n",
       " 'water',\n",
       " 'light_cream',\n",
       " 'milk',\n",
       " 'pineapple_juice',\n",
       " 'sweet_liqueur',\n",
       " 'maraschino_cherry',\n",
       " 'lime_juice',\n",
       " 'vanilla_ice-cream',\n",
       " 'schnapps',\n",
       " 'sour_mix',\n",
       " 'lime',\n",
       " 'sambuca']"
      ]
     },
     "execution_count": 20,
     "metadata": {},
     "output_type": "execute_result"
    }
   ],
   "source": [
    "common_ingredients = []\n",
    "\n",
    "for n in common_pairs:\n",
    "    common_ingredients.append(n[0][0])\n",
    "    common_ingredients.append(n[0][1])\n",
    "common_ingredients = list(set(common_ingredients))\n",
    "common_ingredients"
   ]
  },
  {
   "cell_type": "markdown",
   "metadata": {},
   "source": [
    "### Step 3: generate a frame for new combinations:\n",
    "- define total number of ingerients (random choice from a range 3-6))\n",
    "- from ingredients included in top pairs pick one randomly\n",
    "- find suitable pair for this ingredient (from all pairs, but give top pairs bigger weight)\n",
    "- do the same for the next ingredient but check that it's not included already\n",
    "- etc until limit is reached"
   ]
  },
  {
   "cell_type": "code",
   "execution_count": 21,
   "metadata": {},
   "outputs": [],
   "source": [
    "# Define total number of ingredients for a new cocktail\n",
    "\n",
    "n_ingr = random.randint(3,7)"
   ]
  },
  {
   "cell_type": "code",
   "execution_count": 22,
   "metadata": {},
   "outputs": [],
   "source": [
    "new_cocktail = []"
   ]
  },
  {
   "cell_type": "code",
   "execution_count": 23,
   "metadata": {},
   "outputs": [],
   "source": [
    "# Pick the first ingredient randomly from the top popular\n",
    "\n",
    "first_ingr = random.choice(common_ingredients)\n",
    "new_cocktail.append(first_ingr)"
   ]
  },
  {
   "cell_type": "code",
   "execution_count": 24,
   "metadata": {},
   "outputs": [],
   "source": [
    "# Identify remaning ingredients\n",
    "\n",
    "counter = 1          # Not zero because the first ingredient is defined separatelly above\n",
    "while counter < n_ingr:\n",
    "    temp_list = []\n",
    "    for i in set(pairs_list_aligned):\n",
    "        if new_cocktail[-1] in i:\n",
    "            temp_list.append(i)\n",
    "    random_pair = random.choice(temp_list)\n",
    "    if random_pair[0] == new_cocktail[-1]:\n",
    "        next_ingr = random_pair[1]\n",
    "    else:\n",
    "        next_ingr = random_pair[0]\n",
    "    new_cocktail.append(next_ingr)\n",
    "    counter += 1"
   ]
  },
  {
   "cell_type": "code",
   "execution_count": 25,
   "metadata": {},
   "outputs": [
    {
     "data": {
      "text/plain": [
       "['milk', 'sugar', 'lime_juice', 'gin', 'water', 'wine']"
      ]
     },
     "execution_count": 25,
     "metadata": {},
     "output_type": "execute_result"
    }
   ],
   "source": [
    "new_cocktail"
   ]
  },
  {
   "cell_type": "markdown",
   "metadata": {},
   "source": [
    "### Step 4: define volume of each ingredient"
   ]
  },
  {
   "cell_type": "code",
   "execution_count": 26,
   "metadata": {},
   "outputs": [],
   "source": [
    "# Create new dataframe with relevant columns only\n",
    "\n",
    "df_measures = df[['strDrink', 'strCategory', 'Alc_type', 'non_alc_ingredients', 'Value_ml', 'Value_gr']]"
   ]
  },
  {
   "cell_type": "code",
   "execution_count": 27,
   "metadata": {
    "scrolled": true
   },
   "outputs": [
    {
     "data": {
      "text/html": [
       "<div>\n",
       "<style scoped>\n",
       "    .dataframe tbody tr th:only-of-type {\n",
       "        vertical-align: middle;\n",
       "    }\n",
       "\n",
       "    .dataframe tbody tr th {\n",
       "        vertical-align: top;\n",
       "    }\n",
       "\n",
       "    .dataframe thead th {\n",
       "        text-align: right;\n",
       "    }\n",
       "</style>\n",
       "<table border=\"1\" class=\"dataframe\">\n",
       "  <thead>\n",
       "    <tr style=\"text-align: right;\">\n",
       "      <th></th>\n",
       "      <th>strDrink</th>\n",
       "      <th>strCategory</th>\n",
       "      <th>Alc_type</th>\n",
       "      <th>non_alc_ingredients</th>\n",
       "      <th>Value_ml</th>\n",
       "      <th>Value_gr</th>\n",
       "    </tr>\n",
       "  </thead>\n",
       "  <tbody>\n",
       "    <tr>\n",
       "      <th>1213</th>\n",
       "      <td>Mudslinger</td>\n",
       "      <td>Punch / Party Drink</td>\n",
       "      <td>NaN</td>\n",
       "      <td>Pepsi Cola</td>\n",
       "      <td>750.0</td>\n",
       "      <td>NaN</td>\n",
       "    </tr>\n",
       "    <tr>\n",
       "      <th>1282</th>\n",
       "      <td>Smut</td>\n",
       "      <td>Punch / Party Drink</td>\n",
       "      <td>NaN</td>\n",
       "      <td>Pepsi Cola</td>\n",
       "      <td>10.0</td>\n",
       "      <td>NaN</td>\n",
       "    </tr>\n",
       "  </tbody>\n",
       "</table>\n",
       "</div>"
      ],
      "text/plain": [
       "        strDrink          strCategory Alc_type non_alc_ingredients  Value_ml  \\\n",
       "1213  Mudslinger  Punch / Party Drink      NaN          Pepsi Cola     750.0   \n",
       "1282        Smut  Punch / Party Drink      NaN          Pepsi Cola      10.0   \n",
       "\n",
       "      Value_gr  \n",
       "1213       NaN  \n",
       "1282       NaN  "
      ]
     },
     "execution_count": 27,
     "metadata": {},
     "output_type": "execute_result"
    }
   ],
   "source": [
    "df_measures.loc[df_measures['non_alc_ingredients'] == 'Pepsi Cola']"
   ]
  },
  {
   "cell_type": "code",
   "execution_count": 28,
   "metadata": {},
   "outputs": [],
   "source": [
    "# Remove cocktails given in big volumes to align scale\n",
    "\n",
    "df_measures.drop(df_measures.loc[df_measures['strCategory'].str.contains('Punch')].index, axis=0, inplace=True)"
   ]
  },
  {
   "cell_type": "code",
   "execution_count": 29,
   "metadata": {},
   "outputs": [
    {
     "data": {
      "text/html": [
       "<div>\n",
       "<style scoped>\n",
       "    .dataframe tbody tr th:only-of-type {\n",
       "        vertical-align: middle;\n",
       "    }\n",
       "\n",
       "    .dataframe tbody tr th {\n",
       "        vertical-align: top;\n",
       "    }\n",
       "\n",
       "    .dataframe thead th {\n",
       "        text-align: right;\n",
       "    }\n",
       "</style>\n",
       "<table border=\"1\" class=\"dataframe\">\n",
       "  <thead>\n",
       "    <tr style=\"text-align: right;\">\n",
       "      <th></th>\n",
       "      <th>strDrink</th>\n",
       "      <th>strCategory</th>\n",
       "      <th>Alc_type</th>\n",
       "      <th>non_alc_ingredients</th>\n",
       "      <th>Value_ml</th>\n",
       "      <th>Value_gr</th>\n",
       "      <th>Measure</th>\n",
       "      <th>Value</th>\n",
       "      <th>Ingredients</th>\n",
       "    </tr>\n",
       "  </thead>\n",
       "  <tbody>\n",
       "    <tr>\n",
       "      <th>0</th>\n",
       "      <td>'57 Chevy with a White License Plate</td>\n",
       "      <td>Cocktail</td>\n",
       "      <td>Creamy Liqueur</td>\n",
       "      <td>NaN</td>\n",
       "      <td>30.0</td>\n",
       "      <td>NaN</td>\n",
       "      <td>ml</td>\n",
       "      <td>30.0</td>\n",
       "      <td>creamy_liqueur</td>\n",
       "    </tr>\n",
       "    <tr>\n",
       "      <th>1</th>\n",
       "      <td>1-900-FUK-MEUP</td>\n",
       "      <td>Shot</td>\n",
       "      <td>Vodka</td>\n",
       "      <td>NaN</td>\n",
       "      <td>15.0</td>\n",
       "      <td>NaN</td>\n",
       "      <td>ml</td>\n",
       "      <td>15.0</td>\n",
       "      <td>vodka</td>\n",
       "    </tr>\n",
       "    <tr>\n",
       "      <th>2</th>\n",
       "      <td>110 in the shade</td>\n",
       "      <td>Beer</td>\n",
       "      <td>Beer</td>\n",
       "      <td>NaN</td>\n",
       "      <td>480.0</td>\n",
       "      <td>NaN</td>\n",
       "      <td>ml</td>\n",
       "      <td>480.0</td>\n",
       "      <td>beer</td>\n",
       "    </tr>\n",
       "    <tr>\n",
       "      <th>3</th>\n",
       "      <td>151 Florida Bushwacker</td>\n",
       "      <td>Milk / Float / Shake</td>\n",
       "      <td>Rum</td>\n",
       "      <td>NaN</td>\n",
       "      <td>15.0</td>\n",
       "      <td>NaN</td>\n",
       "      <td>ml</td>\n",
       "      <td>15.0</td>\n",
       "      <td>rum</td>\n",
       "    </tr>\n",
       "    <tr>\n",
       "      <th>4</th>\n",
       "      <td>155 Belmont</td>\n",
       "      <td>Cocktail</td>\n",
       "      <td>Rum</td>\n",
       "      <td>NaN</td>\n",
       "      <td>25.0</td>\n",
       "      <td>NaN</td>\n",
       "      <td>ml</td>\n",
       "      <td>25.0</td>\n",
       "      <td>rum</td>\n",
       "    </tr>\n",
       "  </tbody>\n",
       "</table>\n",
       "</div>"
      ],
      "text/plain": [
       "                               strDrink           strCategory        Alc_type  \\\n",
       "0  '57 Chevy with a White License Plate              Cocktail  Creamy Liqueur   \n",
       "1                        1-900-FUK-MEUP                  Shot           Vodka   \n",
       "2                      110 in the shade                  Beer            Beer   \n",
       "3                151 Florida Bushwacker  Milk / Float / Shake             Rum   \n",
       "4                           155 Belmont              Cocktail             Rum   \n",
       "\n",
       "  non_alc_ingredients  Value_ml  Value_gr Measure  Value     Ingredients  \n",
       "0                 NaN      30.0       NaN      ml   30.0  creamy_liqueur  \n",
       "1                 NaN      15.0       NaN      ml   15.0           vodka  \n",
       "2                 NaN     480.0       NaN      ml  480.0            beer  \n",
       "3                 NaN      15.0       NaN      ml   15.0             rum  \n",
       "4                 NaN      25.0       NaN      ml   25.0             rum  "
      ]
     },
     "execution_count": 29,
     "metadata": {},
     "output_type": "execute_result"
    }
   ],
   "source": [
    "# Combine values in one column and define measure for each in a separate column\n",
    "\n",
    "df_measures['Measure'] = np.where(df_measures['Value_ml'].isnull(), 'gr', 'ml')\n",
    "df_measures['Value'] = df_measures['Value_ml'].fillna(0) + df_measures['Value_gr'].fillna(0)\n",
    "df_measures['Ingredients'] = df_measures['Alc_type'].fillna('') + df_measures['non_alc_ingredients'].fillna('')\n",
    "df_measures['Ingredients'] = df_measures['Ingredients'].apply(lambda x: x.lower()).apply(lambda x: x.replace(' ', '_'))\n",
    "df_measures.head()"
   ]
  },
  {
   "cell_type": "code",
   "execution_count": 30,
   "metadata": {},
   "outputs": [
    {
     "data": {
      "text/html": [
       "<div>\n",
       "<style scoped>\n",
       "    .dataframe tbody tr th:only-of-type {\n",
       "        vertical-align: middle;\n",
       "    }\n",
       "\n",
       "    .dataframe tbody tr th {\n",
       "        vertical-align: top;\n",
       "    }\n",
       "\n",
       "    .dataframe thead th {\n",
       "        text-align: right;\n",
       "    }\n",
       "</style>\n",
       "<table border=\"1\" class=\"dataframe\">\n",
       "  <thead>\n",
       "    <tr style=\"text-align: right;\">\n",
       "      <th></th>\n",
       "      <th>strDrink</th>\n",
       "      <th>strCategory</th>\n",
       "      <th>Alc_type</th>\n",
       "      <th>non_alc_ingredients</th>\n",
       "      <th>Value_ml</th>\n",
       "      <th>Value_gr</th>\n",
       "      <th>Measure</th>\n",
       "      <th>Value</th>\n",
       "      <th>Ingredients</th>\n",
       "      <th>Value_Measure</th>\n",
       "    </tr>\n",
       "  </thead>\n",
       "  <tbody>\n",
       "    <tr>\n",
       "      <th>0</th>\n",
       "      <td>'57 Chevy with a White License Plate</td>\n",
       "      <td>Cocktail</td>\n",
       "      <td>Creamy Liqueur</td>\n",
       "      <td>NaN</td>\n",
       "      <td>30.0</td>\n",
       "      <td>NaN</td>\n",
       "      <td>ml</td>\n",
       "      <td>30.0</td>\n",
       "      <td>creamy_liqueur</td>\n",
       "      <td>30.0 ml</td>\n",
       "    </tr>\n",
       "    <tr>\n",
       "      <th>1</th>\n",
       "      <td>1-900-FUK-MEUP</td>\n",
       "      <td>Shot</td>\n",
       "      <td>Vodka</td>\n",
       "      <td>NaN</td>\n",
       "      <td>15.0</td>\n",
       "      <td>NaN</td>\n",
       "      <td>ml</td>\n",
       "      <td>15.0</td>\n",
       "      <td>vodka</td>\n",
       "      <td>15.0 ml</td>\n",
       "    </tr>\n",
       "    <tr>\n",
       "      <th>2</th>\n",
       "      <td>110 in the shade</td>\n",
       "      <td>Beer</td>\n",
       "      <td>Beer</td>\n",
       "      <td>NaN</td>\n",
       "      <td>480.0</td>\n",
       "      <td>NaN</td>\n",
       "      <td>ml</td>\n",
       "      <td>480.0</td>\n",
       "      <td>beer</td>\n",
       "      <td>480.0 ml</td>\n",
       "    </tr>\n",
       "    <tr>\n",
       "      <th>3</th>\n",
       "      <td>151 Florida Bushwacker</td>\n",
       "      <td>Milk / Float / Shake</td>\n",
       "      <td>Rum</td>\n",
       "      <td>NaN</td>\n",
       "      <td>15.0</td>\n",
       "      <td>NaN</td>\n",
       "      <td>ml</td>\n",
       "      <td>15.0</td>\n",
       "      <td>rum</td>\n",
       "      <td>15.0 ml</td>\n",
       "    </tr>\n",
       "    <tr>\n",
       "      <th>4</th>\n",
       "      <td>155 Belmont</td>\n",
       "      <td>Cocktail</td>\n",
       "      <td>Rum</td>\n",
       "      <td>NaN</td>\n",
       "      <td>25.0</td>\n",
       "      <td>NaN</td>\n",
       "      <td>ml</td>\n",
       "      <td>25.0</td>\n",
       "      <td>rum</td>\n",
       "      <td>25.0 ml</td>\n",
       "    </tr>\n",
       "  </tbody>\n",
       "</table>\n",
       "</div>"
      ],
      "text/plain": [
       "                               strDrink           strCategory        Alc_type  \\\n",
       "0  '57 Chevy with a White License Plate              Cocktail  Creamy Liqueur   \n",
       "1                        1-900-FUK-MEUP                  Shot           Vodka   \n",
       "2                      110 in the shade                  Beer            Beer   \n",
       "3                151 Florida Bushwacker  Milk / Float / Shake             Rum   \n",
       "4                           155 Belmont              Cocktail             Rum   \n",
       "\n",
       "  non_alc_ingredients  Value_ml  Value_gr Measure  Value     Ingredients  \\\n",
       "0                 NaN      30.0       NaN      ml   30.0  creamy_liqueur   \n",
       "1                 NaN      15.0       NaN      ml   15.0           vodka   \n",
       "2                 NaN     480.0       NaN      ml  480.0            beer   \n",
       "3                 NaN      15.0       NaN      ml   15.0             rum   \n",
       "4                 NaN      25.0       NaN      ml   25.0             rum   \n",
       "\n",
       "  Value_Measure  \n",
       "0       30.0 ml  \n",
       "1       15.0 ml  \n",
       "2      480.0 ml  \n",
       "3       15.0 ml  \n",
       "4       25.0 ml  "
      ]
     },
     "execution_count": 30,
     "metadata": {},
     "output_type": "execute_result"
    }
   ],
   "source": [
    "# Combine value and measure in one string, this way it will be easier to pick up random value together with correct measure\n",
    "\n",
    "df_measures['Value'] = df_measures['Value'].astype('object').apply(lambda x: str(x))\n",
    "df_measures['Value_Measure'] = df_measures[['Value', 'Measure']].apply(lambda x: ' '.join(x), axis=1)\n",
    "df_measures.head()"
   ]
  },
  {
   "cell_type": "code",
   "execution_count": 31,
   "metadata": {
    "scrolled": true
   },
   "outputs": [],
   "source": [
    "# Pick up random volume of each ingredient\n",
    "\n",
    "for i in new_cocktail:\n",
    "    volume = [random.choice(df_measures.loc[df_measures['Ingredients'] == i]['Value_Measure'].tolist()) for i in new_cocktail]\n",
    "    new_cocktail_final = pd.DataFrame({'Ingredient': new_cocktail, 'Volume': volume})\n",
    "    new_cocktail_final"
   ]
  },
  {
   "cell_type": "markdown",
   "metadata": {},
   "source": [
    "### Step 5: define garnish"
   ]
  },
  {
   "cell_type": "markdown",
   "metadata": {},
   "source": [
    "***1) Prepare list of main ingredients with garnish for each cocktail in dataset***"
   ]
  },
  {
   "cell_type": "code",
   "execution_count": 32,
   "metadata": {},
   "outputs": [],
   "source": [
    "# Define reduced dataframe which contains only relevant fields\n",
    "\n",
    "df_garnish = df[['strDrink', 'strIngredients', 'Alc_type', 'Value_ml', 'Garnish_amount', 'Garnish_type']]"
   ]
  },
  {
   "cell_type": "code",
   "execution_count": 33,
   "metadata": {},
   "outputs": [],
   "source": [
    "df_garnish['Ingredients'] = np.where(df_garnish['Alc_type'].isnull(), df_garnish['strIngredients'], df_garnish['Alc_type'])"
   ]
  },
  {
   "cell_type": "code",
   "execution_count": 34,
   "metadata": {},
   "outputs": [],
   "source": [
    "# Combine value and measure of garnish in one column so it will be easier to pick it up later in the code\n",
    "\n",
    "df_garnish['Garnish_ingr'] = np.where(~df_garnish['Garnish_amount'].isnull(), df_garnish['strIngredients'], np.nan)\n",
    "df_garnish['Garnish'] = df_garnish[['Garnish_ingr', 'Garnish_amount', 'Garnish_type']].fillna('').apply(lambda x:\n",
    "                                                                                                       ' '.join(x), axis=1)\n",
    "df_garnish['Garnish'] = df_garnish['Garnish'].apply(lambda x: x.replace('0 top', 'top'))\n",
    "df_garnish['Garnish'] = np.where(df_garnish['Garnish'] == '  ', np.nan, df_garnish['Garnish'])"
   ]
  },
  {
   "cell_type": "code",
   "execution_count": 35,
   "metadata": {},
   "outputs": [],
   "source": [
    "# Rearrange dataframe that way that it's possible to identify garnish per cocktail per dominant ingredient\n",
    "\n",
    "drink_name_list = []\n",
    "garnish_list = []\n",
    "ingredient_list = []\n",
    "\n",
    "for drink in df_garnish['strDrink'].unique():      # For each cocktial\n",
    "    df_selected = df_garnish.loc[df_garnish['strDrink'] == drink]\n",
    "    max_value = df_selected['Value_ml'].max()\n",
    "\n",
    "    for ingr in df_selected.loc[df_selected['Value_ml'] == max_value]['Ingredients']:\n",
    "        for garnish in df_selected['Garnish'].unique():\n",
    "            drink_name_list.append(drink)\n",
    "            garnish_list.append(garnish)           # Include all garnishes for the drink\n",
    "            ingredient_list.append(ingr)           # Include an ingredient taking the biggest part of the drink\n",
    "\n",
    "df_garnish_final = pd.DataFrame({'Drink':drink_name_list, 'Ingredient':ingredient_list, 'Garnish':garnish_list})\n",
    "df_garnish_final.drop(df_garnish_final.loc[df_garnish_final['Garnish'].isnull()].index, axis=0, inplace = True)"
   ]
  },
  {
   "cell_type": "code",
   "execution_count": 36,
   "metadata": {
    "scrolled": true
   },
   "outputs": [
    {
     "data": {
      "text/html": [
       "<div>\n",
       "<style scoped>\n",
       "    .dataframe tbody tr th:only-of-type {\n",
       "        vertical-align: middle;\n",
       "    }\n",
       "\n",
       "    .dataframe tbody tr th {\n",
       "        vertical-align: top;\n",
       "    }\n",
       "\n",
       "    .dataframe thead th {\n",
       "        text-align: right;\n",
       "    }\n",
       "</style>\n",
       "<table border=\"1\" class=\"dataframe\">\n",
       "  <thead>\n",
       "    <tr style=\"text-align: right;\">\n",
       "      <th></th>\n",
       "      <th>Drink</th>\n",
       "      <th>Ingredient</th>\n",
       "      <th>Garnish</th>\n",
       "    </tr>\n",
       "  </thead>\n",
       "  <tbody>\n",
       "    <tr>\n",
       "      <th>17</th>\n",
       "      <td>3-Mile Long Island Iced Tea</td>\n",
       "      <td>Coca-Cola</td>\n",
       "      <td>Lemon 1 wedge</td>\n",
       "    </tr>\n",
       "    <tr>\n",
       "      <th>20</th>\n",
       "      <td>50/50</td>\n",
       "      <td>Vodka</td>\n",
       "      <td>Orange Juice top up</td>\n",
       "    </tr>\n",
       "    <tr>\n",
       "      <th>28</th>\n",
       "      <td>A Furlong Too Late</td>\n",
       "      <td>Ginger Beer</td>\n",
       "      <td>Lemon Peel 1 twist</td>\n",
       "    </tr>\n",
       "    <tr>\n",
       "      <th>32</th>\n",
       "      <td>A Night In Old Mandalay</td>\n",
       "      <td>Beer</td>\n",
       "      <td>Lemon Peel 1 twist</td>\n",
       "    </tr>\n",
       "    <tr>\n",
       "      <th>41</th>\n",
       "      <td>A.D.M. (After Dinner Mint)</td>\n",
       "      <td>Whisky</td>\n",
       "      <td>Hot Chocolate top up</td>\n",
       "    </tr>\n",
       "  </tbody>\n",
       "</table>\n",
       "</div>"
      ],
      "text/plain": [
       "                          Drink   Ingredient               Garnish\n",
       "17  3-Mile Long Island Iced Tea    Coca-Cola         Lemon 1 wedge\n",
       "20                        50/50        Vodka   Orange Juice top up\n",
       "28           A Furlong Too Late  Ginger Beer    Lemon Peel 1 twist\n",
       "32      A Night In Old Mandalay         Beer    Lemon Peel 1 twist\n",
       "41   A.D.M. (After Dinner Mint)       Whisky  Hot Chocolate top up"
      ]
     },
     "execution_count": 36,
     "metadata": {},
     "output_type": "execute_result"
    }
   ],
   "source": [
    "df_garnish_final.head()"
   ]
  },
  {
   "cell_type": "markdown",
   "metadata": {},
   "source": [
    "***2) Identify a main ingredient of a generated cocktail***"
   ]
  },
  {
   "cell_type": "code",
   "execution_count": 37,
   "metadata": {
    "scrolled": true
   },
   "outputs": [
    {
     "data": {
      "text/html": [
       "<div>\n",
       "<style scoped>\n",
       "    .dataframe tbody tr th:only-of-type {\n",
       "        vertical-align: middle;\n",
       "    }\n",
       "\n",
       "    .dataframe tbody tr th {\n",
       "        vertical-align: top;\n",
       "    }\n",
       "\n",
       "    .dataframe thead th {\n",
       "        text-align: right;\n",
       "    }\n",
       "</style>\n",
       "<table border=\"1\" class=\"dataframe\">\n",
       "  <thead>\n",
       "    <tr style=\"text-align: right;\">\n",
       "      <th></th>\n",
       "      <th>Ingredient</th>\n",
       "      <th>Volume</th>\n",
       "    </tr>\n",
       "  </thead>\n",
       "  <tbody>\n",
       "    <tr>\n",
       "      <th>0</th>\n",
       "      <td>milk</td>\n",
       "      <td>0.0 gr</td>\n",
       "    </tr>\n",
       "    <tr>\n",
       "      <th>1</th>\n",
       "      <td>sugar</td>\n",
       "      <td>30.0 ml</td>\n",
       "    </tr>\n",
       "    <tr>\n",
       "      <th>2</th>\n",
       "      <td>lime_juice</td>\n",
       "      <td>45.0 ml</td>\n",
       "    </tr>\n",
       "    <tr>\n",
       "      <th>3</th>\n",
       "      <td>gin</td>\n",
       "      <td>0.0 gr</td>\n",
       "    </tr>\n",
       "    <tr>\n",
       "      <th>4</th>\n",
       "      <td>water</td>\n",
       "      <td>4.0 gr</td>\n",
       "    </tr>\n",
       "    <tr>\n",
       "      <th>5</th>\n",
       "      <td>wine</td>\n",
       "      <td>0.0 gr</td>\n",
       "    </tr>\n",
       "  </tbody>\n",
       "</table>\n",
       "</div>"
      ],
      "text/plain": [
       "   Ingredient   Volume\n",
       "0        milk   0.0 gr\n",
       "1       sugar  30.0 ml\n",
       "2  lime_juice  45.0 ml\n",
       "3         gin   0.0 gr\n",
       "4       water   4.0 gr\n",
       "5        wine   0.0 gr"
      ]
     },
     "execution_count": 37,
     "metadata": {},
     "output_type": "execute_result"
    }
   ],
   "source": [
    "new_cocktail_final"
   ]
  },
  {
   "cell_type": "code",
   "execution_count": 38,
   "metadata": {
    "scrolled": true
   },
   "outputs": [],
   "source": [
    "new_cocktail_final = new_cocktail_final.join(new_cocktail_final['Volume'].str.rsplit(n=1, expand=True).rename(columns={\n",
    "                                                                                                    0: 'Value', 1: 'Measure'}))\n",
    "new_cocktail_final['Value'] = new_cocktail_final['Value'].astype('float')"
   ]
  },
  {
   "cell_type": "code",
   "execution_count": 39,
   "metadata": {},
   "outputs": [],
   "source": [
    "main_ingr = random.choice(new_cocktail_final.loc[new_cocktail_final['Value'] ==\n",
    "                                                                     new_cocktail_final['Value'].max()]['Ingredient'].tolist())"
   ]
  },
  {
   "cell_type": "code",
   "execution_count": 40,
   "metadata": {},
   "outputs": [],
   "source": [
    "new_cocktail_final.drop(['Value', 'Measure'], axis=1, inplace=True)"
   ]
  },
  {
   "cell_type": "markdown",
   "metadata": {},
   "source": [
    "***3) Find suitable garnish and add to the recipe***"
   ]
  },
  {
   "cell_type": "code",
   "execution_count": 41,
   "metadata": {},
   "outputs": [],
   "source": [
    "garnish_to_add = df_garnish_final.loc[df_garnish_final['Ingredient'] == main_ingr]['Garnish'].tolist()\n",
    "\n",
    "if garnish_to_add:\n",
    "    new_cocktail_final.loc[len(new_cocktail_final)] = ['garnish', garnish_to_add]"
   ]
  },
  {
   "cell_type": "code",
   "execution_count": 42,
   "metadata": {},
   "outputs": [
    {
     "data": {
      "text/html": [
       "<div>\n",
       "<style scoped>\n",
       "    .dataframe tbody tr th:only-of-type {\n",
       "        vertical-align: middle;\n",
       "    }\n",
       "\n",
       "    .dataframe tbody tr th {\n",
       "        vertical-align: top;\n",
       "    }\n",
       "\n",
       "    .dataframe thead th {\n",
       "        text-align: right;\n",
       "    }\n",
       "</style>\n",
       "<table border=\"1\" class=\"dataframe\">\n",
       "  <thead>\n",
       "    <tr style=\"text-align: right;\">\n",
       "      <th></th>\n",
       "      <th>Ingredient</th>\n",
       "      <th>Volume</th>\n",
       "    </tr>\n",
       "  </thead>\n",
       "  <tbody>\n",
       "    <tr>\n",
       "      <th>0</th>\n",
       "      <td>milk</td>\n",
       "      <td>0.0 gr</td>\n",
       "    </tr>\n",
       "    <tr>\n",
       "      <th>1</th>\n",
       "      <td>sugar</td>\n",
       "      <td>30.0 ml</td>\n",
       "    </tr>\n",
       "    <tr>\n",
       "      <th>2</th>\n",
       "      <td>lime_juice</td>\n",
       "      <td>45.0 ml</td>\n",
       "    </tr>\n",
       "    <tr>\n",
       "      <th>3</th>\n",
       "      <td>gin</td>\n",
       "      <td>0.0 gr</td>\n",
       "    </tr>\n",
       "    <tr>\n",
       "      <th>4</th>\n",
       "      <td>water</td>\n",
       "      <td>4.0 gr</td>\n",
       "    </tr>\n",
       "    <tr>\n",
       "      <th>5</th>\n",
       "      <td>wine</td>\n",
       "      <td>0.0 gr</td>\n",
       "    </tr>\n",
       "  </tbody>\n",
       "</table>\n",
       "</div>"
      ],
      "text/plain": [
       "   Ingredient   Volume\n",
       "0        milk   0.0 gr\n",
       "1       sugar  30.0 ml\n",
       "2  lime_juice  45.0 ml\n",
       "3         gin   0.0 gr\n",
       "4       water   4.0 gr\n",
       "5        wine   0.0 gr"
      ]
     },
     "execution_count": 42,
     "metadata": {},
     "output_type": "execute_result"
    }
   ],
   "source": [
    "new_cocktail_final"
   ]
  },
  {
   "cell_type": "code",
   "execution_count": 43,
   "metadata": {},
   "outputs": [],
   "source": [
    "# Refactoring might be done to rearrange the code that way that to generate new cocktail you don't have to run whole file"
   ]
  },
  {
   "cell_type": "markdown",
   "metadata": {},
   "source": [
    "### List alcoholic ingredients"
   ]
  },
  {
   "cell_type": "code",
   "execution_count": 44,
   "metadata": {},
   "outputs": [
    {
     "data": {
      "text/html": [
       "<div>\n",
       "<style scoped>\n",
       "    .dataframe tbody tr th:only-of-type {\n",
       "        vertical-align: middle;\n",
       "    }\n",
       "\n",
       "    .dataframe tbody tr th {\n",
       "        vertical-align: top;\n",
       "    }\n",
       "\n",
       "    .dataframe thead th {\n",
       "        text-align: right;\n",
       "    }\n",
       "</style>\n",
       "<table border=\"1\" class=\"dataframe\">\n",
       "  <thead>\n",
       "    <tr style=\"text-align: right;\">\n",
       "      <th></th>\n",
       "      <th>strDrink</th>\n",
       "      <th>strCategory</th>\n",
       "      <th>strGlass</th>\n",
       "      <th>strIngredients</th>\n",
       "      <th>Alc_type</th>\n",
       "      <th>Basic_taste</th>\n",
       "      <th>strInstructions</th>\n",
       "      <th>strMeasures</th>\n",
       "      <th>Value</th>\n",
       "      <th>MeasureName</th>\n",
       "      <th>Value_numeric</th>\n",
       "      <th>Value_ml</th>\n",
       "      <th>Value_gr</th>\n",
       "      <th>Garnish_amount</th>\n",
       "      <th>Garnish_type</th>\n",
       "      <th>MeasureName_copy</th>\n",
       "      <th>non_alc_ingredients</th>\n",
       "    </tr>\n",
       "  </thead>\n",
       "  <tbody>\n",
       "    <tr>\n",
       "      <th>0</th>\n",
       "      <td>'57 Chevy with a White License Plate</td>\n",
       "      <td>Cocktail</td>\n",
       "      <td>Highball glass</td>\n",
       "      <td>Creme De Cacao White</td>\n",
       "      <td>Creamy Liqueur</td>\n",
       "      <td>NaN</td>\n",
       "      <td>1. Fill a rocks glass with ice 2.add white cre...</td>\n",
       "      <td>1 oz white</td>\n",
       "      <td>1</td>\n",
       "      <td>oz</td>\n",
       "      <td>1.0</td>\n",
       "      <td>30.0</td>\n",
       "      <td>NaN</td>\n",
       "      <td>NaN</td>\n",
       "      <td>NaN</td>\n",
       "      <td>white</td>\n",
       "      <td>NaN</td>\n",
       "    </tr>\n",
       "    <tr>\n",
       "      <th>1</th>\n",
       "      <td>1-900-FUK-MEUP</td>\n",
       "      <td>Shot</td>\n",
       "      <td>Old-fashioned glass</td>\n",
       "      <td>Absolut Kurant</td>\n",
       "      <td>Vodka</td>\n",
       "      <td>NaN</td>\n",
       "      <td>Shake ingredients in a mixing tin filled with ...</td>\n",
       "      <td>1/2 oz</td>\n",
       "      <td>1/2</td>\n",
       "      <td>oz</td>\n",
       "      <td>0.5</td>\n",
       "      <td>15.0</td>\n",
       "      <td>NaN</td>\n",
       "      <td>NaN</td>\n",
       "      <td>NaN</td>\n",
       "      <td>oz</td>\n",
       "      <td>NaN</td>\n",
       "    </tr>\n",
       "    <tr>\n",
       "      <th>2</th>\n",
       "      <td>110 in the shade</td>\n",
       "      <td>Beer</td>\n",
       "      <td>Beer Glass</td>\n",
       "      <td>Lager</td>\n",
       "      <td>Beer</td>\n",
       "      <td>NaN</td>\n",
       "      <td>Drop shooter in glass. Fill with beer</td>\n",
       "      <td>16 oz</td>\n",
       "      <td>16</td>\n",
       "      <td>oz</td>\n",
       "      <td>16.0</td>\n",
       "      <td>480.0</td>\n",
       "      <td>NaN</td>\n",
       "      <td>NaN</td>\n",
       "      <td>NaN</td>\n",
       "      <td>oz</td>\n",
       "      <td>NaN</td>\n",
       "    </tr>\n",
       "    <tr>\n",
       "      <th>3</th>\n",
       "      <td>151 Florida Bushwacker</td>\n",
       "      <td>Milk / Float / Shake</td>\n",
       "      <td>Beer mug</td>\n",
       "      <td>Malibu Rum</td>\n",
       "      <td>Rum</td>\n",
       "      <td>NaN</td>\n",
       "      <td>Combine all ingredients. Blend until smooth. G...</td>\n",
       "      <td>1/2 oz</td>\n",
       "      <td>1/2</td>\n",
       "      <td>oz</td>\n",
       "      <td>0.5</td>\n",
       "      <td>15.0</td>\n",
       "      <td>NaN</td>\n",
       "      <td>NaN</td>\n",
       "      <td>NaN</td>\n",
       "      <td>oz</td>\n",
       "      <td>NaN</td>\n",
       "    </tr>\n",
       "    <tr>\n",
       "      <th>4</th>\n",
       "      <td>155 Belmont</td>\n",
       "      <td>Cocktail</td>\n",
       "      <td>White wine glass</td>\n",
       "      <td>Dark Rum</td>\n",
       "      <td>Rum</td>\n",
       "      <td>NaN</td>\n",
       "      <td>Blend with ice. Serve in a wine glass. Garnish...</td>\n",
       "      <td>1 shot</td>\n",
       "      <td>1</td>\n",
       "      <td>shot</td>\n",
       "      <td>1.0</td>\n",
       "      <td>25.0</td>\n",
       "      <td>NaN</td>\n",
       "      <td>NaN</td>\n",
       "      <td>NaN</td>\n",
       "      <td>shot</td>\n",
       "      <td>NaN</td>\n",
       "    </tr>\n",
       "  </tbody>\n",
       "</table>\n",
       "</div>"
      ],
      "text/plain": [
       "                               strDrink           strCategory  \\\n",
       "0  '57 Chevy with a White License Plate              Cocktail   \n",
       "1                        1-900-FUK-MEUP                  Shot   \n",
       "2                      110 in the shade                  Beer   \n",
       "3                151 Florida Bushwacker  Milk / Float / Shake   \n",
       "4                           155 Belmont              Cocktail   \n",
       "\n",
       "              strGlass        strIngredients        Alc_type Basic_taste  \\\n",
       "0       Highball glass  Creme De Cacao White  Creamy Liqueur         NaN   \n",
       "1  Old-fashioned glass        Absolut Kurant           Vodka         NaN   \n",
       "2           Beer Glass                 Lager            Beer         NaN   \n",
       "3             Beer mug            Malibu Rum             Rum         NaN   \n",
       "4     White wine glass              Dark Rum             Rum         NaN   \n",
       "\n",
       "                                     strInstructions strMeasures Value  \\\n",
       "0  1. Fill a rocks glass with ice 2.add white cre...  1 oz white     1   \n",
       "1  Shake ingredients in a mixing tin filled with ...      1/2 oz   1/2   \n",
       "2              Drop shooter in glass. Fill with beer       16 oz    16   \n",
       "3  Combine all ingredients. Blend until smooth. G...      1/2 oz   1/2   \n",
       "4  Blend with ice. Serve in a wine glass. Garnish...      1 shot     1   \n",
       "\n",
       "  MeasureName  Value_numeric  Value_ml  Value_gr Garnish_amount Garnish_type  \\\n",
       "0          oz            1.0      30.0       NaN            NaN          NaN   \n",
       "1          oz            0.5      15.0       NaN            NaN          NaN   \n",
       "2          oz           16.0     480.0       NaN            NaN          NaN   \n",
       "3          oz            0.5      15.0       NaN            NaN          NaN   \n",
       "4        shot            1.0      25.0       NaN            NaN          NaN   \n",
       "\n",
       "  MeasureName_copy non_alc_ingredients  \n",
       "0            white                 NaN  \n",
       "1               oz                 NaN  \n",
       "2               oz                 NaN  \n",
       "3               oz                 NaN  \n",
       "4             shot                 NaN  "
      ]
     },
     "execution_count": 44,
     "metadata": {},
     "output_type": "execute_result"
    }
   ],
   "source": [
    "df.head()"
   ]
  },
  {
   "cell_type": "code",
   "execution_count": 45,
   "metadata": {},
   "outputs": [
    {
     "data": {
      "text/plain": [
       "array(['Creamy Liqueur', 'Vodka', 'Beer', 'Rum', 'Schnapps', 'Whisky',\n",
       "       'Gin', 'Triple Sec', 'Sweet Liqueur', nan, 'Brandy', 'Vermouth',\n",
       "       'Bitter', 'Campari', 'Cider', 'Tequila', 'Champagne', 'Sambuca',\n",
       "       'Wine', 'Pisco', 'Cachaca', 'Absinthe', 'Port', 'Prosecco', 'Ouzo',\n",
       "       'Aperol'], dtype=object)"
      ]
     },
     "execution_count": 45,
     "metadata": {},
     "output_type": "execute_result"
    }
   ],
   "source": [
    "df['Alc_type'].unique()"
   ]
  },
  {
   "cell_type": "code",
   "execution_count": 46,
   "metadata": {
    "scrolled": true
   },
   "outputs": [
    {
     "name": "stdout",
     "output_type": "stream",
     "text": [
      "Creamy Liqueur\n",
      "['Creme De Cacao White' 'Kahlua' \"Bailey'S Irish Cream\" 'Irish Cream'\n",
      " 'Chocolate Liqueur' 'Baileys Irish Cream' 'Advocaat' 'Godiva Liqueur'\n",
      " 'Creme De Cacao' 'Dark Creme De Cacao' 'Tia Maria' 'Creme De Mure']\n",
      "****************************************************************************************************\n",
      "Vodka\n",
      "['Absolut Kurant' 'Peach Vodka' 'Vanilla Vodka' 'Absolut Citron' 'Vodka'\n",
      " 'Absolut Vodka' 'Lemon Vodka' 'Vodka Smirnoff' 'Everclear' 'Firewater'\n",
      " 'Cranberry Vodka' 'Raspberry Vodka' 'Vodka Smirnoff Red Label'\n",
      " 'Absolut Peppar' 'Grain Alcohol' 'Lime Vodka' 'Aquavit']\n",
      "****************************************************************************************************\n",
      "Beer\n",
      "['Lager' 'Ale' 'Guinness Stout' 'Corona' 'Beer' 'Zima' 'Ginger Ale']\n",
      "****************************************************************************************************\n",
      "Rum\n",
      "['Malibu Rum' 'Dark Rum' '151 Proof Rum' 'Coconut Rum' 'Light Rum' 'Rum'\n",
      " 'Añejo Rum' 'Bacardi Limon' 'Spiced Rum' '151 Proof Rum Light'\n",
      " 'Rub Light Or Dark' 'Light Rum Jamaican' 'White Rum' 'Rumple Minze'\n",
      " 'Dark Rum Jamaican' 'Rum Jamaican']\n",
      "****************************************************************************************************\n",
      "Schnapps\n",
      "['Goldschlager' 'Strawberry Schnapps' 'Peppermint Schnapps' 'Maui Blue'\n",
      " 'Hot Damn' 'Peachtree Schnapps' 'Blueberry Schnapps' 'Peach Schnapps'\n",
      " 'Apple Schnapps' 'Butterscotch Schnapps']\n",
      "****************************************************************************************************\n",
      "Whisky\n",
      "['Jack Daniels' 'Scotch' 'Southern Comfort' 'Blended Whiskey'\n",
      " 'Crown Royal' 'Bourbon' 'Whiskey' 'Whisky' 'Irish Whiskey' 'Jim Beam'\n",
      " 'Wild Turkey' 'Johnnie Walker' 'Rye Whiskey' 'Tennessee Whiskey'\n",
      " 'Drambuie' 'Bourbon Blended']\n",
      "****************************************************************************************************\n",
      "Gin\n",
      "['Gin' 'Gin Dry' 'Sloe Gin']\n",
      "****************************************************************************************************\n",
      "Triple Sec\n",
      "['Blue Curacao' 'Triple Sec' 'Cointreau' 'Grand Marnier' 'Orange Curacao'\n",
      " 'Curacao']\n",
      "****************************************************************************************************\n",
      "Sweet Liqueur\n",
      "['Amaretto' 'White Creme De Menthe' 'Midori Melon Liqueur'\n",
      " 'Banana Liqueur' 'Cherry Heering' 'Galliano' 'Green Creme De Menthe'\n",
      " 'Creme De Cassis' 'Kiwi Liqueur' 'Frangelico' 'Ricard' 'Yukon Jack'\n",
      " 'Chambord Raspberry Liqueur' 'Pisang Ambon' 'Creme De Banane'\n",
      " 'Coconut Liqueur' 'Maraschino Liqueur' 'Raspberry Liqueur' 'Benedictine'\n",
      " 'Green Chartreuse' 'Apfelkorn' 'Cherry Liqueur' 'Strawberry Liqueur'\n",
      " 'Yellow Chartreuse' 'Lillet Blanc' 'Melon Liqueur']\n",
      "****************************************************************************************************\n",
      "nan\n",
      "[]\n",
      "****************************************************************************************************\n",
      "Brandy\n",
      "['Applejack' 'Apricot Brandy' 'Brandy' 'Cognac' 'Apple Brandy'\n",
      " 'Blackberry Brandy' 'Cherry Brandy' 'Coffee Brandy' 'Kirschwasser'\n",
      " 'Sherry Dry' 'Peach Brandy' 'Brandy Plain']\n",
      "****************************************************************************************************\n",
      "Vermouth\n",
      "['Sweet Vermouth' 'Dry Vermouth' 'Vermouth' 'Sweet Vermouth Red']\n",
      "****************************************************************************************************\n",
      "Bitter\n",
      "['Orange Bitters' 'Jägermeister' 'Bitters' 'Peach Bitters' 'Bitter Lemon'\n",
      " 'Angostura Bitters' 'Peychaud Bitters']\n",
      "****************************************************************************************************\n",
      "Campari\n",
      "['Campari']\n",
      "****************************************************************************************************\n",
      "Cider\n",
      "['Apple Cider' 'Cider Hard' 'Cider']\n",
      "****************************************************************************************************\n",
      "Tequila\n",
      "['Tequila' 'Gold Tequila']\n",
      "****************************************************************************************************\n",
      "Champagne\n",
      "['Champagne']\n",
      "****************************************************************************************************\n",
      "Sambuca\n",
      "['Sambuca White' 'Sambuca' 'Black Sambuca']\n",
      "****************************************************************************************************\n",
      "Wine\n",
      "['Dubonnet Rouge' 'Red Wine' 'White Or Red Wine' 'Green Ginger Wine'\n",
      " \"Boone's Strawberry Hill Wine\" 'Wine Muscatel']\n",
      "****************************************************************************************************\n",
      "Pisco\n",
      "['Pisco']\n",
      "****************************************************************************************************\n",
      "Cachaca\n",
      "['Cachaca']\n",
      "****************************************************************************************************\n",
      "Absinthe\n",
      "['Absinthe']\n",
      "****************************************************************************************************\n",
      "Port\n",
      "['Port']\n",
      "****************************************************************************************************\n",
      "Prosecco\n",
      "['Prosecco']\n",
      "****************************************************************************************************\n",
      "Ouzo\n",
      "['Ouzo']\n",
      "****************************************************************************************************\n",
      "Aperol\n",
      "['Aperol']\n",
      "****************************************************************************************************\n"
     ]
    }
   ],
   "source": [
    "for i in df['Alc_type'].unique():\n",
    "    print(i)\n",
    "    print(df.loc[df['Alc_type'] == i]['strIngredients'].unique())\n",
    "    print('*'*100)"
   ]
  },
  {
   "cell_type": "code",
   "execution_count": 47,
   "metadata": {},
   "outputs": [
    {
     "ename": "IndexError",
     "evalue": "Cannot choose from an empty sequence",
     "output_type": "error",
     "traceback": [
      "\u001b[1;31m---------------------------------------------------------------------------\u001b[0m",
      "\u001b[1;31mIndexError\u001b[0m                                Traceback (most recent call last)",
      "\u001b[1;32m<ipython-input-47-002920760d36>\u001b[0m in \u001b[0;36m<module>\u001b[1;34m\u001b[0m\n\u001b[0;32m      1\u001b[0m \u001b[1;32mfor\u001b[0m \u001b[0mi\u001b[0m \u001b[1;32min\u001b[0m \u001b[0mnew_cocktail\u001b[0m\u001b[1;33m:\u001b[0m\u001b[1;33m\u001b[0m\u001b[1;33m\u001b[0m\u001b[0m\n\u001b[1;32m----> 2\u001b[1;33m     \u001b[0mrandom\u001b[0m\u001b[1;33m.\u001b[0m\u001b[0mchoice\u001b[0m\u001b[1;33m(\u001b[0m\u001b[0mdf\u001b[0m\u001b[1;33m.\u001b[0m\u001b[0mloc\u001b[0m\u001b[1;33m[\u001b[0m\u001b[0mdf\u001b[0m\u001b[1;33m[\u001b[0m\u001b[1;34m'Alc_type'\u001b[0m\u001b[1;33m]\u001b[0m \u001b[1;33m==\u001b[0m \u001b[0mi\u001b[0m\u001b[1;33m]\u001b[0m\u001b[1;33m[\u001b[0m\u001b[1;34m'strIngredients'\u001b[0m\u001b[1;33m]\u001b[0m\u001b[1;33m.\u001b[0m\u001b[0munique\u001b[0m\u001b[1;33m(\u001b[0m\u001b[1;33m)\u001b[0m\u001b[1;33m.\u001b[0m\u001b[0mtolist\u001b[0m\u001b[1;33m(\u001b[0m\u001b[1;33m)\u001b[0m\u001b[1;33m)\u001b[0m\u001b[1;33m\u001b[0m\u001b[1;33m\u001b[0m\u001b[0m\n\u001b[0m",
      "\u001b[1;32m~\\anaconda3\\lib\\random.py\u001b[0m in \u001b[0;36mchoice\u001b[1;34m(self, seq)\u001b[0m\n\u001b[0;32m    288\u001b[0m             \u001b[0mi\u001b[0m \u001b[1;33m=\u001b[0m \u001b[0mself\u001b[0m\u001b[1;33m.\u001b[0m\u001b[0m_randbelow\u001b[0m\u001b[1;33m(\u001b[0m\u001b[0mlen\u001b[0m\u001b[1;33m(\u001b[0m\u001b[0mseq\u001b[0m\u001b[1;33m)\u001b[0m\u001b[1;33m)\u001b[0m\u001b[1;33m\u001b[0m\u001b[1;33m\u001b[0m\u001b[0m\n\u001b[0;32m    289\u001b[0m         \u001b[1;32mexcept\u001b[0m \u001b[0mValueError\u001b[0m\u001b[1;33m:\u001b[0m\u001b[1;33m\u001b[0m\u001b[1;33m\u001b[0m\u001b[0m\n\u001b[1;32m--> 290\u001b[1;33m             \u001b[1;32mraise\u001b[0m \u001b[0mIndexError\u001b[0m\u001b[1;33m(\u001b[0m\u001b[1;34m'Cannot choose from an empty sequence'\u001b[0m\u001b[1;33m)\u001b[0m \u001b[1;32mfrom\u001b[0m \u001b[1;32mNone\u001b[0m\u001b[1;33m\u001b[0m\u001b[1;33m\u001b[0m\u001b[0m\n\u001b[0m\u001b[0;32m    291\u001b[0m         \u001b[1;32mreturn\u001b[0m \u001b[0mseq\u001b[0m\u001b[1;33m[\u001b[0m\u001b[0mi\u001b[0m\u001b[1;33m]\u001b[0m\u001b[1;33m\u001b[0m\u001b[1;33m\u001b[0m\u001b[0m\n\u001b[0;32m    292\u001b[0m \u001b[1;33m\u001b[0m\u001b[0m\n",
      "\u001b[1;31mIndexError\u001b[0m: Cannot choose from an empty sequence"
     ]
    }
   ],
   "source": [
    "for i in new_cocktail:\n",
    "    random.choice(df.loc[df['Alc_type'] == i]['strIngredients'].unique().tolist())"
   ]
  },
  {
   "cell_type": "code",
   "execution_count": null,
   "metadata": {},
   "outputs": [],
   "source": [
    "new_cocktail_final"
   ]
  },
  {
   "cell_type": "code",
   "execution_count": null,
   "metadata": {},
   "outputs": [],
   "source": [
    "df.loc[df['strIngredients'].str.contains('Tonic')]"
   ]
  },
  {
   "cell_type": "code",
   "execution_count": null,
   "metadata": {},
   "outputs": [],
   "source": []
  },
  {
   "cell_type": "code",
   "execution_count": null,
   "metadata": {},
   "outputs": [],
   "source": []
  },
  {
   "cell_type": "code",
   "execution_count": null,
   "metadata": {},
   "outputs": [],
   "source": []
  },
  {
   "cell_type": "code",
   "execution_count": null,
   "metadata": {},
   "outputs": [],
   "source": []
  },
  {
   "cell_type": "code",
   "execution_count": null,
   "metadata": {},
   "outputs": [],
   "source": [
    "# Try to set up lists of liqueurs and maybe other alcohol ingredients."
   ]
  }
 ],
 "metadata": {
  "kernelspec": {
   "display_name": "Python 3",
   "language": "python",
   "name": "python3"
  },
  "language_info": {
   "codemirror_mode": {
    "name": "ipython",
    "version": 3
   },
   "file_extension": ".py",
   "mimetype": "text/x-python",
   "name": "python",
   "nbconvert_exporter": "python",
   "pygments_lexer": "ipython3",
   "version": "3.8.3"
  }
 },
 "nbformat": 4,
 "nbformat_minor": 4
}
