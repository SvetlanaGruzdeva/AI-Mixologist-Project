{
 "cells": [
  {
   "cell_type": "code",
   "execution_count": 1,
   "metadata": {},
   "outputs": [],
   "source": [
    "import warnings\n",
    "import pandas as pd\n",
    "import numpy as np\n",
    "import nltk\n",
    "import collections\n",
    "import matplotlib.pyplot as plt\n",
    "import seaborn as sns\n",
    "import random\n",
    "# import os\n",
    "# import re\n",
    "# import math\n",
    "# from sqlalchemy import create_engine\n",
    "# import pymysql\n",
    "# import requests\n",
    "# from bs4 import BeautifulSoup\n",
    "# from sklearn.linear_model import LinearRegression\n",
    "# from statsmodels.tsa.ar_model import AR\n",
    "# from statsmodels.tools.eval_measures import rmse\n",
    "# from scipy import stats"
   ]
  },
  {
   "cell_type": "code",
   "execution_count": 2,
   "metadata": {},
   "outputs": [],
   "source": [
    "pd.set_option('display.max_columns', 100)\n",
    "warnings.filterwarnings('ignore')"
   ]
  },
  {
   "cell_type": "code",
   "execution_count": 3,
   "metadata": {},
   "outputs": [],
   "source": [
    "df = pd.read_csv('./clean_data/clean_data.csv')\n",
    "df.drop('Unnamed: 0', axis=1, inplace=True)"
   ]
  },
  {
   "cell_type": "markdown",
   "metadata": {},
   "source": [
    "### Step 1: transform dataset:\n",
    "- each cocktail = one row\n",
    "- all ingredients generalized and combined in one column"
   ]
  },
  {
   "cell_type": "code",
   "execution_count": 4,
   "metadata": {
    "scrolled": true
   },
   "outputs": [],
   "source": [
    "# Add on-alcoholic ingredients in a separate column\n",
    "\n",
    "df['non_alc_ingredients'] = np.where(~df['Basic_taste'].isnull(), df['strIngredients'], np.nan)"
   ]
  },
  {
   "cell_type": "code",
   "execution_count": 5,
   "metadata": {},
   "outputs": [],
   "source": [
    "# Reduce dataset to only the columns required for current step\n",
    "\n",
    "df_ingredients = df[['strDrink', 'Alc_type', 'non_alc_ingredients', 'Garnish_type']]"
   ]
  },
  {
   "cell_type": "code",
   "execution_count": 6,
   "metadata": {},
   "outputs": [],
   "source": [
    "# Drop rows with garnish, this part of the cocktail will be processed on the later stages\n",
    "\n",
    "df_ingredients.drop(df_ingredients.loc[~df_ingredients['Garnish_type'].isnull()].index, axis=0, inplace=True)"
   ]
  },
  {
   "cell_type": "code",
   "execution_count": 7,
   "metadata": {},
   "outputs": [],
   "source": [
    "# Replace nan values with empty string to align data type for every value\n",
    "\n",
    "df_ingredients.fillna('', inplace=True)"
   ]
  },
  {
   "cell_type": "code",
   "execution_count": 8,
   "metadata": {},
   "outputs": [],
   "source": [
    "# Replace ' ' with '_' to keep adjectives with nouns\n",
    "\n",
    "df_ingredients['Alc_type'] = df_ingredients['Alc_type'].apply(lambda x: x.replace(' ', '_'))\n",
    "df_ingredients['non_alc_ingredients'] = df_ingredients['non_alc_ingredients'].apply(lambda x: x.replace(' ', '_'))"
   ]
  },
  {
   "cell_type": "code",
   "execution_count": 9,
   "metadata": {
    "scrolled": true
   },
   "outputs": [
    {
     "data": {
      "text/html": [
       "<div>\n",
       "<style scoped>\n",
       "    .dataframe tbody tr th:only-of-type {\n",
       "        vertical-align: middle;\n",
       "    }\n",
       "\n",
       "    .dataframe tbody tr th {\n",
       "        vertical-align: top;\n",
       "    }\n",
       "\n",
       "    .dataframe thead th {\n",
       "        text-align: right;\n",
       "    }\n",
       "</style>\n",
       "<table border=\"1\" class=\"dataframe\">\n",
       "  <thead>\n",
       "    <tr style=\"text-align: right;\">\n",
       "      <th></th>\n",
       "      <th>strDrink</th>\n",
       "      <th>Alc_type_1</th>\n",
       "      <th>Garnish_type_1</th>\n",
       "      <th>non_alc_ingredients_1</th>\n",
       "      <th>Alc_type_2</th>\n",
       "      <th>Garnish_type_2</th>\n",
       "      <th>non_alc_ingredients_2</th>\n",
       "      <th>Alc_type_3</th>\n",
       "      <th>Garnish_type_3</th>\n",
       "      <th>non_alc_ingredients_3</th>\n",
       "      <th>Alc_type_4</th>\n",
       "      <th>Garnish_type_4</th>\n",
       "      <th>non_alc_ingredients_4</th>\n",
       "      <th>Alc_type_5</th>\n",
       "      <th>Garnish_type_5</th>\n",
       "      <th>non_alc_ingredients_5</th>\n",
       "      <th>Alc_type_6</th>\n",
       "      <th>Garnish_type_6</th>\n",
       "      <th>non_alc_ingredients_6</th>\n",
       "      <th>Alc_type_7</th>\n",
       "      <th>Garnish_type_7</th>\n",
       "      <th>non_alc_ingredients_7</th>\n",
       "      <th>Alc_type_8</th>\n",
       "      <th>Garnish_type_8</th>\n",
       "      <th>non_alc_ingredients_8</th>\n",
       "      <th>Alc_type_9</th>\n",
       "      <th>Garnish_type_9</th>\n",
       "      <th>non_alc_ingredients_9</th>\n",
       "      <th>Alc_type_10</th>\n",
       "      <th>Garnish_type_10</th>\n",
       "      <th>non_alc_ingredients_10</th>\n",
       "    </tr>\n",
       "  </thead>\n",
       "  <tbody>\n",
       "    <tr>\n",
       "      <th>0</th>\n",
       "      <td>'57 Chevy with a White License Plate</td>\n",
       "      <td>Creamy_Liqueur</td>\n",
       "      <td></td>\n",
       "      <td></td>\n",
       "      <td>Vodka</td>\n",
       "      <td></td>\n",
       "      <td></td>\n",
       "      <td>NaN</td>\n",
       "      <td>NaN</td>\n",
       "      <td>NaN</td>\n",
       "      <td>NaN</td>\n",
       "      <td>NaN</td>\n",
       "      <td>NaN</td>\n",
       "      <td>NaN</td>\n",
       "      <td>NaN</td>\n",
       "      <td>NaN</td>\n",
       "      <td>NaN</td>\n",
       "      <td>NaN</td>\n",
       "      <td>NaN</td>\n",
       "      <td>NaN</td>\n",
       "      <td>NaN</td>\n",
       "      <td>NaN</td>\n",
       "      <td>NaN</td>\n",
       "      <td>NaN</td>\n",
       "      <td>NaN</td>\n",
       "      <td>NaN</td>\n",
       "      <td>NaN</td>\n",
       "      <td>NaN</td>\n",
       "      <td>NaN</td>\n",
       "      <td>NaN</td>\n",
       "      <td>NaN</td>\n",
       "    </tr>\n",
       "    <tr>\n",
       "      <th>1</th>\n",
       "      <td>1-900-FUK-MEUP</td>\n",
       "      <td>Vodka</td>\n",
       "      <td></td>\n",
       "      <td></td>\n",
       "      <td>Triple_Sec</td>\n",
       "      <td></td>\n",
       "      <td></td>\n",
       "      <td>Sweet_Liqueur</td>\n",
       "      <td></td>\n",
       "      <td></td>\n",
       "      <td>Sweet_Liqueur</td>\n",
       "      <td></td>\n",
       "      <td></td>\n",
       "      <td>Rum</td>\n",
       "      <td></td>\n",
       "      <td></td>\n",
       "      <td>Sweet_Liqueur</td>\n",
       "      <td></td>\n",
       "      <td></td>\n",
       "      <td></td>\n",
       "      <td></td>\n",
       "      <td>Cranberry_Juice</td>\n",
       "      <td></td>\n",
       "      <td></td>\n",
       "      <td>Pineapple_Juice</td>\n",
       "      <td>NaN</td>\n",
       "      <td>NaN</td>\n",
       "      <td>NaN</td>\n",
       "      <td>NaN</td>\n",
       "      <td>NaN</td>\n",
       "      <td>NaN</td>\n",
       "    </tr>\n",
       "    <tr>\n",
       "      <th>2</th>\n",
       "      <td>110 in the shade</td>\n",
       "      <td>Beer</td>\n",
       "      <td></td>\n",
       "      <td></td>\n",
       "      <td>Tequila</td>\n",
       "      <td></td>\n",
       "      <td></td>\n",
       "      <td>NaN</td>\n",
       "      <td>NaN</td>\n",
       "      <td>NaN</td>\n",
       "      <td>NaN</td>\n",
       "      <td>NaN</td>\n",
       "      <td>NaN</td>\n",
       "      <td>NaN</td>\n",
       "      <td>NaN</td>\n",
       "      <td>NaN</td>\n",
       "      <td>NaN</td>\n",
       "      <td>NaN</td>\n",
       "      <td>NaN</td>\n",
       "      <td>NaN</td>\n",
       "      <td>NaN</td>\n",
       "      <td>NaN</td>\n",
       "      <td>NaN</td>\n",
       "      <td>NaN</td>\n",
       "      <td>NaN</td>\n",
       "      <td>NaN</td>\n",
       "      <td>NaN</td>\n",
       "      <td>NaN</td>\n",
       "      <td>NaN</td>\n",
       "      <td>NaN</td>\n",
       "      <td>NaN</td>\n",
       "    </tr>\n",
       "    <tr>\n",
       "      <th>3</th>\n",
       "      <td>151 Florida Bushwacker</td>\n",
       "      <td>Rum</td>\n",
       "      <td></td>\n",
       "      <td></td>\n",
       "      <td>Rum</td>\n",
       "      <td></td>\n",
       "      <td></td>\n",
       "      <td>Rum</td>\n",
       "      <td></td>\n",
       "      <td></td>\n",
       "      <td>Creamy_Liqueur</td>\n",
       "      <td></td>\n",
       "      <td></td>\n",
       "      <td>Triple_Sec</td>\n",
       "      <td></td>\n",
       "      <td></td>\n",
       "      <td></td>\n",
       "      <td></td>\n",
       "      <td>Milk</td>\n",
       "      <td>Sweet_Liqueur</td>\n",
       "      <td></td>\n",
       "      <td></td>\n",
       "      <td></td>\n",
       "      <td></td>\n",
       "      <td>Vanilla_Ice-Cream</td>\n",
       "      <td>NaN</td>\n",
       "      <td>NaN</td>\n",
       "      <td>NaN</td>\n",
       "      <td>NaN</td>\n",
       "      <td>NaN</td>\n",
       "      <td>NaN</td>\n",
       "    </tr>\n",
       "    <tr>\n",
       "      <th>4</th>\n",
       "      <td>155 Belmont</td>\n",
       "      <td>Rum</td>\n",
       "      <td></td>\n",
       "      <td></td>\n",
       "      <td>Rum</td>\n",
       "      <td></td>\n",
       "      <td></td>\n",
       "      <td>Vodka</td>\n",
       "      <td></td>\n",
       "      <td></td>\n",
       "      <td></td>\n",
       "      <td></td>\n",
       "      <td>Orange_Juice</td>\n",
       "      <td>NaN</td>\n",
       "      <td>NaN</td>\n",
       "      <td>NaN</td>\n",
       "      <td>NaN</td>\n",
       "      <td>NaN</td>\n",
       "      <td>NaN</td>\n",
       "      <td>NaN</td>\n",
       "      <td>NaN</td>\n",
       "      <td>NaN</td>\n",
       "      <td>NaN</td>\n",
       "      <td>NaN</td>\n",
       "      <td>NaN</td>\n",
       "      <td>NaN</td>\n",
       "      <td>NaN</td>\n",
       "      <td>NaN</td>\n",
       "      <td>NaN</td>\n",
       "      <td>NaN</td>\n",
       "      <td>NaN</td>\n",
       "    </tr>\n",
       "  </tbody>\n",
       "</table>\n",
       "</div>"
      ],
      "text/plain": [
       "                               strDrink      Alc_type_1 Garnish_type_1  \\\n",
       "0  '57 Chevy with a White License Plate  Creamy_Liqueur                  \n",
       "1                        1-900-FUK-MEUP           Vodka                  \n",
       "2                      110 in the shade            Beer                  \n",
       "3                151 Florida Bushwacker             Rum                  \n",
       "4                           155 Belmont             Rum                  \n",
       "\n",
       "  non_alc_ingredients_1  Alc_type_2 Garnish_type_2 non_alc_ingredients_2  \\\n",
       "0                             Vodka                                        \n",
       "1                        Triple_Sec                                        \n",
       "2                           Tequila                                        \n",
       "3                               Rum                                        \n",
       "4                               Rum                                        \n",
       "\n",
       "      Alc_type_3 Garnish_type_3 non_alc_ingredients_3      Alc_type_4  \\\n",
       "0            NaN            NaN                   NaN             NaN   \n",
       "1  Sweet_Liqueur                                        Sweet_Liqueur   \n",
       "2            NaN            NaN                   NaN             NaN   \n",
       "3            Rum                                       Creamy_Liqueur   \n",
       "4          Vodka                                                        \n",
       "\n",
       "  Garnish_type_4 non_alc_ingredients_4  Alc_type_5 Garnish_type_5  \\\n",
       "0            NaN                   NaN         NaN            NaN   \n",
       "1                                              Rum                  \n",
       "2            NaN                   NaN         NaN            NaN   \n",
       "3                                       Triple_Sec                  \n",
       "4                         Orange_Juice         NaN            NaN   \n",
       "\n",
       "  non_alc_ingredients_5     Alc_type_6 Garnish_type_6 non_alc_ingredients_6  \\\n",
       "0                   NaN            NaN            NaN                   NaN   \n",
       "1                        Sweet_Liqueur                                        \n",
       "2                   NaN            NaN            NaN                   NaN   \n",
       "3                                                                      Milk   \n",
       "4                   NaN            NaN            NaN                   NaN   \n",
       "\n",
       "      Alc_type_7 Garnish_type_7 non_alc_ingredients_7 Alc_type_8  \\\n",
       "0            NaN            NaN                   NaN        NaN   \n",
       "1                                     Cranberry_Juice              \n",
       "2            NaN            NaN                   NaN        NaN   \n",
       "3  Sweet_Liqueur                                                   \n",
       "4            NaN            NaN                   NaN        NaN   \n",
       "\n",
       "  Garnish_type_8 non_alc_ingredients_8 Alc_type_9 Garnish_type_9  \\\n",
       "0            NaN                   NaN        NaN            NaN   \n",
       "1                      Pineapple_Juice        NaN            NaN   \n",
       "2            NaN                   NaN        NaN            NaN   \n",
       "3                    Vanilla_Ice-Cream        NaN            NaN   \n",
       "4            NaN                   NaN        NaN            NaN   \n",
       "\n",
       "  non_alc_ingredients_9 Alc_type_10 Garnish_type_10 non_alc_ingredients_10  \n",
       "0                   NaN         NaN             NaN                    NaN  \n",
       "1                   NaN         NaN             NaN                    NaN  \n",
       "2                   NaN         NaN             NaN                    NaN  \n",
       "3                   NaN         NaN             NaN                    NaN  \n",
       "4                   NaN         NaN             NaN                    NaN  "
      ]
     },
     "execution_count": 9,
     "metadata": {},
     "output_type": "execute_result"
    }
   ],
   "source": [
    "# Reallocate ingredients as columns so each column takes only one row\n",
    "\n",
    "df_ingredients = df_ingredients[df_ingredients['Alc_type'] != 'Alc_type']\n",
    "s =  df_ingredients.groupby('strDrink').cumcount().add(1)\n",
    "df_ingredients = (df_ingredients.set_index(['strDrink',s])\n",
    "        .unstack()\n",
    "        .sort_index(axis=1, level=1)\n",
    "       )\n",
    "df_ingredients.columns = ['{}_{}'.format(a, b) for a,b in df_ingredients.columns]\n",
    "\n",
    "df_ingredients = df_ingredients.reset_index()\n",
    "df_ingredients.head()"
   ]
  },
  {
   "cell_type": "code",
   "execution_count": 10,
   "metadata": {},
   "outputs": [],
   "source": [
    "df_ingredients['Ingredients'] = df_ingredients.drop(['strDrink'], axis=1).fillna('').apply(lambda x:\n",
    "                                                                          ' '.join(x), axis=1).apply(lambda x: x.lower())\n",
    "df_ingredients = df_ingredients[['strDrink', 'Ingredients']]"
   ]
  },
  {
   "cell_type": "code",
   "execution_count": 11,
   "metadata": {},
   "outputs": [
    {
     "data": {
      "text/html": [
       "<div>\n",
       "<style scoped>\n",
       "    .dataframe tbody tr th:only-of-type {\n",
       "        vertical-align: middle;\n",
       "    }\n",
       "\n",
       "    .dataframe tbody tr th {\n",
       "        vertical-align: top;\n",
       "    }\n",
       "\n",
       "    .dataframe thead th {\n",
       "        text-align: right;\n",
       "    }\n",
       "</style>\n",
       "<table border=\"1\" class=\"dataframe\">\n",
       "  <thead>\n",
       "    <tr style=\"text-align: right;\">\n",
       "      <th></th>\n",
       "      <th>strDrink</th>\n",
       "      <th>Ingredients</th>\n",
       "    </tr>\n",
       "  </thead>\n",
       "  <tbody>\n",
       "    <tr>\n",
       "      <th>0</th>\n",
       "      <td>'57 Chevy with a White License Plate</td>\n",
       "      <td>creamy_liqueur   vodka</td>\n",
       "    </tr>\n",
       "    <tr>\n",
       "      <th>1</th>\n",
       "      <td>1-900-FUK-MEUP</td>\n",
       "      <td>vodka   triple_sec   sweet_liqueur   sweet_liq...</td>\n",
       "    </tr>\n",
       "    <tr>\n",
       "      <th>2</th>\n",
       "      <td>110 in the shade</td>\n",
       "      <td>beer   tequila</td>\n",
       "    </tr>\n",
       "    <tr>\n",
       "      <th>3</th>\n",
       "      <td>151 Florida Bushwacker</td>\n",
       "      <td>rum   rum   rum   creamy_liqueur   triple_sec ...</td>\n",
       "    </tr>\n",
       "    <tr>\n",
       "      <th>4</th>\n",
       "      <td>155 Belmont</td>\n",
       "      <td>rum   rum   vodka     orange_juice            ...</td>\n",
       "    </tr>\n",
       "  </tbody>\n",
       "</table>\n",
       "</div>"
      ],
      "text/plain": [
       "                               strDrink  \\\n",
       "0  '57 Chevy with a White License Plate   \n",
       "1                        1-900-FUK-MEUP   \n",
       "2                      110 in the shade   \n",
       "3                151 Florida Bushwacker   \n",
       "4                           155 Belmont   \n",
       "\n",
       "                                         Ingredients  \n",
       "0   creamy_liqueur   vodka                            \n",
       "1  vodka   triple_sec   sweet_liqueur   sweet_liq...  \n",
       "2           beer   tequila                            \n",
       "3  rum   rum   rum   creamy_liqueur   triple_sec ...  \n",
       "4  rum   rum   vodka     orange_juice            ...  "
      ]
     },
     "execution_count": 11,
     "metadata": {},
     "output_type": "execute_result"
    }
   ],
   "source": [
    "df_ingredients.head()"
   ]
  },
  {
   "cell_type": "markdown",
   "metadata": {},
   "source": [
    "### Step 2:\n",
    "- split ingerients by pairs\n",
    "- compute most common pairs (N - to be defined depending on results)"
   ]
  },
  {
   "cell_type": "code",
   "execution_count": 12,
   "metadata": {},
   "outputs": [
    {
     "name": "stdout",
     "output_type": "stream",
     "text": [
      "1187\n"
     ]
    },
    {
     "data": {
      "text/plain": [
       "[('creamy_liqueur', 'vodka'),\n",
       " ('vodka', 'triple_sec'),\n",
       " ('triple_sec', 'sweet_liqueur'),\n",
       " ('sweet_liqueur', 'sweet_liqueur'),\n",
       " ('sweet_liqueur', 'rum'),\n",
       " ('rum', 'sweet_liqueur'),\n",
       " ('sweet_liqueur', 'cranberry_juice'),\n",
       " ('cranberry_juice', 'pineapple_juice'),\n",
       " ('beer', 'tequila'),\n",
       " ('rum', 'rum')]"
      ]
     },
     "execution_count": 12,
     "metadata": {},
     "output_type": "execute_result"
    }
   ],
   "source": [
    "# Generate pairs from ingredients of each cocktail and combine them in one list\n",
    "\n",
    "bigram = [list(nltk.bigrams(nltk.word_tokenize(i))) for i in df_ingredients['Ingredients']]\n",
    "pairs_list = [j for i in bigram for j in i]\n",
    "print(len(pairs_list))\n",
    "pairs_list[:10]"
   ]
  },
  {
   "cell_type": "markdown",
   "metadata": {},
   "source": [
    "There are some tuples where elements are swopped but essential taste of such combination is not unique. Such tuples need to be alighned."
   ]
  },
  {
   "cell_type": "code",
   "execution_count": 13,
   "metadata": {
    "scrolled": true
   },
   "outputs": [],
   "source": [
    "# First, define a list of tuples to be amended\n",
    "\n",
    "to_aligh = []\n",
    "for a in pairs_list:\n",
    "    for b in pairs_list:\n",
    "        if a != b:\n",
    "            if b[1] == a[0]:\n",
    "                if b[0] == a[1]:            # If both elements of tuple are equal to the swopped tuple under the check\n",
    "                    if a not in to_aligh and b not in to_aligh:\n",
    "                        to_aligh.append(b)"
   ]
  },
  {
   "cell_type": "code",
   "execution_count": 14,
   "metadata": {},
   "outputs": [],
   "source": [
    "# Second, amend them\n",
    "\n",
    "pairs_list_aligned = []\n",
    "for i in pairs_list:\n",
    "    if i in to_aligh:\n",
    "        pairs_list_aligned.append((i[1], i[0]))\n",
    "    else:\n",
    "        pairs_list_aligned.append(i)"
   ]
  },
  {
   "cell_type": "code",
   "execution_count": 15,
   "metadata": {
    "scrolled": true
   },
   "outputs": [
    {
     "data": {
      "text/plain": [
       "True"
      ]
     },
     "execution_count": 15,
     "metadata": {},
     "output_type": "execute_result"
    }
   ],
   "source": [
    "# Check that total number of tuples hasn't changed, only content should be amended\n",
    "\n",
    "len(pairs_list_aligned) == len(pairs_list)"
   ]
  },
  {
   "cell_type": "code",
   "execution_count": 16,
   "metadata": {
    "scrolled": true
   },
   "outputs": [
    {
     "data": {
      "image/png": "[encoded data removed]",
      "text/plain": [
       "<Figure size 720x576 with 1 Axes>"
      ]
     },
     "metadata": {
      "needs_background": "light"
     },
     "output_type": "display_data"
    }
   ],
   "source": [
    "# Plot the most common pairs\n",
    "\n",
    "pairs_list_flat = [(i[0]+', '+i[1]) for i in pairs_list_aligned]\n",
    "pairs = pd.DataFrame(pairs_list_flat, columns=['pairs'])\n",
    "plt.figure(figsize = (10,8))\n",
    "ax = pairs['pairs'].value_counts().nlargest(20).plot.barh()\n",
    "plt.show()"
   ]
  },
  {
   "cell_type": "code",
   "execution_count": 17,
   "metadata": {
    "scrolled": true
   },
   "outputs": [
    {
     "data": {
      "image/png": "[encoded data removed]",
      "text/plain": [
       "<Figure size 720x576 with 1 Axes>"
      ]
     },
     "metadata": {
      "needs_background": "light"
     },
     "output_type": "display_data"
    }
   ],
   "source": [
    "# Plot the least common pairs\n",
    "\n",
    "plt.figure(figsize = (10,8))\n",
    "ax = pairs['pairs'].value_counts().nsmallest(20).plot.barh()\n",
    "plt.show()"
   ]
  },
  {
   "cell_type": "code",
   "execution_count": 18,
   "metadata": {
    "scrolled": true
   },
   "outputs": [
    {
     "name": "stdout",
     "output_type": "stream",
     "text": [
      "577\n"
     ]
    },
    {
     "data": {
      "text/plain": [
       "[(('sweet_liqueur', 'vodka'), 23),\n",
       " (('gin', 'vermouth'), 20),\n",
       " (('creamy_liqueur', 'sweet_liqueur'), 17),\n",
       " (('vodka', 'triple_sec'), 14),\n",
       " (('gin', 'triple_sec'), 13),\n",
       " (('lemon', 'powdered_sugar'), 13),\n",
       " (('creamy_liqueur', 'creamy_liqueur'), 12),\n",
       " (('triple_sec', 'sweet_liqueur'), 11),\n",
       " (('rum', 'vodka'), 11),\n",
       " (('triple_sec', 'lemon_juice'), 11),\n",
       " (('whisky', 'sweet_liqueur'), 11),\n",
       " (('sweet_liqueur', 'orange_juice'), 10),\n",
       " (('gin', 'brandy'), 10),\n",
       " (('whisky', 'vermouth'), 10),\n",
       " (('brandy', 'triple_sec'), 10),\n",
       " (('orange', 'maraschino_cherry'), 10),\n",
       " (('brandy', 'sweet_liqueur'), 9),\n",
       " (('sweet_liqueur', 'gin'), 9),\n",
       " (('rum', 'brandy'), 9),\n",
       " (('sweet_liqueur', 'sweet_liqueur'), 8),\n",
       " (('sweet_liqueur', 'rum'), 8),\n",
       " (('creamy_liqueur', 'vodka'), 7),\n",
       " (('rum', 'rum'), 7),\n",
       " (('orange_juice', 'grenadine'), 7),\n",
       " (('gin', 'bitter'), 7),\n",
       " (('sweet_liqueur', 'bitter'), 7),\n",
       " (('triple_sec', 'lime_juice'), 7),\n",
       " (('gin', 'lemon_juice'), 7),\n",
       " (('rum', 'beer'), 7),\n",
       " (('whisky', 'lemon'), 7),\n",
       " (('lemon_juice', 'sugar_superfine'), 7),\n",
       " (('sweet_liqueur', 'cranberry_juice'), 6),\n",
       " (('rum', 'creamy_liqueur'), 6),\n",
       " (('rum', 'whisky'), 6),\n",
       " (('whisky', 'whisky'), 6),\n",
       " (('tequila', 'triple_sec'), 6),\n",
       " (('lemon_juice', 'grenadine'), 6),\n",
       " (('rum', 'triple_sec'), 6),\n",
       " (('gin', 'grenadine'), 6),\n",
       " (('vermouth', 'bitter'), 6),\n",
       " (('creamy_liqueur', 'light_cream'), 6),\n",
       " (('creamy_liqueur', 'sambuca'), 6),\n",
       " (('creamy_liqueur', 'triple_sec'), 5),\n",
       " (('vodka', 'orange_juice'), 5),\n",
       " (('schnapps', 'vodka'), 5),\n",
       " (('sweet_liqueur', 'sour_mix'), 5),\n",
       " (('vodka', 'gin'), 5),\n",
       " (('water', 'sugar'), 5),\n",
       " (('sweet_liqueur', 'pineapple_juice'), 5),\n",
       " (('creamy_liqueur', 'milk'), 5),\n",
       " (('brandy', 'orange_juice'), 5),\n",
       " (('rum', 'tequila'), 4),\n",
       " (('schnapps', 'orange_juice'), 4),\n",
       " (('orange_juice', 'cranberry_juice'), 4),\n",
       " (('orange_juice', 'lemon_juice'), 4),\n",
       " (('vodka', 'lime_juice'), 4),\n",
       " (('lime_juice', 'sugar'), 4),\n",
       " (('rum', 'lemon_juice'), 4),\n",
       " (('vodka', 'tequila'), 4),\n",
       " (('vermouth', 'brandy'), 4),\n",
       " (('schnapps', 'creamy_liqueur'), 4),\n",
       " (('sweet_liqueur', 'sweet_and_sour'), 4),\n",
       " (('orange_juice', 'pineapple_juice'), 4),\n",
       " (('whisky', 'creamy_liqueur'), 4),\n",
       " (('lemon_juice', 'sweet_liqueur'), 4),\n",
       " (('sugar_superfine', 'club_soda'), 4),\n",
       " (('rum', 'lime'), 4),\n",
       " (('sweet_liqueur', 'beer'), 4),\n",
       " (('carbonated_water', 'powdered_sugar'), 4),\n",
       " (('powdered_sugar', 'egg'), 4),\n",
       " (('cranberry_juice', 'pineapple_juice'), 3),\n",
       " (('milk', 'sweet_liqueur'), 3),\n",
       " (('schnapps', 'bitter'), 3),\n",
       " (('gin', 'rum'), 3),\n",
       " (('rum', 'orange_juice'), 3),\n",
       " (('vodka', 'brandy'), 3),\n",
       " (('creamy_liqueur', 'brandy'), 3),\n",
       " (('schnapps', 'sweet_liqueur'), 3),\n",
       " (('vodka', 'cranberry_juice'), 3),\n",
       " (('orange_juice', 'triple_sec'), 3),\n",
       " (('vodka', 'lemonade'), 3),\n",
       " (('vermouth', 'vermouth'), 3),\n",
       " (('triple_sec', 'lime'), 3),\n",
       " (('brandy', 'lemon_juice'), 3),\n",
       " (('gin', 'creamy_liqueur'), 3),\n",
       " (('triple_sec', 'pineapple_juice'), 3),\n",
       " (('whisky', 'brandy'), 3),\n",
       " (('tequila', 'orange_juice'), 3),\n",
       " (('gin', 'wine'), 3),\n",
       " (('champagne', 'sweet_liqueur'), 3),\n",
       " (('whisky', 'wine'), 3),\n",
       " (('rum', 'lime_juice'), 3),\n",
       " (('lime_juice', 'sugar_syrup'), 3),\n",
       " (('powdered_sugar', 'egg_white'), 3),\n",
       " (('lemon_juice', 'whisky'), 3),\n",
       " (('sugar_superfine', 'orange'), 3),\n",
       " (('vodka', 'vodka'), 3),\n",
       " (('lemon', 'brandy'), 3),\n",
       " (('sugar', 'lime'), 3),\n",
       " (('lime', 'powdered_sugar'), 3),\n",
       " (('powdered_sugar', 'grenadine'), 3),\n",
       " (('gin', 'tequila'), 3),\n",
       " (('egg_white', 'carbonated_water'), 3),\n",
       " (('bitter', 'water'), 3),\n",
       " (('grenadine', 'lemon'), 3),\n",
       " (('coffee', 'vodka'), 3),\n",
       " (('beer', 'cider'), 3),\n",
       " (('milk', 'rum'), 3),\n",
       " (('mint', 'sugar'), 3),\n",
       " (('gin', 'carbonated_water'), 3),\n",
       " (('gin', 'lemon'), 3),\n",
       " (('powdered_sugar', 'water'), 3),\n",
       " (('rum', 'pineapple_juice'), 3),\n",
       " (('light_cream', 'powdered_sugar'), 3),\n",
       " (('sweet_liqueur', 'grenadine'), 3),\n",
       " (('sugar', 'wine'), 3),\n",
       " (('triple_sec', 'milk'), 2),\n",
       " (('vodka', 'coca-cola'), 2),\n",
       " (('triple_sec', 'schnapps'), 2),\n",
       " (('rum', 'ginger_beer'), 2),\n",
       " (('soda_water', 'sweet_liqueur'), 2),\n",
       " (('sweet_liqueur', 'lemon'), 2),\n",
       " (('gin', 'tonic_water'), 2),\n",
       " (('orange_juice', 'bitter'), 2),\n",
       " (('sugar', 'egg_white'), 2),\n",
       " (('lemonade', 'water'), 2),\n",
       " (('vodka', 'grenadine'), 2),\n",
       " (('rum', 'vermouth'), 2),\n",
       " (('brandy', 'bitter'), 2),\n",
       " (('creamy_liqueur', 'coffee'), 2),\n",
       " (('sweet_liqueur', 'light_cream'), 2),\n",
       " (('sweet_liqueur', 'lime'), 2),\n",
       " (('sweet_liqueur', 'lime_juice'), 2),\n",
       " (('sour_mix', 'orange_juice'), 2),\n",
       " (('sweet_liqueur', 'tequila'), 2),\n",
       " (('campari', 'vermouth'), 2),\n",
       " (('sweet_and_sour', 'club_soda'), 2),\n",
       " (('triple_sec', 'triple_sec'), 2),\n",
       " (('sambuca', 'triple_sec'), 2),\n",
       " (('milk', 'vanilla_ice-cream'), 2),\n",
       " (('creamy_liqueur', 'vanilla_ice-cream'), 2),\n",
       " (('vermouth', 'carbonated_water'), 2),\n",
       " (('carbonated_water', 'lemon_peel'), 2),\n",
       " (('wine', 'orange_juice'), 2)]"
      ]
     },
     "execution_count": 18,
     "metadata": {},
     "output_type": "execute_result"
    }
   ],
   "source": [
    "# Define 25% of the most common pairs as a separate list\n",
    "\n",
    "counter=collections.Counter(pairs_list_aligned)\n",
    "print(len(counter))\n",
    "common_pairs = counter.most_common(int(len(counter)*0.25))\n",
    "common_pairs"
   ]
  },
  {
   "cell_type": "code",
   "execution_count": 19,
   "metadata": {
    "scrolled": true
   },
   "outputs": [
    {
     "data": {
      "text/plain": [
       "['pineapple_juice',\n",
       " 'club_soda',\n",
       " 'sambuca',\n",
       " 'lime',\n",
       " 'lemonade',\n",
       " 'sugar',\n",
       " 'egg_white',\n",
       " 'bitter',\n",
       " 'cider',\n",
       " 'sour_mix',\n",
       " 'coffee',\n",
       " 'ginger_beer',\n",
       " 'grenadine',\n",
       " 'water',\n",
       " 'beer',\n",
       " 'sweet_and_sour',\n",
       " 'sweet_liqueur',\n",
       " 'lemon',\n",
       " 'campari',\n",
       " 'rum',\n",
       " 'orange_juice',\n",
       " 'soda_water',\n",
       " 'mint',\n",
       " 'tequila',\n",
       " 'tonic_water',\n",
       " 'lime_juice',\n",
       " 'powdered_sugar',\n",
       " 'wine',\n",
       " 'schnapps',\n",
       " 'milk',\n",
       " 'egg',\n",
       " 'brandy',\n",
       " 'gin',\n",
       " 'maraschino_cherry',\n",
       " 'coca-cola',\n",
       " 'triple_sec',\n",
       " 'orange',\n",
       " 'champagne',\n",
       " 'cranberry_juice',\n",
       " 'vermouth',\n",
       " 'lemon_juice',\n",
       " 'sugar_superfine',\n",
       " 'light_cream',\n",
       " 'vanilla_ice-cream',\n",
       " 'carbonated_water',\n",
       " 'sugar_syrup',\n",
       " 'vodka',\n",
       " 'lemon_peel',\n",
       " 'creamy_liqueur',\n",
       " 'whisky']"
      ]
     },
     "execution_count": 19,
     "metadata": {},
     "output_type": "execute_result"
    }
   ],
   "source": [
    "common_ingredients = []\n",
    "\n",
    "for n in common_pairs:\n",
    "    common_ingredients.append(n[0][0])\n",
    "    common_ingredients.append(n[0][1])\n",
    "common_ingredients = list(set(common_ingredients))\n",
    "common_ingredients"
   ]
  },
  {
   "cell_type": "markdown",
   "metadata": {},
   "source": [
    "### Step 3: generate a frame for new combinations:\n",
    "- define total number of ingerients (random choice from a range 3-6))\n",
    "- from ingredients included in top pairs pick one randomly\n",
    "- find suitable pair for this ingredient (from all pairs, but give top pairs bigger weight)\n",
    "- do the same for the next ingredient but check that it's not included already\n",
    "- etc until limit is reached"
   ]
  },
  {
   "cell_type": "code",
   "execution_count": 20,
   "metadata": {},
   "outputs": [],
   "source": [
    "# Define total number of ingredients for a new cocktail\n",
    "\n",
    "n_ingr = random.randint(3,7)"
   ]
  },
  {
   "cell_type": "code",
   "execution_count": 21,
   "metadata": {},
   "outputs": [],
   "source": [
    "new_cocktail = []"
   ]
  },
  {
   "cell_type": "code",
   "execution_count": 22,
   "metadata": {},
   "outputs": [
    {
     "data": {
      "text/plain": [
       "'lime'"
      ]
     },
     "execution_count": 22,
     "metadata": {},
     "output_type": "execute_result"
    }
   ],
   "source": [
    "# Pick the first ingredient randomly from the top popular\n",
    "\n",
    "first_ingr = random.choice(common_ingredients)\n",
    "new_cocktail.append(first_ingr)\n",
    "first_ingr"
   ]
  },
  {
   "cell_type": "code",
   "execution_count": 23,
   "metadata": {},
   "outputs": [
    {
     "data": {
      "text/plain": [
       "\"\\nAdd weight to the most common combinations so they will come up more often but there'll still be a chance that less common\\ningredient will be chosen.\\n\""
      ]
     },
     "execution_count": 23,
     "metadata": {},
     "output_type": "execute_result"
    }
   ],
   "source": [
    "'''\n",
    "Add weight to the most common combinations so they will come up more often but there'll still be a chance that less common\n",
    "ingredient will be chosen.\n",
    "'''"
   ]
  },
  {
   "cell_type": "code",
   "execution_count": 24,
   "metadata": {},
   "outputs": [],
   "source": [
    "# Identify remaning ingredients\n",
    "\n",
    "counter = 1          # Not zero because the first ingredient is defined separatelly above\n",
    "while counter < n_ingr:\n",
    "    temp_list = []\n",
    "    for i in set(pairs_list_aligned):\n",
    "        if new_cocktail[-1] in i:\n",
    "            temp_list.append(i)\n",
    "    random_pair = random.choice(temp_list)\n",
    "    if random_pair[0] == new_cocktail[-1]:\n",
    "        next_ingr = random_pair[1]\n",
    "    else:\n",
    "        next_ingr = random_pair[0]\n",
    "    new_cocktail.append(next_ingr)\n",
    "    counter += 1"
   ]
  },
  {
   "cell_type": "code",
   "execution_count": 25,
   "metadata": {},
   "outputs": [
    {
     "data": {
      "text/plain": [
       "['lime', 'rum', 'grenadine', 'lemon-lime_soda', 'rum', 'maple_syrup', 'rum']"
      ]
     },
     "execution_count": 25,
     "metadata": {},
     "output_type": "execute_result"
    }
   ],
   "source": [
    "new_cocktail"
   ]
  },
  {
   "cell_type": "markdown",
   "metadata": {},
   "source": [
    "### How to implement measures?\n",
    "(for this step it's better to exclude punches or rescale them somehow)"
   ]
  },
  {
   "cell_type": "code",
   "execution_count": 26,
   "metadata": {},
   "outputs": [],
   "source": [
    "# Create new dataframe with relevant columns only\n",
    "\n",
    "df_measures = df[['strDrink', 'strCategory', 'Alc_type', 'non_alc_ingredients', 'Value_ml', 'Value_gr']]"
   ]
  },
  {
   "cell_type": "code",
   "execution_count": 27,
   "metadata": {},
   "outputs": [],
   "source": [
    "# Remove cocktails given in big volumes to align scale\n",
    "\n",
    "df_measures.drop(df_measures.loc[df_measures['strCategory'].str.contains('Punch')].index, axis=0, inplace=True)"
   ]
  },
  {
   "cell_type": "code",
   "execution_count": 28,
   "metadata": {},
   "outputs": [
    {
     "data": {
      "text/html": [
       "<div>\n",
       "<style scoped>\n",
       "    .dataframe tbody tr th:only-of-type {\n",
       "        vertical-align: middle;\n",
       "    }\n",
       "\n",
       "    .dataframe tbody tr th {\n",
       "        vertical-align: top;\n",
       "    }\n",
       "\n",
       "    .dataframe thead th {\n",
       "        text-align: right;\n",
       "    }\n",
       "</style>\n",
       "<table border=\"1\" class=\"dataframe\">\n",
       "  <thead>\n",
       "    <tr style=\"text-align: right;\">\n",
       "      <th></th>\n",
       "      <th>strDrink</th>\n",
       "      <th>strCategory</th>\n",
       "      <th>Alc_type</th>\n",
       "      <th>non_alc_ingredients</th>\n",
       "      <th>Value_ml</th>\n",
       "      <th>Value_gr</th>\n",
       "      <th>Measure</th>\n",
       "      <th>Value</th>\n",
       "      <th>Ingredients</th>\n",
       "    </tr>\n",
       "  </thead>\n",
       "  <tbody>\n",
       "    <tr>\n",
       "      <th>0</th>\n",
       "      <td>'57 Chevy with a White License Plate</td>\n",
       "      <td>Cocktail</td>\n",
       "      <td>Creamy Liqueur</td>\n",
       "      <td>NaN</td>\n",
       "      <td>30.0</td>\n",
       "      <td>NaN</td>\n",
       "      <td>ml</td>\n",
       "      <td>30.0</td>\n",
       "      <td>creamy_liqueur</td>\n",
       "    </tr>\n",
       "    <tr>\n",
       "      <th>1</th>\n",
       "      <td>1-900-FUK-MEUP</td>\n",
       "      <td>Shot</td>\n",
       "      <td>Vodka</td>\n",
       "      <td>NaN</td>\n",
       "      <td>15.0</td>\n",
       "      <td>NaN</td>\n",
       "      <td>ml</td>\n",
       "      <td>15.0</td>\n",
       "      <td>vodka</td>\n",
       "    </tr>\n",
       "    <tr>\n",
       "      <th>2</th>\n",
       "      <td>110 in the shade</td>\n",
       "      <td>Beer</td>\n",
       "      <td>Beer</td>\n",
       "      <td>NaN</td>\n",
       "      <td>480.0</td>\n",
       "      <td>NaN</td>\n",
       "      <td>ml</td>\n",
       "      <td>480.0</td>\n",
       "      <td>beer</td>\n",
       "    </tr>\n",
       "    <tr>\n",
       "      <th>3</th>\n",
       "      <td>151 Florida Bushwacker</td>\n",
       "      <td>Milk / Float / Shake</td>\n",
       "      <td>Rum</td>\n",
       "      <td>NaN</td>\n",
       "      <td>15.0</td>\n",
       "      <td>NaN</td>\n",
       "      <td>ml</td>\n",
       "      <td>15.0</td>\n",
       "      <td>rum</td>\n",
       "    </tr>\n",
       "    <tr>\n",
       "      <th>4</th>\n",
       "      <td>155 Belmont</td>\n",
       "      <td>Cocktail</td>\n",
       "      <td>Rum</td>\n",
       "      <td>NaN</td>\n",
       "      <td>25.0</td>\n",
       "      <td>NaN</td>\n",
       "      <td>ml</td>\n",
       "      <td>25.0</td>\n",
       "      <td>rum</td>\n",
       "    </tr>\n",
       "  </tbody>\n",
       "</table>\n",
       "</div>"
      ],
      "text/plain": [
       "                               strDrink           strCategory        Alc_type  \\\n",
       "0  '57 Chevy with a White License Plate              Cocktail  Creamy Liqueur   \n",
       "1                        1-900-FUK-MEUP                  Shot           Vodka   \n",
       "2                      110 in the shade                  Beer            Beer   \n",
       "3                151 Florida Bushwacker  Milk / Float / Shake             Rum   \n",
       "4                           155 Belmont              Cocktail             Rum   \n",
       "\n",
       "  non_alc_ingredients  Value_ml  Value_gr Measure  Value     Ingredients  \n",
       "0                 NaN      30.0       NaN      ml   30.0  creamy_liqueur  \n",
       "1                 NaN      15.0       NaN      ml   15.0           vodka  \n",
       "2                 NaN     480.0       NaN      ml  480.0            beer  \n",
       "3                 NaN      15.0       NaN      ml   15.0             rum  \n",
       "4                 NaN      25.0       NaN      ml   25.0             rum  "
      ]
     },
     "execution_count": 28,
     "metadata": {},
     "output_type": "execute_result"
    }
   ],
   "source": [
    "# Combine values in one column and define measure for each in a separate column\n",
    "\n",
    "df_measures['Measure'] = np.where(df_measures['Value_ml'].isnull(), 'gr', 'ml')\n",
    "df_measures['Value'] = df_measures['Value_ml'].fillna(0) + df_measures['Value_gr'].fillna(0)\n",
    "df_measures['Ingredients'] = df_measures['Alc_type'].fillna('') + df_measures['non_alc_ingredients'].fillna('')\n",
    "df_measures['Ingredients'] = df_measures['Ingredients'].apply(lambda x: x.lower()).apply(lambda x: x.replace(' ', '_'))\n",
    "df_measures.head()"
   ]
  },
  {
   "cell_type": "code",
   "execution_count": 29,
   "metadata": {},
   "outputs": [
    {
     "data": {
      "text/html": [
       "<div>\n",
       "<style scoped>\n",
       "    .dataframe tbody tr th:only-of-type {\n",
       "        vertical-align: middle;\n",
       "    }\n",
       "\n",
       "    .dataframe tbody tr th {\n",
       "        vertical-align: top;\n",
       "    }\n",
       "\n",
       "    .dataframe thead th {\n",
       "        text-align: right;\n",
       "    }\n",
       "</style>\n",
       "<table border=\"1\" class=\"dataframe\">\n",
       "  <thead>\n",
       "    <tr style=\"text-align: right;\">\n",
       "      <th></th>\n",
       "      <th>strDrink</th>\n",
       "      <th>strCategory</th>\n",
       "      <th>Alc_type</th>\n",
       "      <th>non_alc_ingredients</th>\n",
       "      <th>Value_ml</th>\n",
       "      <th>Value_gr</th>\n",
       "      <th>Measure</th>\n",
       "      <th>Value</th>\n",
       "      <th>Ingredients</th>\n",
       "      <th>Value_Measure</th>\n",
       "    </tr>\n",
       "  </thead>\n",
       "  <tbody>\n",
       "    <tr>\n",
       "      <th>0</th>\n",
       "      <td>'57 Chevy with a White License Plate</td>\n",
       "      <td>Cocktail</td>\n",
       "      <td>Creamy Liqueur</td>\n",
       "      <td>NaN</td>\n",
       "      <td>30.0</td>\n",
       "      <td>NaN</td>\n",
       "      <td>ml</td>\n",
       "      <td>30.0</td>\n",
       "      <td>creamy_liqueur</td>\n",
       "      <td>30.0 ml</td>\n",
       "    </tr>\n",
       "    <tr>\n",
       "      <th>1</th>\n",
       "      <td>1-900-FUK-MEUP</td>\n",
       "      <td>Shot</td>\n",
       "      <td>Vodka</td>\n",
       "      <td>NaN</td>\n",
       "      <td>15.0</td>\n",
       "      <td>NaN</td>\n",
       "      <td>ml</td>\n",
       "      <td>15.0</td>\n",
       "      <td>vodka</td>\n",
       "      <td>15.0 ml</td>\n",
       "    </tr>\n",
       "    <tr>\n",
       "      <th>2</th>\n",
       "      <td>110 in the shade</td>\n",
       "      <td>Beer</td>\n",
       "      <td>Beer</td>\n",
       "      <td>NaN</td>\n",
       "      <td>480.0</td>\n",
       "      <td>NaN</td>\n",
       "      <td>ml</td>\n",
       "      <td>480.0</td>\n",
       "      <td>beer</td>\n",
       "      <td>480.0 ml</td>\n",
       "    </tr>\n",
       "    <tr>\n",
       "      <th>3</th>\n",
       "      <td>151 Florida Bushwacker</td>\n",
       "      <td>Milk / Float / Shake</td>\n",
       "      <td>Rum</td>\n",
       "      <td>NaN</td>\n",
       "      <td>15.0</td>\n",
       "      <td>NaN</td>\n",
       "      <td>ml</td>\n",
       "      <td>15.0</td>\n",
       "      <td>rum</td>\n",
       "      <td>15.0 ml</td>\n",
       "    </tr>\n",
       "    <tr>\n",
       "      <th>4</th>\n",
       "      <td>155 Belmont</td>\n",
       "      <td>Cocktail</td>\n",
       "      <td>Rum</td>\n",
       "      <td>NaN</td>\n",
       "      <td>25.0</td>\n",
       "      <td>NaN</td>\n",
       "      <td>ml</td>\n",
       "      <td>25.0</td>\n",
       "      <td>rum</td>\n",
       "      <td>25.0 ml</td>\n",
       "    </tr>\n",
       "  </tbody>\n",
       "</table>\n",
       "</div>"
      ],
      "text/plain": [
       "                               strDrink           strCategory        Alc_type  \\\n",
       "0  '57 Chevy with a White License Plate              Cocktail  Creamy Liqueur   \n",
       "1                        1-900-FUK-MEUP                  Shot           Vodka   \n",
       "2                      110 in the shade                  Beer            Beer   \n",
       "3                151 Florida Bushwacker  Milk / Float / Shake             Rum   \n",
       "4                           155 Belmont              Cocktail             Rum   \n",
       "\n",
       "  non_alc_ingredients  Value_ml  Value_gr Measure  Value     Ingredients  \\\n",
       "0                 NaN      30.0       NaN      ml   30.0  creamy_liqueur   \n",
       "1                 NaN      15.0       NaN      ml   15.0           vodka   \n",
       "2                 NaN     480.0       NaN      ml  480.0            beer   \n",
       "3                 NaN      15.0       NaN      ml   15.0             rum   \n",
       "4                 NaN      25.0       NaN      ml   25.0             rum   \n",
       "\n",
       "  Value_Measure  \n",
       "0       30.0 ml  \n",
       "1       15.0 ml  \n",
       "2      480.0 ml  \n",
       "3       15.0 ml  \n",
       "4       25.0 ml  "
      ]
     },
     "execution_count": 29,
     "metadata": {},
     "output_type": "execute_result"
    }
   ],
   "source": [
    "# Combine value and measure in one string, this way it will be easier to pick up random value together with correct measure\n",
    "\n",
    "df_measures['Value'] = df_measures['Value'].astype('object').apply(lambda x: str(x))\n",
    "df_measures['Value_Measure'] = df_measures[['Value', 'Measure']].apply(lambda x: ' '.join(x), axis=1)\n",
    "df_measures.head()"
   ]
  },
  {
   "cell_type": "code",
   "execution_count": 39,
   "metadata": {
    "scrolled": true
   },
   "outputs": [
    {
     "data": {
      "text/html": [
       "<div>\n",
       "<style scoped>\n",
       "    .dataframe tbody tr th:only-of-type {\n",
       "        vertical-align: middle;\n",
       "    }\n",
       "\n",
       "    .dataframe tbody tr th {\n",
       "        vertical-align: top;\n",
       "    }\n",
       "\n",
       "    .dataframe thead th {\n",
       "        text-align: right;\n",
       "    }\n",
       "</style>\n",
       "<table border=\"1\" class=\"dataframe\">\n",
       "  <thead>\n",
       "    <tr style=\"text-align: right;\">\n",
       "      <th></th>\n",
       "      <th>Ingredient</th>\n",
       "      <th>Volume</th>\n",
       "    </tr>\n",
       "  </thead>\n",
       "  <tbody>\n",
       "    <tr>\n",
       "      <th>0</th>\n",
       "      <td>lime</td>\n",
       "      <td>30.0 ml</td>\n",
       "    </tr>\n",
       "    <tr>\n",
       "      <th>1</th>\n",
       "      <td>rum</td>\n",
       "      <td>25.0 ml</td>\n",
       "    </tr>\n",
       "    <tr>\n",
       "      <th>2</th>\n",
       "      <td>grenadine</td>\n",
       "      <td>4.0 gr</td>\n",
       "    </tr>\n",
       "    <tr>\n",
       "      <th>3</th>\n",
       "      <td>lemon-lime_soda</td>\n",
       "      <td>0.0 gr</td>\n",
       "    </tr>\n",
       "    <tr>\n",
       "      <th>4</th>\n",
       "      <td>rum</td>\n",
       "      <td>60.0 ml</td>\n",
       "    </tr>\n",
       "    <tr>\n",
       "      <th>5</th>\n",
       "      <td>maple_syrup</td>\n",
       "      <td>30.0 ml</td>\n",
       "    </tr>\n",
       "    <tr>\n",
       "      <th>6</th>\n",
       "      <td>rum</td>\n",
       "      <td>25.0 ml</td>\n",
       "    </tr>\n",
       "  </tbody>\n",
       "</table>\n",
       "</div>"
      ],
      "text/plain": [
       "        Ingredient   Volume\n",
       "0             lime  30.0 ml\n",
       "1              rum  25.0 ml\n",
       "2        grenadine   4.0 gr\n",
       "3  lemon-lime_soda   0.0 gr\n",
       "4              rum  60.0 ml\n",
       "5      maple_syrup  30.0 ml\n",
       "6              rum  25.0 ml"
      ]
     },
     "execution_count": 39,
     "metadata": {},
     "output_type": "execute_result"
    }
   ],
   "source": [
    "# Pick up random volume of each ingredient\n",
    "\n",
    "volume = [random.choice(df_measures.loc[df_measures['Ingredients'] == i]['Value_Measure'].tolist()) for i in new_cocktail]\n",
    "new_cocktail_final = pd.DataFrame({'Ingredient': new_cocktail, 'Volume': volume})\n",
    "new_cocktail_final"
   ]
  },
  {
   "cell_type": "code",
   "execution_count": null,
   "metadata": {},
   "outputs": [],
   "source": []
  },
  {
   "cell_type": "code",
   "execution_count": null,
   "metadata": {},
   "outputs": [],
   "source": []
  },
  {
   "cell_type": "code",
   "execution_count": null,
   "metadata": {},
   "outputs": [],
   "source": []
  },
  {
   "cell_type": "code",
   "execution_count": null,
   "metadata": {},
   "outputs": [],
   "source": []
  },
  {
   "cell_type": "code",
   "execution_count": null,
   "metadata": {},
   "outputs": [],
   "source": []
  },
  {
   "cell_type": "code",
   "execution_count": null,
   "metadata": {},
   "outputs": [],
   "source": []
  },
  {
   "cell_type": "code",
   "execution_count": null,
   "metadata": {},
   "outputs": [],
   "source": []
  }
 ],
 "metadata": {
  "kernelspec": {
   "display_name": "Python 3",
   "language": "python",
   "name": "python3"
  },
  "language_info": {
   "codemirror_mode": {
    "name": "ipython",
    "version": 3
   },
   "file_extension": ".py",
   "mimetype": "text/x-python",
   "name": "python",
   "nbconvert_exporter": "python",
   "pygments_lexer": "ipython3",
   "version": "3.8.3"
  }
 },
 "nbformat": 4,
 "nbformat_minor": 4
}
